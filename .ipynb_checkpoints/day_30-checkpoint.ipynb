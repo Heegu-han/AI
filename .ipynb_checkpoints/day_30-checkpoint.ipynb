{
 "cells": [
  {
   "cell_type": "markdown",
   "metadata": {},
   "source": [
    "# 30일차\n",
    "\n",
    "## 신경망\n",
    "\n",
    "### 연습문제\n",
    "- 미니배치는 입력데이터를 여러 조각으로 나누어 각자 훈련시키는 것이다.\n",
    "- 행복데이터에서 배치 크기를 64로 해서 각 배치의 출력값과 오차값을 계산해보자. (배치를 자르기 전에 먼저 데이터를 섞어야 한다.)\n",
    "- 주요 속성 6개를 입력값으로, 행복지수를 출력값으로 하는 회귀 문제이다.\n",
    "- 중간층은 하나이며 256개의 노드를 가진다. 중간층의 활성화 함수는 시그모이드이다.\n",
    "- 가능하면 입력데이터를 정규화한다."
   ]
  },
  {
   "cell_type": "code",
   "execution_count": 1,
   "metadata": {},
   "outputs": [],
   "source": [
    "import numpy as np\n",
    "import pandas as pd\n",
    "import matplotlib.pyplot as plt"
   ]
  },
  {
   "cell_type": "code",
   "execution_count": 2,
   "metadata": {},
   "outputs": [
    {
     "data": {
      "text/plain": [
       "(149, 20)"
      ]
     },
     "execution_count": 2,
     "metadata": {},
     "output_type": "execute_result"
    }
   ],
   "source": [
    "happy=pd.read_csv('world_happiness_report_2021.csv')\n",
    "happy.shape"
   ]
  },
  {
   "cell_type": "code",
   "execution_count": 3,
   "metadata": {},
   "outputs": [],
   "source": [
    "X=happy.iloc[:,6:12].values\n",
    "y=happy['Ladder score'].values"
   ]
  },
  {
   "cell_type": "code",
   "execution_count": 4,
   "metadata": {},
   "outputs": [
    {
     "data": {
      "text/plain": [
       "array([ 89, 133,  67,  18,  73,  97, 143, 144, 113,  81,  79, 146,   2,\n",
       "        76, 119, 140,  70,  43,  33,  75,  19,  96,  63,  47, 104,  35,\n",
       "       137, 116,  13,  69,  54,  16, 128,  65,  28,  91, 120, 122,  41,\n",
       "         9,  36,  11,  84,  12,  49,  83,  26,  55, 138,  58,  10, 117,\n",
       "        31,   1, 134, 110,  71,  23,  57, 147,  20,  61,  78, 111,  72,\n",
       "       109,  34, 103, 130, 106, 135, 127,  53,  37,  25,   7,  17, 118,\n",
       "       139,  15,  56, 101,  22,  38,  50,  51,  86, 145, 131, 108,  93,\n",
       "        85, 142,   4,  66,  30,  52,  48,  62,  94,  77, 102, 125,  87,\n",
       "       115,  80, 124,  21,  24,  45,  39,  95,  14,   0, 100,  99,  40,\n",
       "         5, 129,  44, 132, 141,   3,  60,  68, 123, 148, 126, 114, 121,\n",
       "        42, 105,  92,  59,   8,  27,  46,   6,  88,  82, 107, 112,  32,\n",
       "        74,  29, 136,  98,  90,  64])"
      ]
     },
     "execution_count": 4,
     "metadata": {},
     "output_type": "execute_result"
    }
   ],
   "source": [
    "idx=np.random.permutation(range(149))\n",
    "idx"
   ]
  },
  {
   "cell_type": "code",
   "execution_count": 7,
   "metadata": {},
   "outputs": [],
   "source": [
    "X1=X[idx[:64]]\n",
    "y1=y[idx[:64]]\n",
    "X1=(X1-X1.mean(axis=0))/X1.std(axis=0)"
   ]
  },
  {
   "cell_type": "code",
   "execution_count": 6,
   "metadata": {},
   "outputs": [],
   "source": [
    "X2=X[idx[64:128]]\n",
    "y2=y[idx[64:128]]\n",
    "X2=(X2-X2.mean(axis=0))/X2.std(axis=0)"
   ]
  },
  {
   "cell_type": "code",
   "execution_count": 8,
   "metadata": {},
   "outputs": [],
   "source": [
    "X3=X[idx[128:]]\n",
    "y3=y[idx[128:]]\n",
    "X3=(X3-X3.mean(axis=0))/X3.std(axis=0)"
   ]
  },
  {
   "cell_type": "code",
   "execution_count": null,
   "metadata": {},
   "outputs": [],
   "source": []
  },
  {
   "cell_type": "code",
   "execution_count": 9,
   "metadata": {},
   "outputs": [],
   "source": [
    "import tensorflow as tf\n",
    "from tensorflow import keras"
   ]
  },
  {
   "cell_type": "code",
   "execution_count": 10,
   "metadata": {},
   "outputs": [
    {
     "data": {
      "text/plain": [
       "<tf.Tensor: shape=(7,), dtype=int32, numpy=array([0, 0, 0, 0, 1, 2, 3])>"
      ]
     },
     "execution_count": 10,
     "metadata": {},
     "output_type": "execute_result"
    }
   ],
   "source": [
    "tf.nn.relu([-3,-2,-1,0,1,2,3])"
   ]
  },
  {
   "cell_type": "code",
   "execution_count": 12,
   "metadata": {},
   "outputs": [
    {
     "data": {
      "text/plain": [
       "0.0"
      ]
     },
     "execution_count": 12,
     "metadata": {},
     "output_type": "execute_result"
    }
   ],
   "source": [
    "tf.math.sin(0.).numpy()"
   ]
  },
  {
   "cell_type": "code",
   "execution_count": null,
   "metadata": {},
   "outputs": [],
   "source": []
  },
  {
   "cell_type": "markdown",
   "metadata": {},
   "source": [
    "### MNIST 경사하강법 적용"
   ]
  },
  {
   "cell_type": "code",
   "execution_count": 13,
   "metadata": {},
   "outputs": [
    {
     "name": "stdout",
     "output_type": "stream",
     "text": [
      "Downloading data from https://storage.googleapis.com/tensorflow/tf-keras-datasets/mnist.npz\n",
      "11493376/11490434 [==============================] - 0s 0us/step\n"
     ]
    },
    {
     "data": {
      "text/plain": [
       "((60000, 28, 28), (60000,), (10000, 28, 28), (10000,))"
      ]
     },
     "execution_count": 13,
     "metadata": {},
     "output_type": "execute_result"
    }
   ],
   "source": [
    "(X_train,y_train),(X_test,y_test)=keras.datasets.mnist.load_data()\n",
    "X_train.shape,y_train.shape,X_test.shape,y_test.shape"
   ]
  },
  {
   "cell_type": "code",
   "execution_count": 14,
   "metadata": {},
   "outputs": [
    {
     "data": {
      "text/plain": [
       "(0, 255)"
      ]
     },
     "execution_count": 14,
     "metadata": {},
     "output_type": "execute_result"
    }
   ],
   "source": [
    "X_train.min(),X_train.max()"
   ]
  },
  {
   "cell_type": "code",
   "execution_count": 15,
   "metadata": {},
   "outputs": [
    {
     "data": {
      "text/plain": [
       "Text(0.5, 1.0, '5')"
      ]
     },
     "execution_count": 15,
     "metadata": {},
     "output_type": "execute_result"
    },
    {
     "data": {
      "image/png": "[encoded data removed]",
      "text/plain": [
       "<Figure size 432x288 with 1 Axes>"
      ]
     },
     "metadata": {
      "needs_background": "light"
     },
     "output_type": "display_data"
    }
   ],
   "source": [
    "plt.imshow(X_train[0],cmap='gray_r',vmin=0,vmax=255)\n",
    "plt.title(y_train[0])"
   ]
  },
  {
   "cell_type": "code",
   "execution_count": 16,
   "metadata": {},
   "outputs": [
    {
     "data": {
      "text/plain": [
       "((60000, 784), (10000, 784))"
      ]
     },
     "execution_count": 16,
     "metadata": {},
     "output_type": "execute_result"
    }
   ],
   "source": [
    "X_train=X_train.reshape(-1,28*28)/255\n",
    "X_test=X_test.reshape(-1,28*28)/255\n",
    "X_train.shape,X_test.shape"
   ]
  },
  {
   "cell_type": "code",
   "execution_count": 29,
   "metadata": {},
   "outputs": [],
   "source": [
    "# 가중치 초기화\n",
    "W=tf.Variable(np.random.normal(0,0.1,size=[784,10]))\n",
    "b=tf.Variable(np.zeros(10))"
   ]
  },
  {
   "cell_type": "code",
   "execution_count": 18,
   "metadata": {},
   "outputs": [
    {
     "data": {
      "text/plain": [
       "<tf.Tensor: shape=(60000, 10), dtype=float64, numpy=\n",
       "array([[0.06457323, 0.088207  , 0.09379576, ..., 0.03754191, 0.06763539,\n",
       "        0.3292972 ],\n",
       "       [0.04712078, 0.17312135, 0.08276292, ..., 0.01070799, 0.10871429,\n",
       "        0.13007382],\n",
       "       [0.11083919, 0.08990058, 0.05844288, ..., 0.11467887, 0.01792909,\n",
       "        0.40573079],\n",
       "       ...,\n",
       "       [0.13123438, 0.04241704, 0.03760423, ..., 0.04842362, 0.16071272,\n",
       "        0.23585718],\n",
       "       [0.0363834 , 0.17145077, 0.1254504 , ..., 0.04064134, 0.1141165 ,\n",
       "        0.14325198],\n",
       "       [0.15675023, 0.12156284, 0.03439759, ..., 0.020586  , 0.06641229,\n",
       "        0.21616103]])>"
      ]
     },
     "execution_count": 18,
     "metadata": {},
     "output_type": "execute_result"
    }
   ],
   "source": [
    "pred_y=tf.nn.softmax(X_train@W+b)\n",
    "pred_y"
   ]
  },
  {
   "cell_type": "code",
   "execution_count": null,
   "metadata": {},
   "outputs": [],
   "source": []
  },
  {
   "cell_type": "code",
   "execution_count": 27,
   "metadata": {},
   "outputs": [
    {
     "name": "stdout",
     "output_type": "stream",
     "text": [
      "0 2.559592805438929\n",
      "1 2.557433512319234\n",
      "2 2.5552858026979113\n",
      "3 2.553149542409012\n",
      "4 2.551024599343243\n",
      "5 2.548910843409527\n",
      "6 2.5468081464973946\n",
      "7 2.544716382440174\n",
      "8 2.542635426978972\n",
      "9 2.5405651577274257\n",
      "10 2.538505454137199\n",
      "11 2.5364561974642186\n",
      "12 2.534417270735628\n",
      "13 2.532388558717432\n",
      "14 2.5303699478828414\n",
      "15 2.5283613263812783\n",
      "16 2.526362584008028\n",
      "17 2.5243736121745446\n",
      "18 2.522394303879371\n",
      "19 2.5204245536796677\n",
      "20 2.5184642576633443\n",
      "21 2.516513313421767\n",
      "22 2.5145716200230344\n",
      "23 2.5126390779858134\n",
      "24 2.5107155892537167\n",
      "25 2.508801057170209\n",
      "26 2.5068953864540275\n",
      "27 2.5049984831751226\n",
      "28 2.503110254731079\n",
      "29 2.5012306098240265\n",
      "30 2.4993594584380245\n",
      "31 2.4974967118169045\n",
      "32 2.495642282442571\n",
      "33 2.493796084013734\n",
      "34 2.4919580314250798\n",
      "35 2.4901280407468604\n",
      "36 2.4883060292048937\n",
      "37 2.4864919151609692\n",
      "38 2.4846856180936436\n",
      "39 2.4828870585794243\n",
      "40 2.481096158274323\n",
      "41 2.479312839895785\n",
      "42 2.47753702720497\n",
      "43 2.4757686449893876\n",
      "44 2.4740076190458766\n",
      "45 2.4722538761639146\n",
      "46 2.470507344109265\n",
      "47 2.468767951607934\n",
      "48 2.4670356283304486\n",
      "49 2.4653103048764393\n",
      "50 2.46359191275952\n",
      "51 2.4618803843924644\n",
      "52 2.4601756530726693\n",
      "53 2.4584776529678924\n",
      "54 2.4567863191022727\n",
      "55 2.455101587342613\n",
      "56 2.4534233943849264\n",
      "57 2.45175167774124\n",
      "58 2.4500863757266487\n",
      "59 2.4484274274466147\n",
      "60 2.446774772784508\n",
      "61 2.445128352389379\n",
      "62 2.443488107663964\n",
      "63 2.441853980752915\n",
      "64 2.4402259145312475\n",
      "65 2.438603852593007\n",
      "66 2.4369877392401396\n",
      "67 2.4353775194715808\n",
      "68 2.433773138972528\n",
      "69 2.4321745441039324\n",
      "70 2.4305816818921637\n",
      "71 2.4289945000188764\n",
      "72 2.427412946811057\n",
      "73 2.4258369712312535\n",
      "74 2.4242665228679816\n",
      "75 2.4227015519263024\n",
      "76 2.4211420092185776\n",
      "77 2.4195878461553804\n",
      "78 2.418039014736578\n",
      "79 2.4164954675425716\n",
      "80 2.414957157725688\n",
      "81 2.4134240390017316\n",
      "82 2.4118960656416797\n",
      "83 2.4103731924635308\n",
      "84 2.4088553748242907\n",
      "85 2.407342568612103\n",
      "86 2.4058347302385164\n",
      "87 2.4043318166308874\n",
      "88 2.4028337852249155\n",
      "89 2.401340593957308\n",
      "90 2.399852201258571\n",
      "91 2.3983685660459266\n",
      "92 2.3968896477163506\n",
      "93 2.39541540613973\n",
      "94 2.393945801652138\n",
      "95 2.3924807950492237\n",
      "96 2.391020347579714\n",
      "97 2.389564420939029\n",
      "98 2.3881129772629954\n",
      "99 2.3866659791216804\n",
      "100 2.385223389513319\n",
      "101 2.383785171858345\n",
      "102 2.3823512899935246\n",
      "103 2.380921708166185\n",
      "104 2.3794963910285425\n",
      "105 2.3780753036321194\n",
      "106 2.376658411422257\n",
      "107 2.375245680232719\n",
      "108 2.3738370762803824\n",
      "109 2.372432566160015\n",
      "110 2.3710321168391415\n",
      "111 2.3696356956529865\n",
      "112 2.368243270299508\n",
      "113 2.3668548088345056\n",
      "114 2.36547027966681\n",
      "115 2.3640896515535497\n",
      "116 2.3627128935954937\n",
      "117 2.3613399752324664\n",
      "118 2.359970866238843\n",
      "119 2.358605536719106\n",
      "120 2.3572439571034836\n",
      "121 2.3558860981436474\n",
      "122 2.354531930908484\n",
      "123 2.3531814267799316\n",
      "124 2.351834557448882\n",
      "125 2.3504912949111487\n",
      "126 2.3491516114634905\n",
      "127 2.3478154796997086\n",
      "128 2.346482872506796\n",
      "129 2.3451537630611488\n",
      "130 2.343828124824836\n",
      "131 2.342505931541928\n",
      "132 2.341187157234881\n",
      "133 2.3398717762009738\n",
      "134 2.3385597630088037\n",
      "135 2.337251092494835\n",
      "136 2.3359457397599965\n",
      "137 2.3346436801663324\n",
      "138 2.3333448893337057\n",
      "139 2.3320493431365508\n",
      "140 2.3307570177006713\n",
      "141 2.3294678894000933\n",
      "142 2.328181934853954\n",
      "143 2.3268991309234512\n",
      "144 2.3256194547088263\n",
      "145 2.3243428835463966\n",
      "146 2.3230693950056343\n",
      "147 2.3217989668862846\n",
      "148 2.320531577215526\n",
      "149 2.3192672042451763\n",
      "150 2.3180058264489363\n",
      "151 2.3167474225196725\n",
      "152 2.3154919713667446\n",
      "153 2.314239452113368\n",
      "154 2.312989844094012\n",
      "155 2.311743126851845\n",
      "156 2.3104992801362045\n",
      "157 2.309258283900113\n",
      "158 2.3080201182978253\n",
      "159 2.30678476368241\n",
      "160 2.3055522006033713\n",
      "161 2.3043224098042945\n",
      "162 2.303095372220538\n",
      "163 2.3018710689769444\n",
      "164 2.300649481385595\n",
      "165 2.2994305909435915\n",
      "166 2.298214379330865\n",
      "167 2.297000828408025\n",
      "168 2.295789920214229\n",
      "169 2.294581636965088\n",
      "170 2.2933759610506006\n",
      "171 2.292172875033111\n",
      "172 2.290972361645302\n",
      "173 2.2897744037882117\n",
      "174 2.288578984529275\n",
      "175 2.287386087100402\n",
      "176 2.286195694896071\n",
      "177 2.2850077914714535\n",
      "178 2.2838223605405665\n",
      "179 2.282639385974446\n",
      "180 2.2814588517993464\n",
      "181 2.2802807421949676\n",
      "182 2.2791050414926994\n",
      "183 2.277931734173895\n",
      "184 2.27676080486817\n",
      "185 2.2755922383517144\n",
      "186 2.2744260195456394\n",
      "187 2.2732621335143337\n",
      "188 2.2721005654638557\n",
      "189 2.2709413007403345\n",
      "190 2.269784324828399\n",
      "191 2.268629623349626\n",
      "192 2.26747718206101\n",
      "193 2.266326986853451\n",
      "194 2.2651790237502616\n",
      "195 2.264033278905701\n",
      "196 2.2628897386035174\n",
      "197 2.261748389255516\n",
      "198 2.260609217400146\n",
      "199 2.259472209701102\n",
      "200 2.2583373529459485\n",
      "201 2.2572046340447574\n",
      "202 2.256074040028765\n",
      "203 2.2549455580490507\n",
      "204 2.2538191753752224\n",
      "205 2.2526948793941304\n",
      "206 2.251572657608589\n",
      "207 2.250452497636118\n",
      "208 2.2493343872077047\n",
      "209 2.2482183141665675\n",
      "210 2.247104266466955\n",
      "211 2.245992232172943\n",
      "212 2.2448821994572565\n",
      "213 2.243774156600102\n",
      "214 2.242668091988018\n",
      "215 2.2415639941127385\n",
      "216 2.240461851570066\n",
      "217 2.239361653058769\n",
      "218 2.238263387379483\n",
      "219 2.2371670434336286\n",
      "220 2.23607261022235\n",
      "221 2.2349800768454515\n",
      "222 2.233889432500364\n",
      "223 2.232800666481111\n",
      "224 2.2317137681772943\n",
      "225 2.230628727073092\n",
      "226 2.229545532746265\n",
      "227 2.2284641748671796\n",
      "228 2.227384643197839\n",
      "229 2.2263069275909277\n"
     ]
    },
    {
     "ename": "KeyboardInterrupt",
     "evalue": "",
     "output_type": "error",
     "traceback": [
      "\u001b[1;31m---------------------------------------------------------------------------\u001b[0m",
      "\u001b[1;31mKeyboardInterrupt\u001b[0m                         Traceback (most recent call last)",
      "\u001b[1;32m<ipython-input-27-91b496ebcdb3>\u001b[0m in \u001b[0;36m<module>\u001b[1;34m\u001b[0m\n\u001b[0;32m      8\u001b[0m         \u001b[1;31m# categorical cross-entropy:-log(p)\u001b[0m\u001b[1;33m\u001b[0m\u001b[1;33m\u001b[0m\u001b[1;33m\u001b[0m\u001b[0m\n\u001b[0;32m      9\u001b[0m         \u001b[0mloss\u001b[0m\u001b[1;33m=\u001b[0m\u001b[0mtf\u001b[0m\u001b[1;33m.\u001b[0m\u001b[0mreduce_sum\u001b[0m\u001b[1;33m(\u001b[0m\u001b[1;33m-\u001b[0m\u001b[0my_oneshot\u001b[0m\u001b[1;33m*\u001b[0m\u001b[0mtf\u001b[0m\u001b[1;33m.\u001b[0m\u001b[0mmath\u001b[0m\u001b[1;33m.\u001b[0m\u001b[0mlog\u001b[0m\u001b[1;33m(\u001b[0m\u001b[0mpred_y\u001b[0m\u001b[1;33m+\u001b[0m\u001b[0meps\u001b[0m\u001b[1;33m)\u001b[0m\u001b[1;33m)\u001b[0m\u001b[1;33m/\u001b[0m\u001b[0mlen\u001b[0m\u001b[1;33m(\u001b[0m\u001b[0my_train\u001b[0m\u001b[1;33m)\u001b[0m\u001b[1;33m\u001b[0m\u001b[1;33m\u001b[0m\u001b[0m\n\u001b[1;32m---> 10\u001b[1;33m     \u001b[0mW_grads\u001b[0m\u001b[1;33m,\u001b[0m\u001b[0mb_grads\u001b[0m\u001b[1;33m=\u001b[0m\u001b[0mtape\u001b[0m\u001b[1;33m.\u001b[0m\u001b[0mgradient\u001b[0m\u001b[1;33m(\u001b[0m\u001b[0mloss\u001b[0m\u001b[1;33m,\u001b[0m\u001b[1;33m[\u001b[0m\u001b[0mW\u001b[0m\u001b[1;33m,\u001b[0m\u001b[0mb\u001b[0m\u001b[1;33m]\u001b[0m\u001b[1;33m)\u001b[0m\u001b[1;33m\u001b[0m\u001b[1;33m\u001b[0m\u001b[0m\n\u001b[0m\u001b[0;32m     11\u001b[0m \u001b[1;33m\u001b[0m\u001b[0m\n\u001b[0;32m     12\u001b[0m     \u001b[0mW\u001b[0m\u001b[1;33m.\u001b[0m\u001b[0massign_sub\u001b[0m\u001b[1;33m(\u001b[0m\u001b[0mlr\u001b[0m\u001b[1;33m*\u001b[0m\u001b[0mW_grads\u001b[0m\u001b[1;33m)\u001b[0m\u001b[1;33m\u001b[0m\u001b[1;33m\u001b[0m\u001b[0m\n",
      "\u001b[1;32m~\\anaconda3\\lib\\site-packages\\tensorflow\\python\\eager\\backprop.py\u001b[0m in \u001b[0;36mgradient\u001b[1;34m(self, target, sources, output_gradients, unconnected_gradients)\u001b[0m\n\u001b[0;32m   1078\u001b[0m                           for x in nest.flatten(output_gradients)]\n\u001b[0;32m   1079\u001b[0m \u001b[1;33m\u001b[0m\u001b[0m\n\u001b[1;32m-> 1080\u001b[1;33m     flat_grad = imperative_grad.imperative_grad(\n\u001b[0m\u001b[0;32m   1081\u001b[0m         \u001b[0mself\u001b[0m\u001b[1;33m.\u001b[0m\u001b[0m_tape\u001b[0m\u001b[1;33m,\u001b[0m\u001b[1;33m\u001b[0m\u001b[1;33m\u001b[0m\u001b[0m\n\u001b[0;32m   1082\u001b[0m         \u001b[0mflat_targets\u001b[0m\u001b[1;33m,\u001b[0m\u001b[1;33m\u001b[0m\u001b[1;33m\u001b[0m\u001b[0m\n",
      "\u001b[1;32m~\\anaconda3\\lib\\site-packages\\tensorflow\\python\\eager\\imperative_grad.py\u001b[0m in \u001b[0;36mimperative_grad\u001b[1;34m(tape, target, sources, output_gradients, sources_raw, unconnected_gradients)\u001b[0m\n\u001b[0;32m     69\u001b[0m         \"Unknown value for unconnected_gradients: %r\" % unconnected_gradients)\n\u001b[0;32m     70\u001b[0m \u001b[1;33m\u001b[0m\u001b[0m\n\u001b[1;32m---> 71\u001b[1;33m   return pywrap_tfe.TFE_Py_TapeGradient(\n\u001b[0m\u001b[0;32m     72\u001b[0m       \u001b[0mtape\u001b[0m\u001b[1;33m.\u001b[0m\u001b[0m_tape\u001b[0m\u001b[1;33m,\u001b[0m  \u001b[1;31m# pylint: disable=protected-access\u001b[0m\u001b[1;33m\u001b[0m\u001b[1;33m\u001b[0m\u001b[0m\n\u001b[0;32m     73\u001b[0m       \u001b[0mtarget\u001b[0m\u001b[1;33m,\u001b[0m\u001b[1;33m\u001b[0m\u001b[1;33m\u001b[0m\u001b[0m\n",
      "\u001b[1;32m~\\anaconda3\\lib\\site-packages\\tensorflow\\python\\eager\\backprop.py\u001b[0m in \u001b[0;36m_gradient_function\u001b[1;34m(op_name, attr_tuple, num_inputs, inputs, outputs, out_grads, skip_input_indices, forward_pass_name_scope)\u001b[0m\n\u001b[0;32m    160\u001b[0m       \u001b[0mgradient_name_scope\u001b[0m \u001b[1;33m+=\u001b[0m \u001b[0mforward_pass_name_scope\u001b[0m \u001b[1;33m+\u001b[0m \u001b[1;34m\"/\"\u001b[0m\u001b[1;33m\u001b[0m\u001b[1;33m\u001b[0m\u001b[0m\n\u001b[0;32m    161\u001b[0m     \u001b[1;32mwith\u001b[0m \u001b[0mops\u001b[0m\u001b[1;33m.\u001b[0m\u001b[0mname_scope\u001b[0m\u001b[1;33m(\u001b[0m\u001b[0mgradient_name_scope\u001b[0m\u001b[1;33m)\u001b[0m\u001b[1;33m:\u001b[0m\u001b[1;33m\u001b[0m\u001b[1;33m\u001b[0m\u001b[0m\n\u001b[1;32m--> 162\u001b[1;33m       \u001b[1;32mreturn\u001b[0m \u001b[0mgrad_fn\u001b[0m\u001b[1;33m(\u001b[0m\u001b[0mmock_op\u001b[0m\u001b[1;33m,\u001b[0m \u001b[1;33m*\u001b[0m\u001b[0mout_grads\u001b[0m\u001b[1;33m)\u001b[0m\u001b[1;33m\u001b[0m\u001b[1;33m\u001b[0m\u001b[0m\n\u001b[0m\u001b[0;32m    163\u001b[0m   \u001b[1;32melse\u001b[0m\u001b[1;33m:\u001b[0m\u001b[1;33m\u001b[0m\u001b[1;33m\u001b[0m\u001b[0m\n\u001b[0;32m    164\u001b[0m     \u001b[1;32mreturn\u001b[0m \u001b[0mgrad_fn\u001b[0m\u001b[1;33m(\u001b[0m\u001b[0mmock_op\u001b[0m\u001b[1;33m,\u001b[0m \u001b[1;33m*\u001b[0m\u001b[0mout_grads\u001b[0m\u001b[1;33m)\u001b[0m\u001b[1;33m\u001b[0m\u001b[1;33m\u001b[0m\u001b[0m\n",
      "\u001b[1;32m~\\anaconda3\\lib\\site-packages\\tensorflow\\python\\ops\\math_grad.py\u001b[0m in \u001b[0;36m_MatMulGrad\u001b[1;34m(op, grad)\u001b[0m\n\u001b[0;32m   1682\u001b[0m         \u001b[1;32mreturn\u001b[0m \u001b[0m_MatMulGradAgainstFirstOnly\u001b[0m\u001b[1;33m(\u001b[0m\u001b[0mop\u001b[0m\u001b[1;33m,\u001b[0m \u001b[0mgrad\u001b[0m\u001b[1;33m)\u001b[0m\u001b[1;33m\u001b[0m\u001b[1;33m\u001b[0m\u001b[0m\n\u001b[0;32m   1683\u001b[0m       \u001b[1;32melif\u001b[0m \u001b[1;36m0\u001b[0m \u001b[1;32min\u001b[0m \u001b[0mskip_input_indices\u001b[0m\u001b[1;33m:\u001b[0m\u001b[1;33m\u001b[0m\u001b[1;33m\u001b[0m\u001b[0m\n\u001b[1;32m-> 1684\u001b[1;33m         \u001b[1;32mreturn\u001b[0m \u001b[0m_MatMulGradAgainstSecondOnly\u001b[0m\u001b[1;33m(\u001b[0m\u001b[0mop\u001b[0m\u001b[1;33m,\u001b[0m \u001b[0mgrad\u001b[0m\u001b[1;33m)\u001b[0m\u001b[1;33m\u001b[0m\u001b[1;33m\u001b[0m\u001b[0m\n\u001b[0m\u001b[0;32m   1685\u001b[0m   \u001b[1;32mexcept\u001b[0m \u001b[0mAttributeError\u001b[0m\u001b[1;33m:\u001b[0m\u001b[1;33m\u001b[0m\u001b[1;33m\u001b[0m\u001b[0m\n\u001b[0;32m   1686\u001b[0m     \u001b[1;31m# No gradient skipping, so do the full gradient computation\u001b[0m\u001b[1;33m\u001b[0m\u001b[1;33m\u001b[0m\u001b[1;33m\u001b[0m\u001b[0m\n",
      "\u001b[1;32m~\\anaconda3\\lib\\site-packages\\tensorflow\\python\\ops\\math_grad.py\u001b[0m in \u001b[0;36m_MatMulGradAgainstSecondOnly\u001b[1;34m(op, grad)\u001b[0m\n\u001b[0;32m   1663\u001b[0m   \u001b[0ma\u001b[0m \u001b[1;33m=\u001b[0m \u001b[0mmath_ops\u001b[0m\u001b[1;33m.\u001b[0m\u001b[0mconj\u001b[0m\u001b[1;33m(\u001b[0m\u001b[0mop\u001b[0m\u001b[1;33m.\u001b[0m\u001b[0minputs\u001b[0m\u001b[1;33m[\u001b[0m\u001b[1;36m0\u001b[0m\u001b[1;33m]\u001b[0m\u001b[1;33m)\u001b[0m\u001b[1;33m\u001b[0m\u001b[1;33m\u001b[0m\u001b[0m\n\u001b[0;32m   1664\u001b[0m   \u001b[1;32mif\u001b[0m \u001b[1;32mnot\u001b[0m \u001b[0mt_a\u001b[0m \u001b[1;32mand\u001b[0m \u001b[1;32mnot\u001b[0m \u001b[0mt_b\u001b[0m\u001b[1;33m:\u001b[0m\u001b[1;33m\u001b[0m\u001b[1;33m\u001b[0m\u001b[0m\n\u001b[1;32m-> 1665\u001b[1;33m     \u001b[0mgrad_b\u001b[0m \u001b[1;33m=\u001b[0m \u001b[0mgen_math_ops\u001b[0m\u001b[1;33m.\u001b[0m\u001b[0mmat_mul\u001b[0m\u001b[1;33m(\u001b[0m\u001b[0ma\u001b[0m\u001b[1;33m,\u001b[0m \u001b[0mgrad\u001b[0m\u001b[1;33m,\u001b[0m \u001b[0mtranspose_a\u001b[0m\u001b[1;33m=\u001b[0m\u001b[1;32mTrue\u001b[0m\u001b[1;33m)\u001b[0m\u001b[1;33m\u001b[0m\u001b[1;33m\u001b[0m\u001b[0m\n\u001b[0m\u001b[0;32m   1666\u001b[0m   \u001b[1;32melif\u001b[0m \u001b[1;32mnot\u001b[0m \u001b[0mt_a\u001b[0m \u001b[1;32mand\u001b[0m \u001b[0mt_b\u001b[0m\u001b[1;33m:\u001b[0m\u001b[1;33m\u001b[0m\u001b[1;33m\u001b[0m\u001b[0m\n\u001b[0;32m   1667\u001b[0m     \u001b[0mgrad_b\u001b[0m \u001b[1;33m=\u001b[0m \u001b[0mgen_math_ops\u001b[0m\u001b[1;33m.\u001b[0m\u001b[0mmat_mul\u001b[0m\u001b[1;33m(\u001b[0m\u001b[0mgrad\u001b[0m\u001b[1;33m,\u001b[0m \u001b[0ma\u001b[0m\u001b[1;33m,\u001b[0m \u001b[0mtranspose_a\u001b[0m\u001b[1;33m=\u001b[0m\u001b[1;32mTrue\u001b[0m\u001b[1;33m)\u001b[0m\u001b[1;33m\u001b[0m\u001b[1;33m\u001b[0m\u001b[0m\n",
      "\u001b[1;32m~\\anaconda3\\lib\\site-packages\\tensorflow\\python\\ops\\gen_math_ops.py\u001b[0m in \u001b[0;36mmat_mul\u001b[1;34m(a, b, transpose_a, transpose_b, name)\u001b[0m\n\u001b[0;32m   5524\u001b[0m   \u001b[1;32mif\u001b[0m \u001b[0mtld\u001b[0m\u001b[1;33m.\u001b[0m\u001b[0mis_eager\u001b[0m\u001b[1;33m:\u001b[0m\u001b[1;33m\u001b[0m\u001b[1;33m\u001b[0m\u001b[0m\n\u001b[0;32m   5525\u001b[0m     \u001b[1;32mtry\u001b[0m\u001b[1;33m:\u001b[0m\u001b[1;33m\u001b[0m\u001b[1;33m\u001b[0m\u001b[0m\n\u001b[1;32m-> 5526\u001b[1;33m       _result = pywrap_tfe.TFE_Py_FastPathExecute(\n\u001b[0m\u001b[0;32m   5527\u001b[0m         \u001b[0m_ctx\u001b[0m\u001b[1;33m,\u001b[0m \u001b[1;34m\"MatMul\"\u001b[0m\u001b[1;33m,\u001b[0m \u001b[0mname\u001b[0m\u001b[1;33m,\u001b[0m \u001b[0ma\u001b[0m\u001b[1;33m,\u001b[0m \u001b[0mb\u001b[0m\u001b[1;33m,\u001b[0m \u001b[1;34m\"transpose_a\"\u001b[0m\u001b[1;33m,\u001b[0m \u001b[0mtranspose_a\u001b[0m\u001b[1;33m,\u001b[0m \u001b[1;34m\"transpose_b\"\u001b[0m\u001b[1;33m,\u001b[0m\u001b[1;33m\u001b[0m\u001b[1;33m\u001b[0m\u001b[0m\n\u001b[0;32m   5528\u001b[0m         transpose_b)\n",
      "\u001b[1;31mKeyboardInterrupt\u001b[0m: "
     ]
    }
   ],
   "source": [
    "y_oneshot=np.eye(10)[y_train]\n",
    "eps=np.finfo(float).eps\n",
    "lr=0.001\n",
    "losses=[]\n",
    "for epoch in range(1000):\n",
    "    with tf.GradientTape() as tape:\n",
    "        pred_y=tf.nn.softmax(X_train@W+b)\n",
    "        # categorical cross-entropy:-log(p)\n",
    "        loss=tf.reduce_sum(-y_oneshot*tf.math.log(pred_y+eps))/len(y_train)\n",
    "    W_grads,b_grads=tape.gradient(loss,[W,b])\n",
    "    \n",
    "    W.assign_sub(lr*W_grads)\n",
    "    b.assign_sub(lr*b_grads)\n",
    "    losses.append(loss.numpy())\n",
    "    print(epoch,loss.numpy())"
   ]
  },
  {
   "cell_type": "code",
   "execution_count": 28,
   "metadata": {},
   "outputs": [
    {
     "data": {
      "text/plain": [
       "[<matplotlib.lines.Line2D at 0x19fbf2c5100>]"
      ]
     },
     "execution_count": 28,
     "metadata": {},
     "output_type": "execute_result"
    },
    {
     "data": {
      "image/png": "[encoded data removed]",
      "text/plain": [
       "<Figure size 432x288 with 1 Axes>"
      ]
     },
     "metadata": {
      "needs_background": "light"
     },
     "output_type": "display_data"
    }
   ],
   "source": [
    "plt.plot(losses)"
   ]
  },
  {
   "cell_type": "code",
   "execution_count": 30,
   "metadata": {},
   "outputs": [
    {
     "name": "stdout",
     "output_type": "stream",
     "text": [
      "0 0.00431578492132879\n",
      "1 0.004313306867747228\n",
      "2 0.004310836622344495\n",
      "3 0.004308374125845143\n",
      "4 0.004305919319595509\n",
      "5 0.004303472145555462\n",
      "6 0.004301032546290253\n",
      "7 0.004298600464962519\n",
      "8 0.004296175845324401\n",
      "9 0.004293758631709798\n",
      "10 0.004291348769026744\n",
      "11 0.004288946202749896\n",
      "12 0.004286550878913159\n",
      "13 0.004284162744102414\n",
      "14 0.00428178174544837\n",
      "15 0.0042794078306195235\n",
      "16 0.004277040947815234\n",
      "17 0.0042746810457589\n"
     ]
    },
    {
     "ename": "KeyboardInterrupt",
     "evalue": "",
     "output_type": "error",
     "traceback": [
      "\u001b[1;31m---------------------------------------------------------------------------\u001b[0m",
      "\u001b[1;31mKeyboardInterrupt\u001b[0m                         Traceback (most recent call last)",
      "\u001b[1;32m<ipython-input-30-f536fa41b145>\u001b[0m in \u001b[0;36m<module>\u001b[1;34m\u001b[0m\n\u001b[0;32m     15\u001b[0m \u001b[1;33m\u001b[0m\u001b[0m\n\u001b[0;32m     16\u001b[0m             \u001b[0mloss\u001b[0m\u001b[1;33m=\u001b[0m\u001b[0mtf\u001b[0m\u001b[1;33m.\u001b[0m\u001b[0mreduce_sum\u001b[0m\u001b[1;33m(\u001b[0m\u001b[1;33m-\u001b[0m\u001b[0my_oneshot\u001b[0m\u001b[1;33m[\u001b[0m\u001b[0mbatch\u001b[0m\u001b[1;33m*\u001b[0m\u001b[1;36m100\u001b[0m\u001b[1;33m:\u001b[0m\u001b[1;33m(\u001b[0m\u001b[0mbatch\u001b[0m\u001b[1;33m+\u001b[0m\u001b[1;36m1\u001b[0m\u001b[1;33m)\u001b[0m\u001b[1;33m*\u001b[0m\u001b[1;36m100\u001b[0m\u001b[1;33m]\u001b[0m\u001b[1;33m*\u001b[0m\u001b[0mtf\u001b[0m\u001b[1;33m.\u001b[0m\u001b[0mmath\u001b[0m\u001b[1;33m.\u001b[0m\u001b[0mlog\u001b[0m\u001b[1;33m(\u001b[0m\u001b[0mpred_y\u001b[0m\u001b[1;33m+\u001b[0m\u001b[0meps\u001b[0m\u001b[1;33m)\u001b[0m\u001b[1;33m)\u001b[0m\u001b[1;33m/\u001b[0m\u001b[0mlen\u001b[0m\u001b[1;33m(\u001b[0m\u001b[0my_train\u001b[0m\u001b[1;33m)\u001b[0m\u001b[1;33m\u001b[0m\u001b[1;33m\u001b[0m\u001b[0m\n\u001b[1;32m---> 17\u001b[1;33m         \u001b[0mW_grads\u001b[0m\u001b[1;33m,\u001b[0m\u001b[0mb_grads\u001b[0m\u001b[1;33m=\u001b[0m\u001b[0mtape\u001b[0m\u001b[1;33m.\u001b[0m\u001b[0mgradient\u001b[0m\u001b[1;33m(\u001b[0m\u001b[0mloss\u001b[0m\u001b[1;33m,\u001b[0m\u001b[1;33m[\u001b[0m\u001b[0mW\u001b[0m\u001b[1;33m,\u001b[0m\u001b[0mb\u001b[0m\u001b[1;33m]\u001b[0m\u001b[1;33m)\u001b[0m\u001b[1;33m\u001b[0m\u001b[1;33m\u001b[0m\u001b[0m\n\u001b[0m\u001b[0;32m     18\u001b[0m \u001b[1;33m\u001b[0m\u001b[0m\n\u001b[0;32m     19\u001b[0m         \u001b[0mW\u001b[0m\u001b[1;33m.\u001b[0m\u001b[0massign_sub\u001b[0m\u001b[1;33m(\u001b[0m\u001b[0mlr\u001b[0m\u001b[1;33m*\u001b[0m\u001b[0mW_grads\u001b[0m\u001b[1;33m)\u001b[0m\u001b[1;33m\u001b[0m\u001b[1;33m\u001b[0m\u001b[0m\n",
      "\u001b[1;32m~\\anaconda3\\lib\\site-packages\\tensorflow\\python\\eager\\backprop.py\u001b[0m in \u001b[0;36mgradient\u001b[1;34m(self, target, sources, output_gradients, unconnected_gradients)\u001b[0m\n\u001b[0;32m   1078\u001b[0m                           for x in nest.flatten(output_gradients)]\n\u001b[0;32m   1079\u001b[0m \u001b[1;33m\u001b[0m\u001b[0m\n\u001b[1;32m-> 1080\u001b[1;33m     flat_grad = imperative_grad.imperative_grad(\n\u001b[0m\u001b[0;32m   1081\u001b[0m         \u001b[0mself\u001b[0m\u001b[1;33m.\u001b[0m\u001b[0m_tape\u001b[0m\u001b[1;33m,\u001b[0m\u001b[1;33m\u001b[0m\u001b[1;33m\u001b[0m\u001b[0m\n\u001b[0;32m   1082\u001b[0m         \u001b[0mflat_targets\u001b[0m\u001b[1;33m,\u001b[0m\u001b[1;33m\u001b[0m\u001b[1;33m\u001b[0m\u001b[0m\n",
      "\u001b[1;32m~\\anaconda3\\lib\\site-packages\\tensorflow\\python\\eager\\imperative_grad.py\u001b[0m in \u001b[0;36mimperative_grad\u001b[1;34m(tape, target, sources, output_gradients, sources_raw, unconnected_gradients)\u001b[0m\n\u001b[0;32m     69\u001b[0m         \"Unknown value for unconnected_gradients: %r\" % unconnected_gradients)\n\u001b[0;32m     70\u001b[0m \u001b[1;33m\u001b[0m\u001b[0m\n\u001b[1;32m---> 71\u001b[1;33m   return pywrap_tfe.TFE_Py_TapeGradient(\n\u001b[0m\u001b[0;32m     72\u001b[0m       \u001b[0mtape\u001b[0m\u001b[1;33m.\u001b[0m\u001b[0m_tape\u001b[0m\u001b[1;33m,\u001b[0m  \u001b[1;31m# pylint: disable=protected-access\u001b[0m\u001b[1;33m\u001b[0m\u001b[1;33m\u001b[0m\u001b[0m\n\u001b[0;32m     73\u001b[0m       \u001b[0mtarget\u001b[0m\u001b[1;33m,\u001b[0m\u001b[1;33m\u001b[0m\u001b[1;33m\u001b[0m\u001b[0m\n",
      "\u001b[1;32m~\\anaconda3\\lib\\site-packages\\tensorflow\\python\\eager\\backprop.py\u001b[0m in \u001b[0;36m_gradient_function\u001b[1;34m(op_name, attr_tuple, num_inputs, inputs, outputs, out_grads, skip_input_indices, forward_pass_name_scope)\u001b[0m\n\u001b[0;32m    160\u001b[0m       \u001b[0mgradient_name_scope\u001b[0m \u001b[1;33m+=\u001b[0m \u001b[0mforward_pass_name_scope\u001b[0m \u001b[1;33m+\u001b[0m \u001b[1;34m\"/\"\u001b[0m\u001b[1;33m\u001b[0m\u001b[1;33m\u001b[0m\u001b[0m\n\u001b[0;32m    161\u001b[0m     \u001b[1;32mwith\u001b[0m \u001b[0mops\u001b[0m\u001b[1;33m.\u001b[0m\u001b[0mname_scope\u001b[0m\u001b[1;33m(\u001b[0m\u001b[0mgradient_name_scope\u001b[0m\u001b[1;33m)\u001b[0m\u001b[1;33m:\u001b[0m\u001b[1;33m\u001b[0m\u001b[1;33m\u001b[0m\u001b[0m\n\u001b[1;32m--> 162\u001b[1;33m       \u001b[1;32mreturn\u001b[0m \u001b[0mgrad_fn\u001b[0m\u001b[1;33m(\u001b[0m\u001b[0mmock_op\u001b[0m\u001b[1;33m,\u001b[0m \u001b[1;33m*\u001b[0m\u001b[0mout_grads\u001b[0m\u001b[1;33m)\u001b[0m\u001b[1;33m\u001b[0m\u001b[1;33m\u001b[0m\u001b[0m\n\u001b[0m\u001b[0;32m    163\u001b[0m   \u001b[1;32melse\u001b[0m\u001b[1;33m:\u001b[0m\u001b[1;33m\u001b[0m\u001b[1;33m\u001b[0m\u001b[0m\n\u001b[0;32m    164\u001b[0m     \u001b[1;32mreturn\u001b[0m \u001b[0mgrad_fn\u001b[0m\u001b[1;33m(\u001b[0m\u001b[0mmock_op\u001b[0m\u001b[1;33m,\u001b[0m \u001b[1;33m*\u001b[0m\u001b[0mout_grads\u001b[0m\u001b[1;33m)\u001b[0m\u001b[1;33m\u001b[0m\u001b[1;33m\u001b[0m\u001b[0m\n",
      "\u001b[1;32m~\\anaconda3\\lib\\site-packages\\tensorflow\\python\\ops\\nn_grad.py\u001b[0m in \u001b[0;36m_SoftmaxGrad\u001b[1;34m(op, grad_softmax)\u001b[0m\n\u001b[0;32m    304\u001b[0m   \u001b[0msoftmax\u001b[0m \u001b[1;33m=\u001b[0m \u001b[0mop\u001b[0m\u001b[1;33m.\u001b[0m\u001b[0moutputs\u001b[0m\u001b[1;33m[\u001b[0m\u001b[1;36m0\u001b[0m\u001b[1;33m]\u001b[0m\u001b[1;33m\u001b[0m\u001b[1;33m\u001b[0m\u001b[0m\n\u001b[0;32m    305\u001b[0m   \u001b[0msum_channels\u001b[0m \u001b[1;33m=\u001b[0m \u001b[0mmath_ops\u001b[0m\u001b[1;33m.\u001b[0m\u001b[0mreduce_sum\u001b[0m\u001b[1;33m(\u001b[0m\u001b[0mgrad_softmax\u001b[0m \u001b[1;33m*\u001b[0m \u001b[0msoftmax\u001b[0m\u001b[1;33m,\u001b[0m \u001b[1;33m-\u001b[0m\u001b[1;36m1\u001b[0m\u001b[1;33m,\u001b[0m \u001b[0mkeepdims\u001b[0m\u001b[1;33m=\u001b[0m\u001b[1;32mTrue\u001b[0m\u001b[1;33m)\u001b[0m\u001b[1;33m\u001b[0m\u001b[1;33m\u001b[0m\u001b[0m\n\u001b[1;32m--> 306\u001b[1;33m   \u001b[1;32mreturn\u001b[0m \u001b[1;33m(\u001b[0m\u001b[0mgrad_softmax\u001b[0m \u001b[1;33m-\u001b[0m \u001b[0msum_channels\u001b[0m\u001b[1;33m)\u001b[0m \u001b[1;33m*\u001b[0m \u001b[0msoftmax\u001b[0m\u001b[1;33m\u001b[0m\u001b[1;33m\u001b[0m\u001b[0m\n\u001b[0m\u001b[0;32m    307\u001b[0m \u001b[1;33m\u001b[0m\u001b[0m\n\u001b[0;32m    308\u001b[0m \u001b[1;33m\u001b[0m\u001b[0m\n",
      "\u001b[1;32m~\\anaconda3\\lib\\site-packages\\tensorflow\\python\\ops\\math_ops.py\u001b[0m in \u001b[0;36mbinary_op_wrapper\u001b[1;34m(x, y)\u001b[0m\n\u001b[0;32m   1162\u001b[0m     \u001b[1;32mwith\u001b[0m \u001b[0mops\u001b[0m\u001b[1;33m.\u001b[0m\u001b[0mname_scope\u001b[0m\u001b[1;33m(\u001b[0m\u001b[1;32mNone\u001b[0m\u001b[1;33m,\u001b[0m \u001b[0mop_name\u001b[0m\u001b[1;33m,\u001b[0m \u001b[1;33m[\u001b[0m\u001b[0mx\u001b[0m\u001b[1;33m,\u001b[0m \u001b[0my\u001b[0m\u001b[1;33m]\u001b[0m\u001b[1;33m)\u001b[0m \u001b[1;32mas\u001b[0m \u001b[0mname\u001b[0m\u001b[1;33m:\u001b[0m\u001b[1;33m\u001b[0m\u001b[1;33m\u001b[0m\u001b[0m\n\u001b[0;32m   1163\u001b[0m       \u001b[1;32mtry\u001b[0m\u001b[1;33m:\u001b[0m\u001b[1;33m\u001b[0m\u001b[1;33m\u001b[0m\u001b[0m\n\u001b[1;32m-> 1164\u001b[1;33m         \u001b[1;32mreturn\u001b[0m \u001b[0mfunc\u001b[0m\u001b[1;33m(\u001b[0m\u001b[0mx\u001b[0m\u001b[1;33m,\u001b[0m \u001b[0my\u001b[0m\u001b[1;33m,\u001b[0m \u001b[0mname\u001b[0m\u001b[1;33m=\u001b[0m\u001b[0mname\u001b[0m\u001b[1;33m)\u001b[0m\u001b[1;33m\u001b[0m\u001b[1;33m\u001b[0m\u001b[0m\n\u001b[0m\u001b[0;32m   1165\u001b[0m       \u001b[1;32mexcept\u001b[0m \u001b[1;33m(\u001b[0m\u001b[0mTypeError\u001b[0m\u001b[1;33m,\u001b[0m \u001b[0mValueError\u001b[0m\u001b[1;33m)\u001b[0m \u001b[1;32mas\u001b[0m \u001b[0me\u001b[0m\u001b[1;33m:\u001b[0m\u001b[1;33m\u001b[0m\u001b[1;33m\u001b[0m\u001b[0m\n\u001b[0;32m   1166\u001b[0m         \u001b[1;31m# Even if dispatching the op failed, the RHS may be a tensor aware\u001b[0m\u001b[1;33m\u001b[0m\u001b[1;33m\u001b[0m\u001b[1;33m\u001b[0m\u001b[0m\n",
      "\u001b[1;32m~\\anaconda3\\lib\\site-packages\\tensorflow\\python\\ops\\math_ops.py\u001b[0m in \u001b[0;36m_mul_dispatch\u001b[1;34m(x, y, name)\u001b[0m\n\u001b[0;32m   1494\u001b[0m     \u001b[1;32mreturn\u001b[0m \u001b[0msparse_tensor\u001b[0m\u001b[1;33m.\u001b[0m\u001b[0mSparseTensor\u001b[0m\u001b[1;33m(\u001b[0m\u001b[0my\u001b[0m\u001b[1;33m.\u001b[0m\u001b[0mindices\u001b[0m\u001b[1;33m,\u001b[0m \u001b[0mnew_vals\u001b[0m\u001b[1;33m,\u001b[0m \u001b[0my\u001b[0m\u001b[1;33m.\u001b[0m\u001b[0mdense_shape\u001b[0m\u001b[1;33m)\u001b[0m\u001b[1;33m\u001b[0m\u001b[1;33m\u001b[0m\u001b[0m\n\u001b[0;32m   1495\u001b[0m   \u001b[1;32melse\u001b[0m\u001b[1;33m:\u001b[0m\u001b[1;33m\u001b[0m\u001b[1;33m\u001b[0m\u001b[0m\n\u001b[1;32m-> 1496\u001b[1;33m     \u001b[1;32mreturn\u001b[0m \u001b[0mmultiply\u001b[0m\u001b[1;33m(\u001b[0m\u001b[0mx\u001b[0m\u001b[1;33m,\u001b[0m \u001b[0my\u001b[0m\u001b[1;33m,\u001b[0m \u001b[0mname\u001b[0m\u001b[1;33m=\u001b[0m\u001b[0mname\u001b[0m\u001b[1;33m)\u001b[0m\u001b[1;33m\u001b[0m\u001b[1;33m\u001b[0m\u001b[0m\n\u001b[0m\u001b[0;32m   1497\u001b[0m \u001b[1;33m\u001b[0m\u001b[0m\n\u001b[0;32m   1498\u001b[0m \u001b[1;33m\u001b[0m\u001b[0m\n",
      "\u001b[1;32m~\\anaconda3\\lib\\site-packages\\tensorflow\\python\\util\\dispatch.py\u001b[0m in \u001b[0;36mwrapper\u001b[1;34m(*args, **kwargs)\u001b[0m\n\u001b[0;32m    199\u001b[0m     \u001b[1;34m\"\"\"Call target, and fall back on dispatchers if there is a TypeError.\"\"\"\u001b[0m\u001b[1;33m\u001b[0m\u001b[1;33m\u001b[0m\u001b[0m\n\u001b[0;32m    200\u001b[0m     \u001b[1;32mtry\u001b[0m\u001b[1;33m:\u001b[0m\u001b[1;33m\u001b[0m\u001b[1;33m\u001b[0m\u001b[0m\n\u001b[1;32m--> 201\u001b[1;33m       \u001b[1;32mreturn\u001b[0m \u001b[0mtarget\u001b[0m\u001b[1;33m(\u001b[0m\u001b[1;33m*\u001b[0m\u001b[0margs\u001b[0m\u001b[1;33m,\u001b[0m \u001b[1;33m**\u001b[0m\u001b[0mkwargs\u001b[0m\u001b[1;33m)\u001b[0m\u001b[1;33m\u001b[0m\u001b[1;33m\u001b[0m\u001b[0m\n\u001b[0m\u001b[0;32m    202\u001b[0m     \u001b[1;32mexcept\u001b[0m \u001b[1;33m(\u001b[0m\u001b[0mTypeError\u001b[0m\u001b[1;33m,\u001b[0m \u001b[0mValueError\u001b[0m\u001b[1;33m)\u001b[0m\u001b[1;33m:\u001b[0m\u001b[1;33m\u001b[0m\u001b[1;33m\u001b[0m\u001b[0m\n\u001b[0;32m    203\u001b[0m       \u001b[1;31m# Note: convert_to_eager_tensor currently raises a ValueError, not a\u001b[0m\u001b[1;33m\u001b[0m\u001b[1;33m\u001b[0m\u001b[1;33m\u001b[0m\u001b[0m\n",
      "\u001b[1;32m~\\anaconda3\\lib\\site-packages\\tensorflow\\python\\ops\\math_ops.py\u001b[0m in \u001b[0;36mmultiply\u001b[1;34m(x, y, name)\u001b[0m\n\u001b[0;32m    516\u001b[0m   \"\"\"\n\u001b[0;32m    517\u001b[0m \u001b[1;33m\u001b[0m\u001b[0m\n\u001b[1;32m--> 518\u001b[1;33m   \u001b[1;32mreturn\u001b[0m \u001b[0mgen_math_ops\u001b[0m\u001b[1;33m.\u001b[0m\u001b[0mmul\u001b[0m\u001b[1;33m(\u001b[0m\u001b[0mx\u001b[0m\u001b[1;33m,\u001b[0m \u001b[0my\u001b[0m\u001b[1;33m,\u001b[0m \u001b[0mname\u001b[0m\u001b[1;33m)\u001b[0m\u001b[1;33m\u001b[0m\u001b[1;33m\u001b[0m\u001b[0m\n\u001b[0m\u001b[0;32m    519\u001b[0m \u001b[1;33m\u001b[0m\u001b[0m\n\u001b[0;32m    520\u001b[0m \u001b[1;33m\u001b[0m\u001b[0m\n",
      "\u001b[1;32m~\\anaconda3\\lib\\site-packages\\tensorflow\\python\\ops\\gen_math_ops.py\u001b[0m in \u001b[0;36mmul\u001b[1;34m(x, y, name)\u001b[0m\n\u001b[0;32m   6061\u001b[0m   \u001b[1;32mif\u001b[0m \u001b[0mtld\u001b[0m\u001b[1;33m.\u001b[0m\u001b[0mis_eager\u001b[0m\u001b[1;33m:\u001b[0m\u001b[1;33m\u001b[0m\u001b[1;33m\u001b[0m\u001b[0m\n\u001b[0;32m   6062\u001b[0m     \u001b[1;32mtry\u001b[0m\u001b[1;33m:\u001b[0m\u001b[1;33m\u001b[0m\u001b[1;33m\u001b[0m\u001b[0m\n\u001b[1;32m-> 6063\u001b[1;33m       _result = pywrap_tfe.TFE_Py_FastPathExecute(\n\u001b[0m\u001b[0;32m   6064\u001b[0m         _ctx, \"Mul\", name, x, y)\n\u001b[0;32m   6065\u001b[0m       \u001b[1;32mreturn\u001b[0m \u001b[0m_result\u001b[0m\u001b[1;33m\u001b[0m\u001b[1;33m\u001b[0m\u001b[0m\n",
      "\u001b[1;31mKeyboardInterrupt\u001b[0m: "
     ]
    }
   ],
   "source": [
    "# 가중치 초기화\n",
    "W=tf.Variable(np.random.normal(0,0.1,size=[784,10]))\n",
    "b=tf.Variable(np.zeros(10))\n",
    "\n",
    "y_oneshot=np.eye(10)[y_train]\n",
    "eps=np.finfo(float).eps\n",
    "lr=0.001\n",
    "losses=[]\n",
    "\n",
    "for epoch in range(100):\n",
    "    for batch in range(600): #batch_size=100\n",
    "        with tf.GradientTape() as tape:\n",
    "            pred_y=tf.nn.softmax(X_train[batch*100:(batch+1)*100]@W+b)\n",
    "            # categorical cross-entropy:-log(p)\n",
    "            \n",
    "            loss=tf.reduce_sum(-y_oneshot[batch*100:(batch+1)*100]*tf.math.log(pred_y+eps))/len(y_train)\n",
    "        W_grads,b_grads=tape.gradient(loss,[W,b])\n",
    "    \n",
    "        W.assign_sub(lr*W_grads)\n",
    "        b.assign_sub(lr*b_grads)\n",
    "    losses.append(loss.numpy())\n",
    "    print(epoch,loss.numpy())"
   ]
  },
  {
   "cell_type": "code",
   "execution_count": null,
   "metadata": {},
   "outputs": [],
   "source": []
  },
  {
   "cell_type": "markdown",
   "metadata": {},
   "source": [
    "### Keras"
   ]
  },
  {
   "cell_type": "code",
   "execution_count": 32,
   "metadata": {},
   "outputs": [
    {
     "data": {
      "text/plain": [
       "tensorflow.python.keras.optimizer_v2.rmsprop.RMSprop"
      ]
     },
     "execution_count": 32,
     "metadata": {},
     "output_type": "execute_result"
    }
   ],
   "source": [
    "from tensorflow import keras\n",
    "keras.optimizers.RMSprop"
   ]
  },
  {
   "cell_type": "code",
   "execution_count": 33,
   "metadata": {},
   "outputs": [],
   "source": [
    "model=keras.models.Sequential()\n",
    "model.add(keras.layers.Dense(10,input_shape=(784,),activation='softmax'))"
   ]
  },
  {
   "cell_type": "code",
   "execution_count": 36,
   "metadata": {
    "scrolled": true
   },
   "outputs": [
    {
     "name": "stdout",
     "output_type": "stream",
     "text": [
      "Epoch 1/100\n",
      "600/600 [==============================] - 1s 666us/step - loss: 0.3856\n",
      "Epoch 2/100\n",
      "600/600 [==============================] - 0s 667us/step - loss: 0.3762\n",
      "Epoch 3/100\n",
      "600/600 [==============================] - 0s 675us/step - loss: 0.3669\n",
      "Epoch 4/100\n",
      "600/600 [==============================] - 0s 663us/step - loss: 0.3682\n",
      "Epoch 5/100\n",
      "600/600 [==============================] - 0s 658us/step - loss: 0.3659\n",
      "Epoch 6/100\n",
      "600/600 [==============================] - 0s 691us/step - loss: 0.3535\n",
      "Epoch 7/100\n",
      "600/600 [==============================] - 0s 662us/step - loss: 0.3476\n",
      "Epoch 8/100\n",
      "600/600 [==============================] - 0s 668us/step - loss: 0.3432\n",
      "Epoch 9/100\n",
      "600/600 [==============================] - 0s 686us/step - loss: 0.3444\n",
      "Epoch 10/100\n",
      "600/600 [==============================] - 0s 658us/step - loss: 0.3418\n",
      "Epoch 11/100\n",
      "600/600 [==============================] - 0s 668us/step - loss: 0.3352\n",
      "Epoch 12/100\n",
      "600/600 [==============================] - 0s 669us/step - loss: 0.3345\n",
      "Epoch 13/100\n",
      "600/600 [==============================] - 0s 683us/step - loss: 0.3413\n",
      "Epoch 14/100\n",
      "600/600 [==============================] - 0s 671us/step - loss: 0.3283\n",
      "Epoch 15/100\n",
      "600/600 [==============================] - 0s 691us/step - loss: 0.3260\n",
      "Epoch 16/100\n",
      "600/600 [==============================] - 0s 735us/step - loss: 0.3302\n",
      "Epoch 17/100\n",
      "600/600 [==============================] - 0s 713us/step - loss: 0.3241\n",
      "Epoch 18/100\n",
      "600/600 [==============================] - 0s 707us/step - loss: 0.3261\n",
      "Epoch 19/100\n",
      "600/600 [==============================] - 0s 677us/step - loss: 0.3193\n",
      "Epoch 20/100\n",
      "600/600 [==============================] - 0s 668us/step - loss: 0.3217\n",
      "Epoch 21/100\n",
      "600/600 [==============================] - 0s 670us/step - loss: 0.3180\n",
      "Epoch 22/100\n",
      "600/600 [==============================] - 0s 676us/step - loss: 0.3211\n",
      "Epoch 23/100\n",
      "600/600 [==============================] - 0s 704us/step - loss: 0.3127\n",
      "Epoch 24/100\n",
      "600/600 [==============================] - 0s 672us/step - loss: 0.3127\n",
      "Epoch 25/100\n",
      "600/600 [==============================] - 0s 668us/step - loss: 0.3140\n",
      "Epoch 26/100\n",
      "600/600 [==============================] - 0s 684us/step - loss: 0.3093\n",
      "Epoch 27/100\n",
      "600/600 [==============================] - 0s 690us/step - loss: 0.3183\n",
      "Epoch 28/100\n",
      "600/600 [==============================] - 0s 676us/step - loss: 0.3094\n",
      "Epoch 29/100\n",
      "600/600 [==============================] - 0s 667us/step - loss: 0.3118\n",
      "Epoch 30/100\n",
      "600/600 [==============================] - 0s 683us/step - loss: 0.3082\n",
      "Epoch 31/100\n",
      "600/600 [==============================] - 0s 668us/step - loss: 0.3122\n",
      "Epoch 32/100\n",
      "600/600 [==============================] - 0s 672us/step - loss: 0.3086\n",
      "Epoch 33/100\n",
      "600/600 [==============================] - 0s 673us/step - loss: 0.3092\n",
      "Epoch 34/100\n",
      "600/600 [==============================] - 0s 669us/step - loss: 0.3018\n",
      "Epoch 35/100\n",
      "600/600 [==============================] - 0s 673us/step - loss: 0.3069\n",
      "Epoch 36/100\n",
      "600/600 [==============================] - 0s 679us/step - loss: 0.3021\n",
      "Epoch 37/100\n",
      "600/600 [==============================] - 0s 669us/step - loss: 0.3055\n",
      "Epoch 38/100\n",
      "600/600 [==============================] - 0s 673us/step - loss: 0.3084\n",
      "Epoch 39/100\n",
      "600/600 [==============================] - 0s 669us/step - loss: 0.3029\n",
      "Epoch 40/100\n",
      "600/600 [==============================] - 0s 663us/step - loss: 0.3005\n",
      "Epoch 41/100\n",
      "600/600 [==============================] - 0s 664us/step - loss: 0.3035\n",
      "Epoch 42/100\n",
      "600/600 [==============================] - 0s 668us/step - loss: 0.2971\n",
      "Epoch 43/100\n",
      "600/600 [==============================] - 0s 670us/step - loss: 0.3032\n",
      "Epoch 44/100\n",
      "600/600 [==============================] - 0s 677us/step - loss: 0.2972\n",
      "Epoch 45/100\n",
      "600/600 [==============================] - 0s 685us/step - loss: 0.2950\n",
      "Epoch 46/100\n",
      "600/600 [==============================] - 0s 664us/step - loss: 0.2941\n",
      "Epoch 47/100\n",
      "600/600 [==============================] - 0s 678us/step - loss: 0.2947\n",
      "Epoch 48/100\n",
      "600/600 [==============================] - 0s 675us/step - loss: 0.2981\n",
      "Epoch 49/100\n",
      "600/600 [==============================] - 0s 669us/step - loss: 0.2926\n",
      "Epoch 50/100\n",
      "600/600 [==============================] - 0s 679us/step - loss: 0.2907\n",
      "Epoch 51/100\n",
      "600/600 [==============================] - 0s 668us/step - loss: 0.2965\n",
      "Epoch 52/100\n",
      "600/600 [==============================] - 0s 670us/step - loss: 0.2976\n",
      "Epoch 53/100\n",
      "600/600 [==============================] - 0s 677us/step - loss: 0.2916\n",
      "Epoch 54/100\n",
      "600/600 [==============================] - 0s 718us/step - loss: 0.2922\n",
      "Epoch 55/100\n",
      "600/600 [==============================] - 0s 688us/step - loss: 0.2934\n",
      "Epoch 56/100\n",
      "600/600 [==============================] - 0s 722us/step - loss: 0.2910\n",
      "Epoch 57/100\n",
      "600/600 [==============================] - 0s 697us/step - loss: 0.2824\n",
      "Epoch 58/100\n",
      "600/600 [==============================] - 0s 733us/step - loss: 0.2901\n",
      "Epoch 59/100\n",
      "600/600 [==============================] - 0s 706us/step - loss: 0.2928\n",
      "Epoch 60/100\n",
      "600/600 [==============================] - 0s 715us/step - loss: 0.2896\n",
      "Epoch 61/100\n",
      "600/600 [==============================] - 0s 720us/step - loss: 0.2831\n",
      "Epoch 62/100\n",
      "600/600 [==============================] - 0s 722us/step - loss: 0.2955\n",
      "Epoch 63/100\n",
      "600/600 [==============================] - 0s 728us/step - loss: 0.2858\n",
      "Epoch 64/100\n",
      "600/600 [==============================] - 0s 730us/step - loss: 0.2898\n",
      "Epoch 65/100\n",
      "600/600 [==============================] - 0s 743us/step - loss: 0.2881\n",
      "Epoch 66/100\n",
      "600/600 [==============================] - 0s 727us/step - loss: 0.2852\n",
      "Epoch 67/100\n",
      "600/600 [==============================] - 0s 736us/step - loss: 0.2840\n",
      "Epoch 68/100\n",
      "600/600 [==============================] - 0s 735us/step - loss: 0.2895\n",
      "Epoch 69/100\n",
      "600/600 [==============================] - 0s 746us/step - loss: 0.2883\n",
      "Epoch 70/100\n",
      "600/600 [==============================] - 0s 730us/step - loss: 0.2889\n",
      "Epoch 71/100\n",
      "600/600 [==============================] - 0s 737us/step - loss: 0.2912\n",
      "Epoch 72/100\n",
      "600/600 [==============================] - 0s 740us/step - loss: 0.2823\n",
      "Epoch 73/100\n",
      "600/600 [==============================] - 0s 753us/step - loss: 0.2833\n",
      "Epoch 74/100\n",
      "600/600 [==============================] - 0s 755us/step - loss: 0.2832\n",
      "Epoch 75/100\n",
      "600/600 [==============================] - 0s 746us/step - loss: 0.2897\n",
      "Epoch 76/100\n",
      "600/600 [==============================] - 0s 758us/step - loss: 0.2850\n",
      "Epoch 77/100\n",
      "600/600 [==============================] - 0s 751us/step - loss: 0.2785\n",
      "Epoch 78/100\n",
      "600/600 [==============================] - 0s 748us/step - loss: 0.2816\n",
      "Epoch 79/100\n",
      "600/600 [==============================] - 0s 758us/step - loss: 0.2814\n",
      "Epoch 80/100\n",
      "600/600 [==============================] - 0s 752us/step - loss: 0.2833\n",
      "Epoch 81/100\n",
      "600/600 [==============================] - 0s 756us/step - loss: 0.2817\n",
      "Epoch 82/100\n",
      "600/600 [==============================] - 0s 774us/step - loss: 0.2796\n",
      "Epoch 83/100\n",
      "600/600 [==============================] - 0s 770us/step - loss: 0.2822\n",
      "Epoch 84/100\n",
      "600/600 [==============================] - 0s 756us/step - loss: 0.2880\n",
      "Epoch 85/100\n",
      "600/600 [==============================] - 0s 771us/step - loss: 0.2786\n",
      "Epoch 86/100\n",
      "600/600 [==============================] - 0s 773us/step - loss: 0.2858\n",
      "Epoch 87/100\n",
      "600/600 [==============================] - 0s 784us/step - loss: 0.2749\n",
      "Epoch 88/100\n",
      "600/600 [==============================] - 0s 780us/step - loss: 0.2813\n",
      "Epoch 89/100\n",
      "600/600 [==============================] - 0s 781us/step - loss: 0.2801\n",
      "Epoch 90/100\n",
      "600/600 [==============================] - 0s 782us/step - loss: 0.2779\n",
      "Epoch 91/100\n",
      "600/600 [==============================] - 0s 786us/step - loss: 0.2803\n",
      "Epoch 92/100\n",
      "600/600 [==============================] - 0s 775us/step - loss: 0.2783\n",
      "Epoch 93/100\n",
      "600/600 [==============================] - 0s 762us/step - loss: 0.2734\n",
      "Epoch 94/100\n",
      "600/600 [==============================] - 0s 775us/step - loss: 0.2796\n",
      "Epoch 95/100\n",
      "600/600 [==============================] - 0s 779us/step - loss: 0.2808\n",
      "Epoch 96/100\n",
      "600/600 [==============================] - 0s 782us/step - loss: 0.2865\n",
      "Epoch 97/100\n"
     ]
    },
    {
     "name": "stdout",
     "output_type": "stream",
     "text": [
      "600/600 [==============================] - 0s 747us/step - loss: 0.2734\n",
      "Epoch 98/100\n",
      "600/600 [==============================] - 0s 751us/step - loss: 0.2815\n",
      "Epoch 99/100\n",
      "600/600 [==============================] - 0s 745us/step - loss: 0.2780\n",
      "Epoch 100/100\n",
      "600/600 [==============================] - 0s 730us/step - loss: 0.2814\n"
     ]
    },
    {
     "data": {
      "text/plain": [
       "<tensorflow.python.keras.callbacks.History at 0x19fbfd7ab80>"
      ]
     },
     "execution_count": 36,
     "metadata": {},
     "output_type": "execute_result"
    }
   ],
   "source": [
    "model.compile(loss='categorical_crossentropy',optimizer='sgd')\n",
    "y_oneshot=np.eye(10)[y_train]\n",
    "model.fit(X_train,y_oneshot,batch_size=100,epochs=100)"
   ]
  },
  {
   "cell_type": "code",
   "execution_count": 37,
   "metadata": {},
   "outputs": [
    {
     "data": {
      "text/plain": [
       "[<matplotlib.lines.Line2D at 0x19fc0088c70>]"
      ]
     },
     "execution_count": 37,
     "metadata": {},
     "output_type": "execute_result"
    },
    {
     "data": {
      "image/png": "[encoded data removed]",
      "text/plain": [
       "<Figure size 432x288 with 1 Axes>"
      ]
     },
     "metadata": {
      "needs_background": "light"
     },
     "output_type": "display_data"
    }
   ],
   "source": [
    "h=model.history.history\n",
    "plt.plot(h['loss'])"
   ]
  },
  {
   "cell_type": "code",
   "execution_count": null,
   "metadata": {},
   "outputs": [],
   "source": []
  }
 ],
 "metadata": {
  "kernelspec": {
   "display_name": "Python 3",
   "language": "python",
   "name": "python3"
  },
  "language_info": {
   "codemirror_mode": {
    "name": "ipython",
    "version": 3
   },
   "file_extension": ".py",
   "mimetype": "text/x-python",
   "name": "python",
   "nbconvert_exporter": "python",
   "pygments_lexer": "ipython3",
   "version": "3.8.5"
  }
 },
 "nbformat": 4,
 "nbformat_minor": 4
}
