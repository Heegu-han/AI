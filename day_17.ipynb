{
 "cells": [
  {
   "cell_type": "markdown",
   "metadata": {},
   "source": [
    "# 17일차\n",
    "## 머신러닝\n",
    "### 복습문제\n",
    "#### 1 . 선형회귀를 그래프로 나타낸 경우이다.\n",
    "- 속성이 하나일때, x축과 y축은 무엇을 나타내는가?   x값에 대해 y값을 예측\n",
    "- 속성이 하나일때, 결과의 모양은 ___이다.    선\n",
    "- 속성이 두개일때, 결과의 모양은 ___이다.    평면이다\n",
    "- 속성이 세개 이상일때, 결과의 모양은 ___이다.   초평면\n",
    "\n",
    "#### 2. 속성이 2개일때, 선형회귀의 방정식을 쓰고 해당하는 신경망 구조로 변환하시오.(방정식의 기호를 신경망에 대응하시오)\n",
    "y^=w1x1+w2x2+b\n",
    "\n",
    "#### 3. 행복 데이터에서,GDP 로 기대수명을 예측하는 선형회귀를 적용하고 분석해 보시오.(그래프를 그리고, 가중치 값의 의미 해석 등)\n",
    "- 'Logged GDP'가 아닌 실제 GDP로 위의 결과를 재해석해 보시오.\n",
    "- 기대수명으로 GDP를 예측하면 어떻개 되는지 생각해 보시오."
   ]
  },
  {
   "cell_type": "code",
   "execution_count": 1,
   "metadata": {},
   "outputs": [],
   "source": [
    "import numpy as np\n",
    "import pandas as pd\n",
    "import matplotlib.pyplot as plt"
   ]
  },
  {
   "cell_type": "code",
   "execution_count": 3,
   "metadata": {},
   "outputs": [
    {
     "data": {
      "text/html": [
       "<div>\n",
       "<style scoped>\n",
       "    .dataframe tbody tr th:only-of-type {\n",
       "        vertical-align: middle;\n",
       "    }\n",
       "\n",
       "    .dataframe tbody tr th {\n",
       "        vertical-align: top;\n",
       "    }\n",
       "\n",
       "    .dataframe thead th {\n",
       "        text-align: right;\n",
       "    }\n",
       "</style>\n",
       "<table border=\"1\" class=\"dataframe\">\n",
       "  <thead>\n",
       "    <tr style=\"text-align: right;\">\n",
       "      <th></th>\n",
       "      <th>Country name</th>\n",
       "      <th>Regional indicator</th>\n",
       "      <th>Ladder score</th>\n",
       "      <th>Standard error of ladder score</th>\n",
       "      <th>upperwhisker</th>\n",
       "      <th>lowerwhisker</th>\n",
       "      <th>Logged GDP per capita</th>\n",
       "      <th>Social support</th>\n",
       "      <th>Healthy life expectancy</th>\n",
       "      <th>Freedom to make life choices</th>\n",
       "      <th>Generosity</th>\n",
       "      <th>Perceptions of corruption</th>\n",
       "      <th>Ladder score in Dystopia</th>\n",
       "      <th>Explained by: Log GDP per capita</th>\n",
       "      <th>Explained by: Social support</th>\n",
       "      <th>Explained by: Healthy life expectancy</th>\n",
       "      <th>Explained by: Freedom to make life choices</th>\n",
       "      <th>Explained by: Generosity</th>\n",
       "      <th>Explained by: Perceptions of corruption</th>\n",
       "      <th>Dystopia + residual</th>\n",
       "    </tr>\n",
       "  </thead>\n",
       "  <tbody>\n",
       "    <tr>\n",
       "      <th>0</th>\n",
       "      <td>Finland</td>\n",
       "      <td>Western Europe</td>\n",
       "      <td>7.842</td>\n",
       "      <td>0.032</td>\n",
       "      <td>7.904</td>\n",
       "      <td>7.780</td>\n",
       "      <td>10.775</td>\n",
       "      <td>0.954</td>\n",
       "      <td>72.0</td>\n",
       "      <td>0.949</td>\n",
       "      <td>-0.098</td>\n",
       "      <td>0.186</td>\n",
       "      <td>2.43</td>\n",
       "      <td>1.446</td>\n",
       "      <td>1.106</td>\n",
       "      <td>0.741</td>\n",
       "      <td>0.691</td>\n",
       "      <td>0.124</td>\n",
       "      <td>0.481</td>\n",
       "      <td>3.253</td>\n",
       "    </tr>\n",
       "    <tr>\n",
       "      <th>1</th>\n",
       "      <td>Denmark</td>\n",
       "      <td>Western Europe</td>\n",
       "      <td>7.620</td>\n",
       "      <td>0.035</td>\n",
       "      <td>7.687</td>\n",
       "      <td>7.552</td>\n",
       "      <td>10.933</td>\n",
       "      <td>0.954</td>\n",
       "      <td>72.7</td>\n",
       "      <td>0.946</td>\n",
       "      <td>0.030</td>\n",
       "      <td>0.179</td>\n",
       "      <td>2.43</td>\n",
       "      <td>1.502</td>\n",
       "      <td>1.108</td>\n",
       "      <td>0.763</td>\n",
       "      <td>0.686</td>\n",
       "      <td>0.208</td>\n",
       "      <td>0.485</td>\n",
       "      <td>2.868</td>\n",
       "    </tr>\n",
       "    <tr>\n",
       "      <th>2</th>\n",
       "      <td>Switzerland</td>\n",
       "      <td>Western Europe</td>\n",
       "      <td>7.571</td>\n",
       "      <td>0.036</td>\n",
       "      <td>7.643</td>\n",
       "      <td>7.500</td>\n",
       "      <td>11.117</td>\n",
       "      <td>0.942</td>\n",
       "      <td>74.4</td>\n",
       "      <td>0.919</td>\n",
       "      <td>0.025</td>\n",
       "      <td>0.292</td>\n",
       "      <td>2.43</td>\n",
       "      <td>1.566</td>\n",
       "      <td>1.079</td>\n",
       "      <td>0.816</td>\n",
       "      <td>0.653</td>\n",
       "      <td>0.204</td>\n",
       "      <td>0.413</td>\n",
       "      <td>2.839</td>\n",
       "    </tr>\n",
       "    <tr>\n",
       "      <th>3</th>\n",
       "      <td>Iceland</td>\n",
       "      <td>Western Europe</td>\n",
       "      <td>7.554</td>\n",
       "      <td>0.059</td>\n",
       "      <td>7.670</td>\n",
       "      <td>7.438</td>\n",
       "      <td>10.878</td>\n",
       "      <td>0.983</td>\n",
       "      <td>73.0</td>\n",
       "      <td>0.955</td>\n",
       "      <td>0.160</td>\n",
       "      <td>0.673</td>\n",
       "      <td>2.43</td>\n",
       "      <td>1.482</td>\n",
       "      <td>1.172</td>\n",
       "      <td>0.772</td>\n",
       "      <td>0.698</td>\n",
       "      <td>0.293</td>\n",
       "      <td>0.170</td>\n",
       "      <td>2.967</td>\n",
       "    </tr>\n",
       "    <tr>\n",
       "      <th>4</th>\n",
       "      <td>Netherlands</td>\n",
       "      <td>Western Europe</td>\n",
       "      <td>7.464</td>\n",
       "      <td>0.027</td>\n",
       "      <td>7.518</td>\n",
       "      <td>7.410</td>\n",
       "      <td>10.932</td>\n",
       "      <td>0.942</td>\n",
       "      <td>72.4</td>\n",
       "      <td>0.913</td>\n",
       "      <td>0.175</td>\n",
       "      <td>0.338</td>\n",
       "      <td>2.43</td>\n",
       "      <td>1.501</td>\n",
       "      <td>1.079</td>\n",
       "      <td>0.753</td>\n",
       "      <td>0.647</td>\n",
       "      <td>0.302</td>\n",
       "      <td>0.384</td>\n",
       "      <td>2.798</td>\n",
       "    </tr>\n",
       "  </tbody>\n",
       "</table>\n",
       "</div>"
      ],
      "text/plain": [
       "  Country name Regional indicator  Ladder score  \\\n",
       "0      Finland     Western Europe         7.842   \n",
       "1      Denmark     Western Europe         7.620   \n",
       "2  Switzerland     Western Europe         7.571   \n",
       "3      Iceland     Western Europe         7.554   \n",
       "4  Netherlands     Western Europe         7.464   \n",
       "\n",
       "   Standard error of ladder score  upperwhisker  lowerwhisker  \\\n",
       "0                           0.032         7.904         7.780   \n",
       "1                           0.035         7.687         7.552   \n",
       "2                           0.036         7.643         7.500   \n",
       "3                           0.059         7.670         7.438   \n",
       "4                           0.027         7.518         7.410   \n",
       "\n",
       "   Logged GDP per capita  Social support  Healthy life expectancy  \\\n",
       "0                 10.775           0.954                     72.0   \n",
       "1                 10.933           0.954                     72.7   \n",
       "2                 11.117           0.942                     74.4   \n",
       "3                 10.878           0.983                     73.0   \n",
       "4                 10.932           0.942                     72.4   \n",
       "\n",
       "   Freedom to make life choices  Generosity  Perceptions of corruption  \\\n",
       "0                         0.949      -0.098                      0.186   \n",
       "1                         0.946       0.030                      0.179   \n",
       "2                         0.919       0.025                      0.292   \n",
       "3                         0.955       0.160                      0.673   \n",
       "4                         0.913       0.175                      0.338   \n",
       "\n",
       "   Ladder score in Dystopia  Explained by: Log GDP per capita  \\\n",
       "0                      2.43                             1.446   \n",
       "1                      2.43                             1.502   \n",
       "2                      2.43                             1.566   \n",
       "3                      2.43                             1.482   \n",
       "4                      2.43                             1.501   \n",
       "\n",
       "   Explained by: Social support  Explained by: Healthy life expectancy  \\\n",
       "0                         1.106                                  0.741   \n",
       "1                         1.108                                  0.763   \n",
       "2                         1.079                                  0.816   \n",
       "3                         1.172                                  0.772   \n",
       "4                         1.079                                  0.753   \n",
       "\n",
       "   Explained by: Freedom to make life choices  Explained by: Generosity  \\\n",
       "0                                       0.691                     0.124   \n",
       "1                                       0.686                     0.208   \n",
       "2                                       0.653                     0.204   \n",
       "3                                       0.698                     0.293   \n",
       "4                                       0.647                     0.302   \n",
       "\n",
       "   Explained by: Perceptions of corruption  Dystopia + residual  \n",
       "0                                    0.481                3.253  \n",
       "1                                    0.485                2.868  \n",
       "2                                    0.413                2.839  \n",
       "3                                    0.170                2.967  \n",
       "4                                    0.384                2.798  "
      ]
     },
     "execution_count": 3,
     "metadata": {},
     "output_type": "execute_result"
    }
   ],
   "source": [
    "happy = pd.read_csv('world_happiness_report_2021.csv')\n",
    "happy.head()"
   ]
  },
  {
   "cell_type": "code",
   "execution_count": 4,
   "metadata": {},
   "outputs": [],
   "source": [
    "X=happy[['Logged GDP per capita']].values\n",
    "y=happy['Healthy life expectancy'].values"
   ]
  },
  {
   "cell_type": "code",
   "execution_count": 5,
   "metadata": {},
   "outputs": [
    {
     "data": {
      "text/plain": [
       "((149, 1), (149,))"
      ]
     },
     "execution_count": 5,
     "metadata": {},
     "output_type": "execute_result"
    }
   ],
   "source": [
    "X.shape,y.shape"
   ]
  },
  {
   "cell_type": "code",
   "execution_count": 6,
   "metadata": {},
   "outputs": [],
   "source": [
    "from sklearn.linear_model import LinearRegression"
   ]
  },
  {
   "cell_type": "code",
   "execution_count": 7,
   "metadata": {},
   "outputs": [
    {
     "data": {
      "text/plain": [
       "LinearRegression()"
      ]
     },
     "execution_count": 7,
     "metadata": {},
     "output_type": "execute_result"
    }
   ],
   "source": [
    "model=LinearRegression()\n",
    "model.fit(X,y)"
   ]
  },
  {
   "cell_type": "code",
   "execution_count": 9,
   "metadata": {},
   "outputs": [
    {
     "data": {
      "text/plain": [
       "5.01614233919658"
      ]
     },
     "execution_count": 9,
     "metadata": {},
     "output_type": "execute_result"
    }
   ],
   "source": [
    "w=model.coef_[0]\n",
    "w"
   ]
  },
  {
   "cell_type": "code",
   "execution_count": 10,
   "metadata": {},
   "outputs": [
    {
     "data": {
      "text/plain": [
       "17.679500487486337"
      ]
     },
     "execution_count": 10,
     "metadata": {},
     "output_type": "execute_result"
    }
   ],
   "source": [
    "b=model.intercept_\n",
    "b"
   ]
  },
  {
   "cell_type": "code",
   "execution_count": 17,
   "metadata": {},
   "outputs": [
    {
     "data": {
      "text/plain": [
       "[<matplotlib.lines.Line2D at 0x1d1db15bc10>]"
      ]
     },
     "execution_count": 17,
     "metadata": {},
     "output_type": "execute_result"
    },
    {
     "data": {
      "image/png": "[encoded data removed]",
      "text/plain": [
       "<Figure size 432x288 with 1 Axes>"
      ]
     },
     "metadata": {
      "needs_background": "light"
     },
     "output_type": "display_data"
    }
   ],
   "source": [
    "plt.scatter(X[:,0],y)\n",
    "plt.xlabel('GDP(log)')\n",
    "plt.ylabel('Expected Life')\n",
    "\n",
    "xval=np.array([6,12])\n",
    "yval=xval*w+b\n",
    "plt.plot(xval,yval,'r:')\n",
    "#plt.axis('equal')"
   ]
  },
  {
   "cell_type": "code",
   "execution_count": 19,
   "metadata": {},
   "outputs": [
    {
     "data": {
      "text/plain": [
       "[<matplotlib.lines.Line2D at 0x1d1da97c070>]"
      ]
     },
     "execution_count": 19,
     "metadata": {},
     "output_type": "execute_result"
    },
    {
     "data": {
      "image/png": "[encoded data removed]",
      "text/plain": [
       "<Figure size 432x288 with 1 Axes>"
      ]
     },
     "metadata": {
      "needs_background": "light"
     },
     "output_type": "display_data"
    }
   ],
   "source": [
    "plt.scatter(np.exp(X[:,0]),y)\n",
    "plt.xlabel('GDP(log)')\n",
    "plt.ylabel('Expected Life')\n",
    "\n",
    "xval=np.arange(6,12,0.1)\n",
    "yval=xval*w+b\n",
    "plt.plot(np.exp(xval),yval,'r:')\n",
    "#plt.axis('equal')"
   ]
  },
  {
   "cell_type": "code",
   "execution_count": 21,
   "metadata": {},
   "outputs": [
    {
     "data": {
      "text/plain": [
       "[<matplotlib.lines.Line2D at 0x1d1db25afa0>]"
      ]
     },
     "execution_count": 21,
     "metadata": {},
     "output_type": "execute_result"
    },
    {
     "data": {
      "image/png": "[encoded data removed]",
      "text/plain": [
       "<Figure size 432x288 with 1 Axes>"
      ]
     },
     "metadata": {
      "needs_background": "light"
     },
     "output_type": "display_data"
    }
   ],
   "source": [
    "plt.scatter(y,np.exp(X[:,0]))\n",
    "plt.ylabel('GDP(log)')\n",
    "plt.xlabel('Expected Life')\n",
    "\n",
    "xval=np.arange(6,12,0.1)\n",
    "yval=xval*w+b\n",
    "plt.plot(yval,np.exp(xval),'r:')\n",
    "#plt.axis('equal')"
   ]
  },
  {
   "cell_type": "code",
   "execution_count": 22,
   "metadata": {},
   "outputs": [],
   "source": [
    "w=1.\n",
    "b=1."
   ]
  },
  {
   "cell_type": "code",
   "execution_count": 23,
   "metadata": {},
   "outputs": [],
   "source": [
    "pred_y=w*X[:,0]+b"
   ]
  },
  {
   "cell_type": "code",
   "execution_count": 24,
   "metadata": {},
   "outputs": [
    {
     "data": {
      "text/plain": [
       "array([11.775, 11.933, 12.117, 11.878, 11.932, 12.053, 11.867, 12.647,\n",
       "       11.643, 11.906, 11.796, 11.575, 11.873, 11.776, 12.342, 10.88 ,\n",
       "       11.707, 11.556, 12.023, 11.823, 11.704, 11.669, 11.674, 11.871,\n",
       "       12.085, 11.743, 11.571, 11.623, 11.529, 10.053, 10.966, 12.488,\n",
       "       10.318, 11.369, 10.577, 10.859, 10.186, 11.499, 11.576, 11.481,\n",
       "       11.35 ,  9.836, 11.071, 11.382, 11.155, 11.284, 11.817, 10.787,\n",
       "       10.054, 11.008, 11.315, 10.557, 11.358, 10.805,  9.62 , 11.611,\n",
       "       10.962, 11.421,  9.648, 11.217, 10.076, 11.651, 10.458, 10.59 ,\n",
       "       10.454, 10.313,  9.538, 11.279, 10.046, 10.4  , 10.448, 10.94 ,\n",
       "       10.802, 11.576, 10.853, 11.189, 12.   ,  9.091,  9.973, 10.622,\n",
       "       11.238, 10.365,  9.117, 10.673,  9.551, 10.487,  9.12 , 11.016,\n",
       "       10.826, 10.569,  9.189,  9.118, 10.52 , 10.693,  9.58 ,  8.098,\n",
       "       10.629,  8.686,  9.087,  9.947,  9.454,  8.838, 10.403, 11.24 ,\n",
       "        9.458,  9.903, 10.073, 10.585, 10.342, 10.436, 10.24 , 10.603,\n",
       "        8.678,  9.36 ,  8.158,  9.533,  8.744, 10.584,  8.677,  8.288,\n",
       "        9.361, 10.266, 10.626, 10.161,  9.485,  9.541, 10.182,  8.364,\n",
       "       10.47 , 10.065,  9.031, 10.367,  8.694,  9.542,  8.396,  8.362,\n",
       "        9.145,  8.434,  9.755,  7.635,  8.578,  8.876,  8.477,  7.958,\n",
       "        8.926, 10.782,  8.676,  8.943,  8.695])"
      ]
     },
     "execution_count": 24,
     "metadata": {},
     "output_type": "execute_result"
    }
   ],
   "source": [
    "pred_y"
   ]
  },
  {
   "cell_type": "code",
   "execution_count": 25,
   "metadata": {},
   "outputs": [
    {
     "data": {
      "text/plain": [
       "array([72.   , 72.7  , 74.4  , 73.   , 72.4  , 73.3  , 72.7  , 72.6  ,\n",
       "       73.4  , 73.3  , 73.9  , 73.503, 72.5  , 73.8  , 72.4  , 71.4  ,\n",
       "       72.5  , 70.807, 68.2  , 72.199, 74.   , 69.495, 72.2  , 69.6  ,\n",
       "       67.333, 66.603, 74.7  , 73.8  , 71.4  , 64.958, 69.1  , 76.953,\n",
       "       63.813, 69.201, 66.601, 68.597, 67.5  , 67.906, 73.898, 68.8  ,\n",
       "       69.652, 65.255, 70.   , 69.702, 65.2  , 67.355, 66.9  , 68.6  ,\n",
       "       66.402, 66.701, 67.1  , 68.001, 68.   , 67.401, 67.657, 75.1  ,\n",
       "       69.   , 72.6  , 67.3  , 70.799, 62.   , 73.9  , 68.25 , 68.098,\n",
       "       65.699, 68.8  , 64.401, 72.6  , 63.901, 62.5  , 65.9  , 68.699,\n",
       "       66.102, 73.898, 66.253, 64.703, 76.82 , 64.281, 68.034, 62.3  ,\n",
       "       67.102, 62.236, 58.221, 69.593, 50.114, 67.055, 64.233, 67.   ,\n",
       "       70.6  , 65.656, 53.515, 59.802, 68.999, 65.474, 57.586, 53.78 ,\n",
       "       62.409, 55.16 , 54.713, 58.968, 64.8  , 55.008, 56.904, 67.199,\n",
       "       58.709, 66.208, 66.7  , 64.3  , 66.005, 64.902, 60.583, 59.962,\n",
       "       54.151, 62.   , 54.706, 50.102, 51.969, 66.3  , 56.101, 56.498,\n",
       "       60.704, 67.201, 67.355, 56.799, 62.25 , 59.302, 67.   , 48.478,\n",
       "       67.299, 50.833, 57.349, 61.998, 59.   , 57.161, 59.305, 54.914,\n",
       "       55.809, 51.651, 60.633, 53.4  , 57.122, 57.999, 55.7  , 57.948,\n",
       "       48.7  , 59.269, 61.4  , 56.201, 52.493])"
      ]
     },
     "execution_count": 25,
     "metadata": {},
     "output_type": "execute_result"
    }
   ],
   "source": [
    "y"
   ]
  },
  {
   "cell_type": "code",
   "execution_count": 27,
   "metadata": {},
   "outputs": [
    {
     "data": {
      "text/plain": [
       "3010.2332125369126"
      ]
     },
     "execution_count": 27,
     "metadata": {},
     "output_type": "execute_result"
    }
   ],
   "source": [
    "error=((y-pred_y)**2).mean() #Mean Squared Error\n",
    "error"
   ]
  },
  {
   "cell_type": "code",
   "execution_count": 28,
   "metadata": {},
   "outputs": [
    {
     "data": {
      "text/plain": [
       "3115.132563164362"
      ]
     },
     "execution_count": 28,
     "metadata": {},
     "output_type": "execute_result"
    }
   ],
   "source": [
    "# 오차를 줄여야 한다.\n",
    "# w 값을 바꿔보자.\n",
    "w1=w-0.1 #0.9\n",
    "pred_y=w1*X[:,0]+b\n",
    "((y-pred_y)**2).mean()"
   ]
  },
  {
   "cell_type": "code",
   "execution_count": 29,
   "metadata": {},
   "outputs": [
    {
     "data": {
      "text/plain": [
       "2907.139859848926"
      ]
     },
     "execution_count": 29,
     "metadata": {},
     "output_type": "execute_result"
    }
   ],
   "source": [
    "w2=w+0.1\n",
    "pred_y=w2*X[:,0]+b\n",
    "((y-pred_y)**2).mean()"
   ]
  },
  {
   "cell_type": "code",
   "execution_count": 31,
   "metadata": {},
   "outputs": [
    {
     "data": {
      "text/plain": [
       "3021.1553306577184"
      ]
     },
     "execution_count": 31,
     "metadata": {},
     "output_type": "execute_result"
    }
   ],
   "source": [
    "b1=b-0.1\n",
    "pred_y=w*X[:,0]+b1\n",
    "((y-pred_y)**2).mean()"
   ]
  },
  {
   "cell_type": "code",
   "execution_count": 32,
   "metadata": {},
   "outputs": [
    {
     "data": {
      "text/plain": [
       "2999.331094416107"
      ]
     },
     "execution_count": 32,
     "metadata": {},
     "output_type": "execute_result"
    }
   ],
   "source": [
    "b2=b+0.1\n",
    "pred_y=w*X[:,0]+b2\n",
    "((y-pred_y)**2).mean()"
   ]
  },
  {
   "cell_type": "code",
   "execution_count": 35,
   "metadata": {},
   "outputs": [
    {
     "name": "stdout",
     "output_type": "stream",
     "text": [
      "3010.2332125369126\n",
      "    0: 1.00, 1.00, 3009.08424\n",
      " 1000: 2.00, 2.00, 1970.38418\n",
      " 2000: 3.00, 3.00, 1152.01275\n",
      " 3000: 4.00, 4.00, 553.96995\n",
      " 4000: 5.00, 5.00, 176.25577\n",
      " 5000: 6.00, 6.00, 18.87022\n",
      " 6000: 6.13, 7.00, 13.55282\n",
      " 7000: 6.03, 8.00, 13.25222\n",
      " 8000: 5.92, 9.00, 12.98118\n",
      " 9000: 5.82, 10.00, 12.73964\n",
      "10000: 5.71, 11.00, 12.52765\n",
      "11000: 5.61, 12.00, 12.34520\n",
      "12000: 5.51, 13.00, 12.19226\n",
      "13000: 5.40, 14.00, 12.06887\n",
      "14000: 5.30, 15.00, 11.97500\n",
      "15000: 5.19, 16.00, 11.91069\n",
      "16000: 5.09, 17.00, 11.87586\n",
      "17000: 5.05, 17.34, 11.87077\n",
      "18000: 5.05, 17.34, 11.87077\n",
      "19000: 5.05, 17.34, 11.87077\n",
      "20000: 5.05, 17.34, 11.87077\n",
      "21000: 5.05, 17.34, 11.87077\n",
      "22000: 5.05, 17.34, 11.87077\n",
      "23000: 5.05, 17.34, 11.87077\n",
      "24000: 5.05, 17.34, 11.87077\n",
      "25000: 5.05, 17.34, 11.87077\n",
      "26000: 5.05, 17.34, 11.87077\n",
      "27000: 5.05, 17.34, 11.87077\n",
      "28000: 5.05, 17.34, 11.87077\n",
      "29000: 5.05, 17.34, 11.87077\n",
      "30000: 5.05, 17.34, 11.87077\n",
      "31000: 5.05, 17.34, 11.87077\n",
      "32000: 5.05, 17.34, 11.87077\n",
      "33000: 5.05, 17.34, 11.87077\n",
      "34000: 5.05, 17.34, 11.87077\n",
      "35000: 5.05, 17.34, 11.87077\n",
      "36000: 5.05, 17.34, 11.87077\n",
      "37000: 5.05, 17.34, 11.87077\n",
      "38000: 5.05, 17.34, 11.87077\n",
      "39000: 5.05, 17.34, 11.87077\n",
      "40000: 5.05, 17.34, 11.87077\n",
      "41000: 5.05, 17.34, 11.87077\n",
      "42000: 5.05, 17.34, 11.87077\n",
      "43000: 5.05, 17.34, 11.87077\n",
      "44000: 5.05, 17.34, 11.87077\n",
      "45000: 5.05, 17.34, 11.87077\n",
      "46000: 5.05, 17.34, 11.87077\n",
      "47000: 5.05, 17.34, 11.87077\n",
      "48000: 5.05, 17.34, 11.87077\n",
      "49000: 5.05, 17.34, 11.87077\n",
      "50000: 5.05, 17.34, 11.87077\n",
      "51000: 5.05, 17.34, 11.87077\n",
      "52000: 5.05, 17.34, 11.87077\n",
      "53000: 5.05, 17.34, 11.87077\n",
      "54000: 5.05, 17.34, 11.87077\n",
      "55000: 5.05, 17.34, 11.87077\n",
      "56000: 5.05, 17.34, 11.87077\n",
      "57000: 5.05, 17.34, 11.87077\n",
      "58000: 5.05, 17.34, 11.87077\n",
      "59000: 5.05, 17.34, 11.87077\n",
      "60000: 5.05, 17.34, 11.87077\n",
      "61000: 5.05, 17.34, 11.87077\n",
      "62000: 5.05, 17.34, 11.87077\n",
      "63000: 5.05, 17.34, 11.87077\n",
      "64000: 5.05, 17.34, 11.87077\n",
      "65000: 5.05, 17.34, 11.87077\n",
      "66000: 5.05, 17.34, 11.87077\n",
      "67000: 5.05, 17.34, 11.87077\n",
      "68000: 5.05, 17.34, 11.87077\n",
      "69000: 5.05, 17.34, 11.87077\n",
      "70000: 5.05, 17.34, 11.87077\n",
      "71000: 5.05, 17.34, 11.87077\n",
      "72000: 5.05, 17.34, 11.87077\n",
      "73000: 5.05, 17.34, 11.87077\n",
      "74000: 5.05, 17.34, 11.87077\n",
      "75000: 5.05, 17.34, 11.87077\n",
      "76000: 5.05, 17.34, 11.87077\n",
      "77000: 5.05, 17.34, 11.87077\n",
      "78000: 5.05, 17.34, 11.87077\n",
      "79000: 5.05, 17.34, 11.87077\n",
      "80000: 5.05, 17.34, 11.87077\n",
      "81000: 5.05, 17.34, 11.87077\n",
      "82000: 5.05, 17.34, 11.87077\n",
      "83000: 5.05, 17.34, 11.87077\n",
      "84000: 5.05, 17.34, 11.87077\n",
      "85000: 5.05, 17.34, 11.87077\n",
      "86000: 5.05, 17.34, 11.87077\n",
      "87000: 5.05, 17.34, 11.87077\n",
      "88000: 5.05, 17.34, 11.87077\n",
      "89000: 5.05, 17.34, 11.87077\n",
      "90000: 5.05, 17.34, 11.87077\n",
      "91000: 5.05, 17.34, 11.87077\n",
      "92000: 5.05, 17.34, 11.87077\n",
      "93000: 5.05, 17.34, 11.87077\n",
      "94000: 5.05, 17.34, 11.87077\n",
      "95000: 5.05, 17.34, 11.87077\n",
      "96000: 5.05, 17.34, 11.87077\n",
      "97000: 5.05, 17.34, 11.87077\n",
      "98000: 5.05, 17.34, 11.87077\n",
      "99000: 5.05, 17.34, 11.87077\n"
     ]
    }
   ],
   "source": [
    "w = 1.\n",
    "b = 1.\n",
    "\n",
    "delta = 0.001\n",
    "\n",
    "pred_y = w * X[:,0] + b\n",
    "error = ((y-pred_y)**2).mean()\n",
    "print(error)\n",
    "\n",
    "for epoch in range(100000):\n",
    "    w_next = w\n",
    "    b_next = b\n",
    "    \n",
    "    w1 = w+delta\n",
    "    pred_y = w1*X[:,0] + b\n",
    "    error1 = ((y-pred_y)**2).mean()\n",
    "    \n",
    "    w2 = w-delta\n",
    "    pred_y = w2*X[:,0] + b\n",
    "    error2 = ((y-pred_y)**2).mean()\n",
    "    \n",
    "    if (error1<error) and (error1<error2):\n",
    "        w_next = w1\n",
    "    if (error2<error) and (error2<error1):\n",
    "        w_next = w2\n",
    "        \n",
    "    b1 = b+delta\n",
    "    pred_y = w*X[:,0] + b1\n",
    "    error1 = ((y-pred_y)**2).mean()\n",
    "    \n",
    "    b2 = b-delta\n",
    "    pred_y = w*X[:,0] + b2\n",
    "    error2 = ((y-pred_y)**2).mean()\n",
    "    \n",
    "    if (error1<error) and (error1<error2):\n",
    "        b_next = b1\n",
    "    if (error2<error) and (error2<error1):\n",
    "        b_next = b2\n",
    "        \n",
    "    w = w_next\n",
    "    b = b_next\n",
    "    pred_y = w * X[:,0] + b\n",
    "    error = ((y-pred_y)**2).mean()\n",
    "    if epoch%1000==0: print('%5d: %.2f, %.2f, %.5f' % (epoch, w, b, error))"
   ]
  },
  {
   "cell_type": "code",
   "execution_count": null,
   "metadata": {},
   "outputs": [],
   "source": []
  }
 ],
 "metadata": {
  "kernelspec": {
   "display_name": "Python 3",
   "language": "python",
   "name": "python3"
  },
  "language_info": {
   "codemirror_mode": {
    "name": "ipython",
    "version": 3
   },
   "file_extension": ".py",
   "mimetype": "text/x-python",
   "name": "python",
   "nbconvert_exporter": "python",
   "pygments_lexer": "ipython3",
   "version": "3.8.5"
  }
 },
 "nbformat": 4,
 "nbformat_minor": 4
}
