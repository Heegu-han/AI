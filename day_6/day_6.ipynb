{
 "cells": [
  {
   "cell_type": "markdown",
   "metadata": {},
   "source": [
    "# Day6\n",
    "\n",
    "## 파이썬 Numpy"
   ]
  },
  {
   "cell_type": "code",
   "execution_count": 1,
   "metadata": {},
   "outputs": [],
   "source": [
    "import numpy as np\n",
    "import matplotlib.pyplot as plt"
   ]
  },
  {
   "cell_type": "code",
   "execution_count": 2,
   "metadata": {},
   "outputs": [
    {
     "data": {
      "text/plain": [
       "array([[0., 0., 0.],\n",
       "       [0., 0., 0.],\n",
       "       [0., 0., 0.]])"
      ]
     },
     "execution_count": 2,
     "metadata": {},
     "output_type": "execute_result"
    }
   ],
   "source": [
    "a = np.zeros([3,3])\n",
    "a"
   ]
  },
  {
   "cell_type": "code",
   "execution_count": 3,
   "metadata": {},
   "outputs": [
    {
     "data": {
      "text/plain": [
       "array([[1., 1., 1.],\n",
       "       [1., 1., 1.],\n",
       "       [1., 1., 1.]])"
      ]
     },
     "execution_count": 3,
     "metadata": {},
     "output_type": "execute_result"
    }
   ],
   "source": [
    "a +1"
   ]
  },
  {
   "cell_type": "code",
   "execution_count": 4,
   "metadata": {},
   "outputs": [
    {
     "data": {
      "text/plain": [
       "array([[0., 0., 0.],\n",
       "       [0., 0., 0.],\n",
       "       [0., 0., 0.]])"
      ]
     },
     "execution_count": 4,
     "metadata": {},
     "output_type": "execute_result"
    }
   ],
   "source": [
    "a"
   ]
  },
  {
   "cell_type": "code",
   "execution_count": 5,
   "metadata": {},
   "outputs": [
    {
     "data": {
      "text/plain": [
       "array([[1., 1., 1.],\n",
       "       [1., 1., 1.],\n",
       "       [1., 1., 1.]])"
      ]
     },
     "execution_count": 5,
     "metadata": {},
     "output_type": "execute_result"
    }
   ],
   "source": [
    "b= np.ones([3,3])\n",
    "b"
   ]
  },
  {
   "cell_type": "code",
   "execution_count": 6,
   "metadata": {},
   "outputs": [
    {
     "data": {
      "text/plain": [
       "array([[1., 1., 1.],\n",
       "       [1., 1., 1.],\n",
       "       [1., 1., 1.]])"
      ]
     },
     "execution_count": 6,
     "metadata": {},
     "output_type": "execute_result"
    }
   ],
   "source": [
    "a+b"
   ]
  },
  {
   "cell_type": "code",
   "execution_count": 9,
   "metadata": {},
   "outputs": [
    {
     "data": {
      "text/plain": [
       "array([[1., 0., 0.],\n",
       "       [0., 1., 0.],\n",
       "       [0., 0., 1.]])"
      ]
     },
     "execution_count": 9,
     "metadata": {},
     "output_type": "execute_result"
    }
   ],
   "source": [
    "c= np.eye(3)\n",
    "c"
   ]
  },
  {
   "cell_type": "code",
   "execution_count": 10,
   "metadata": {},
   "outputs": [
    {
     "data": {
      "text/plain": [
       "array([[2., 1., 1.],\n",
       "       [1., 2., 1.],\n",
       "       [1., 1., 2.]])"
      ]
     },
     "execution_count": 10,
     "metadata": {},
     "output_type": "execute_result"
    }
   ],
   "source": [
    "b+c"
   ]
  },
  {
   "cell_type": "code",
   "execution_count": 11,
   "metadata": {},
   "outputs": [
    {
     "data": {
      "text/plain": [
       "array([[0., 0., 0.],\n",
       "       [0., 0., 0.],\n",
       "       [0., 0., 0.]])"
      ]
     },
     "metadata": {},
     "output_type": "display_data"
    },
    {
     "data": {
      "text/plain": [
       "array([[1., 1., 1.],\n",
       "       [1., 1., 1.],\n",
       "       [1., 1., 1.]])"
      ]
     },
     "metadata": {},
     "output_type": "display_data"
    },
    {
     "data": {
      "text/plain": [
       "array([[1., 0., 0.],\n",
       "       [0., 1., 0.],\n",
       "       [0., 0., 1.]])"
      ]
     },
     "metadata": {},
     "output_type": "display_data"
    }
   ],
   "source": [
    "display(a,b,c)"
   ]
  },
  {
   "cell_type": "code",
   "execution_count": 12,
   "metadata": {},
   "outputs": [
    {
     "data": {
      "text/plain": [
       "array([[ True, False, False],\n",
       "       [False,  True, False],\n",
       "       [False, False,  True]])"
      ]
     },
     "execution_count": 12,
     "metadata": {},
     "output_type": "execute_result"
    }
   ],
   "source": [
    "c>a"
   ]
  },
  {
   "cell_type": "code",
   "execution_count": 13,
   "metadata": {},
   "outputs": [],
   "source": [
    "a = np.ones([3,3])*2"
   ]
  },
  {
   "cell_type": "code",
   "execution_count": 14,
   "metadata": {},
   "outputs": [
    {
     "data": {
      "text/plain": [
       "array([[2., 2., 2.],\n",
       "       [2., 2., 2.],\n",
       "       [2., 2., 2.]])"
      ]
     },
     "execution_count": 14,
     "metadata": {},
     "output_type": "execute_result"
    }
   ],
   "source": [
    "a"
   ]
  },
  {
   "cell_type": "code",
   "execution_count": 16,
   "metadata": {},
   "outputs": [
    {
     "data": {
      "text/plain": [
       "array([[ 0,  1,  2,  3],\n",
       "       [ 4,  5,  6,  7],\n",
       "       [ 8,  9, 10, 11]])"
      ]
     },
     "execution_count": 16,
     "metadata": {},
     "output_type": "execute_result"
    }
   ],
   "source": [
    "a=np.arange(12).reshape(3,4)\n",
    "a"
   ]
  },
  {
   "cell_type": "code",
   "execution_count": 17,
   "metadata": {},
   "outputs": [
    {
     "data": {
      "text/plain": [
       "[[0, 10, 20, 30], [0, 10, 20, 30], [0, 10, 20, 30]]"
      ]
     },
     "execution_count": 17,
     "metadata": {},
     "output_type": "execute_result"
    }
   ],
   "source": [
    "b=[[0,10,20,30]]*3\n",
    "b"
   ]
  },
  {
   "cell_type": "code",
   "execution_count": 18,
   "metadata": {},
   "outputs": [
    {
     "data": {
      "text/plain": [
       "array([[ 0, 10, 20, 30],\n",
       "       [ 0, 10, 20, 30],\n",
       "       [ 0, 10, 20, 30]])"
      ]
     },
     "execution_count": 18,
     "metadata": {},
     "output_type": "execute_result"
    }
   ],
   "source": [
    "b=np.array(b)\n",
    "b"
   ]
  },
  {
   "cell_type": "code",
   "execution_count": 19,
   "metadata": {},
   "outputs": [
    {
     "data": {
      "text/plain": [
       "array([[ 0, 11, 22, 33],\n",
       "       [ 4, 15, 26, 37],\n",
       "       [ 8, 19, 30, 41]])"
      ]
     },
     "execution_count": 19,
     "metadata": {},
     "output_type": "execute_result"
    }
   ],
   "source": [
    "a+b"
   ]
  },
  {
   "cell_type": "code",
   "execution_count": 20,
   "metadata": {},
   "outputs": [],
   "source": [
    "b=np.array([[0.1,0.5,1,2]]*3)"
   ]
  },
  {
   "cell_type": "code",
   "execution_count": 21,
   "metadata": {},
   "outputs": [
    {
     "data": {
      "text/plain": [
       "array([[0.1, 0.5, 1. , 2. ],\n",
       "       [0.1, 0.5, 1. , 2. ],\n",
       "       [0.1, 0.5, 1. , 2. ]])"
      ]
     },
     "execution_count": 21,
     "metadata": {},
     "output_type": "execute_result"
    }
   ],
   "source": [
    "b"
   ]
  },
  {
   "cell_type": "code",
   "execution_count": 22,
   "metadata": {},
   "outputs": [
    {
     "data": {
      "text/plain": [
       "array([[ 0. ,  0.5,  2. ,  6. ],\n",
       "       [ 0.4,  2.5,  6. , 14. ],\n",
       "       [ 0.8,  4.5, 10. , 22. ]])"
      ]
     },
     "execution_count": 22,
     "metadata": {},
     "output_type": "execute_result"
    }
   ],
   "source": [
    "a*b"
   ]
  },
  {
   "cell_type": "code",
   "execution_count": 24,
   "metadata": {},
   "outputs": [
    {
     "data": {
      "text/plain": [
       "<matplotlib.colorbar.Colorbar at 0x1584bbe84c0>"
      ]
     },
     "execution_count": 24,
     "metadata": {},
     "output_type": "execute_result"
    },
    {
     "data": {
      "image/png": "[encoded data removed]",
      "text/plain": [
       "<Figure size 432x288 with 2 Axes>"
      ]
     },
     "metadata": {
      "needs_background": "light"
     },
     "output_type": "display_data"
    }
   ],
   "source": [
    "plt.imshow(a*b, cmap='gray')\n",
    "plt.colorbar()"
   ]
  },
  {
   "cell_type": "code",
   "execution_count": 25,
   "metadata": {},
   "outputs": [],
   "source": [
    "# iris.csv 파일을 읽어 리스트로 변환 => 넘파이 어레이로 변환"
   ]
  },
  {
   "cell_type": "code",
   "execution_count": 31,
   "metadata": {},
   "outputs": [
    {
     "data": {
      "text/plain": [
       "array([['5.1', '3.5', '1.4', '0.2', 'Iris-setosa'],\n",
       "       ['4.9', '3.0', '1.4', '0.2', 'Iris-setosa'],\n",
       "       ['4.7', '3.2', '1.3', '0.2', 'Iris-setosa'],\n",
       "       ['4.6', '3.1', '1.5', '0.2', 'Iris-setosa'],\n",
       "       ['5.0', '3.6', '1.4', '0.2', 'Iris-setosa'],\n",
       "       ['5.4', '3.9', '1.7', '0.4', 'Iris-setosa'],\n",
       "       ['4.6', '3.4', '1.4', '0.3', 'Iris-setosa'],\n",
       "       ['5.0', '3.4', '1.5', '0.2', 'Iris-setosa'],\n",
       "       ['4.4', '2.9', '1.4', '0.2', 'Iris-setosa'],\n",
       "       ['4.9', '3.1', '1.5', '0.1', 'Iris-setosa'],\n",
       "       ['5.4', '3.7', '1.5', '0.2', 'Iris-setosa'],\n",
       "       ['4.8', '3.4', '1.6', '0.2', 'Iris-setosa'],\n",
       "       ['4.8', '3.0', '1.4', '0.1', 'Iris-setosa'],\n",
       "       ['4.3', '3.0', '1.1', '0.1', 'Iris-setosa'],\n",
       "       ['5.8', '4.0', '1.2', '0.2', 'Iris-setosa'],\n",
       "       ['5.7', '4.4', '1.5', '0.4', 'Iris-setosa'],\n",
       "       ['5.4', '3.9', '1.3', '0.4', 'Iris-setosa'],\n",
       "       ['5.1', '3.5', '1.4', '0.3', 'Iris-setosa'],\n",
       "       ['5.7', '3.8', '1.7', '0.3', 'Iris-setosa'],\n",
       "       ['5.1', '3.8', '1.5', '0.3', 'Iris-setosa'],\n",
       "       ['5.4', '3.4', '1.7', '0.2', 'Iris-setosa'],\n",
       "       ['5.1', '3.7', '1.5', '0.4', 'Iris-setosa'],\n",
       "       ['4.6', '3.6', '1.0', '0.2', 'Iris-setosa'],\n",
       "       ['5.1', '3.3', '1.7', '0.5', 'Iris-setosa'],\n",
       "       ['4.8', '3.4', '1.9', '0.2', 'Iris-setosa'],\n",
       "       ['5.0', '3.0', '1.6', '0.2', 'Iris-setosa'],\n",
       "       ['5.0', '3.4', '1.6', '0.4', 'Iris-setosa'],\n",
       "       ['5.2', '3.5', '1.5', '0.2', 'Iris-setosa'],\n",
       "       ['5.2', '3.4', '1.4', '0.2', 'Iris-setosa'],\n",
       "       ['4.7', '3.2', '1.6', '0.2', 'Iris-setosa'],\n",
       "       ['4.8', '3.1', '1.6', '0.2', 'Iris-setosa'],\n",
       "       ['5.4', '3.4', '1.5', '0.4', 'Iris-setosa'],\n",
       "       ['5.2', '4.1', '1.5', '0.1', 'Iris-setosa'],\n",
       "       ['5.5', '4.2', '1.4', '0.2', 'Iris-setosa'],\n",
       "       ['4.9', '3.1', '1.5', '0.1', 'Iris-setosa'],\n",
       "       ['5.0', '3.2', '1.2', '0.2', 'Iris-setosa'],\n",
       "       ['5.5', '3.5', '1.3', '0.2', 'Iris-setosa'],\n",
       "       ['4.9', '3.1', '1.5', '0.1', 'Iris-setosa'],\n",
       "       ['4.4', '3.0', '1.3', '0.2', 'Iris-setosa'],\n",
       "       ['5.1', '3.4', '1.5', '0.2', 'Iris-setosa'],\n",
       "       ['5.0', '3.5', '1.3', '0.3', 'Iris-setosa'],\n",
       "       ['4.5', '2.3', '1.3', '0.3', 'Iris-setosa'],\n",
       "       ['4.4', '3.2', '1.3', '0.2', 'Iris-setosa'],\n",
       "       ['5.0', '3.5', '1.6', '0.6', 'Iris-setosa'],\n",
       "       ['5.1', '3.8', '1.9', '0.4', 'Iris-setosa'],\n",
       "       ['4.8', '3.0', '1.4', '0.3', 'Iris-setosa'],\n",
       "       ['5.1', '3.8', '1.6', '0.2', 'Iris-setosa'],\n",
       "       ['4.6', '3.2', '1.4', '0.2', 'Iris-setosa'],\n",
       "       ['5.3', '3.7', '1.5', '0.2', 'Iris-setosa'],\n",
       "       ['5.0', '3.3', '1.4', '0.2', 'Iris-setosa'],\n",
       "       ['7.0', '3.2', '4.7', '1.4', 'Iris-versicolor'],\n",
       "       ['6.4', '3.2', '4.5', '1.5', 'Iris-versicolor'],\n",
       "       ['6.9', '3.1', '4.9', '1.5', 'Iris-versicolor'],\n",
       "       ['5.5', '2.3', '4.0', '1.3', 'Iris-versicolor'],\n",
       "       ['6.5', '2.8', '4.6', '1.5', 'Iris-versicolor'],\n",
       "       ['5.7', '2.8', '4.5', '1.3', 'Iris-versicolor'],\n",
       "       ['6.3', '3.3', '4.7', '1.6', 'Iris-versicolor'],\n",
       "       ['4.9', '2.4', '3.3', '1.0', 'Iris-versicolor'],\n",
       "       ['6.6', '2.9', '4.6', '1.3', 'Iris-versicolor'],\n",
       "       ['5.2', '2.7', '3.9', '1.4', 'Iris-versicolor'],\n",
       "       ['5.0', '2.0', '3.5', '1.0', 'Iris-versicolor'],\n",
       "       ['5.9', '3.0', '4.2', '1.5', 'Iris-versicolor'],\n",
       "       ['6.0', '2.2', '4.0', '1.0', 'Iris-versicolor'],\n",
       "       ['6.1', '2.9', '4.7', '1.4', 'Iris-versicolor'],\n",
       "       ['5.6', '2.9', '3.6', '1.3', 'Iris-versicolor'],\n",
       "       ['6.7', '3.1', '4.4', '1.4', 'Iris-versicolor'],\n",
       "       ['5.6', '3.0', '4.5', '1.5', 'Iris-versicolor'],\n",
       "       ['5.8', '2.7', '4.1', '1.0', 'Iris-versicolor'],\n",
       "       ['6.2', '2.2', '4.5', '1.5', 'Iris-versicolor'],\n",
       "       ['5.6', '2.5', '3.9', '1.1', 'Iris-versicolor'],\n",
       "       ['5.9', '3.2', '4.8', '1.8', 'Iris-versicolor'],\n",
       "       ['6.1', '2.8', '4.0', '1.3', 'Iris-versicolor'],\n",
       "       ['6.3', '2.5', '4.9', '1.5', 'Iris-versicolor'],\n",
       "       ['6.1', '2.8', '4.7', '1.2', 'Iris-versicolor'],\n",
       "       ['6.4', '2.9', '4.3', '1.3', 'Iris-versicolor'],\n",
       "       ['6.6', '3.0', '4.4', '1.4', 'Iris-versicolor'],\n",
       "       ['6.8', '2.8', '4.8', '1.4', 'Iris-versicolor'],\n",
       "       ['6.7', '3.0', '5.0', '1.7', 'Iris-versicolor'],\n",
       "       ['6.0', '2.9', '4.5', '1.5', 'Iris-versicolor'],\n",
       "       ['5.7', '2.6', '3.5', '1.0', 'Iris-versicolor'],\n",
       "       ['5.5', '2.4', '3.8', '1.1', 'Iris-versicolor'],\n",
       "       ['5.5', '2.4', '3.7', '1.0', 'Iris-versicolor'],\n",
       "       ['5.8', '2.7', '3.9', '1.2', 'Iris-versicolor'],\n",
       "       ['6.0', '2.7', '5.1', '1.6', 'Iris-versicolor'],\n",
       "       ['5.4', '3.0', '4.5', '1.5', 'Iris-versicolor'],\n",
       "       ['6.0', '3.4', '4.5', '1.6', 'Iris-versicolor'],\n",
       "       ['6.7', '3.1', '4.7', '1.5', 'Iris-versicolor'],\n",
       "       ['6.3', '2.3', '4.4', '1.3', 'Iris-versicolor'],\n",
       "       ['5.6', '3.0', '4.1', '1.3', 'Iris-versicolor'],\n",
       "       ['5.5', '2.5', '4.0', '1.3', 'Iris-versicolor'],\n",
       "       ['5.5', '2.6', '4.4', '1.2', 'Iris-versicolor'],\n",
       "       ['6.1', '3.0', '4.6', '1.4', 'Iris-versicolor'],\n",
       "       ['5.8', '2.6', '4.0', '1.2', 'Iris-versicolor'],\n",
       "       ['5.0', '2.3', '3.3', '1.0', 'Iris-versicolor'],\n",
       "       ['5.6', '2.7', '4.2', '1.3', 'Iris-versicolor'],\n",
       "       ['5.7', '3.0', '4.2', '1.2', 'Iris-versicolor'],\n",
       "       ['5.7', '2.9', '4.2', '1.3', 'Iris-versicolor'],\n",
       "       ['6.2', '2.9', '4.3', '1.3', 'Iris-versicolor'],\n",
       "       ['5.1', '2.5', '3.0', '1.1', 'Iris-versicolor'],\n",
       "       ['5.7', '2.8', '4.1', '1.3', 'Iris-versicolor'],\n",
       "       ['6.3', '3.3', '6.0', '2.5', 'Iris-virginica'],\n",
       "       ['5.8', '2.7', '5.1', '1.9', 'Iris-virginica'],\n",
       "       ['7.1', '3.0', '5.9', '2.1', 'Iris-virginica'],\n",
       "       ['6.3', '2.9', '5.6', '1.8', 'Iris-virginica'],\n",
       "       ['6.5', '3.0', '5.8', '2.2', 'Iris-virginica'],\n",
       "       ['7.6', '3.0', '6.6', '2.1', 'Iris-virginica'],\n",
       "       ['4.9', '2.5', '4.5', '1.7', 'Iris-virginica'],\n",
       "       ['7.3', '2.9', '6.3', '1.8', 'Iris-virginica'],\n",
       "       ['6.7', '2.5', '5.8', '1.8', 'Iris-virginica'],\n",
       "       ['7.2', '3.6', '6.1', '2.5', 'Iris-virginica'],\n",
       "       ['6.5', '3.2', '5.1', '2.0', 'Iris-virginica'],\n",
       "       ['6.4', '2.7', '5.3', '1.9', 'Iris-virginica'],\n",
       "       ['6.8', '3.0', '5.5', '2.1', 'Iris-virginica'],\n",
       "       ['5.7', '2.5', '5.0', '2.0', 'Iris-virginica'],\n",
       "       ['5.8', '2.8', '5.1', '2.4', 'Iris-virginica'],\n",
       "       ['6.4', '3.2', '5.3', '2.3', 'Iris-virginica'],\n",
       "       ['6.5', '3.0', '5.5', '1.8', 'Iris-virginica'],\n",
       "       ['7.7', '3.8', '6.7', '2.2', 'Iris-virginica'],\n",
       "       ['7.7', '2.6', '6.9', '2.3', 'Iris-virginica'],\n",
       "       ['6.0', '2.2', '5.0', '1.5', 'Iris-virginica'],\n",
       "       ['6.9', '3.2', '5.7', '2.3', 'Iris-virginica'],\n",
       "       ['5.6', '2.8', '4.9', '2.0', 'Iris-virginica'],\n",
       "       ['7.7', '2.8', '6.7', '2.0', 'Iris-virginica'],\n",
       "       ['6.3', '2.7', '4.9', '1.8', 'Iris-virginica'],\n",
       "       ['6.7', '3.3', '5.7', '2.1', 'Iris-virginica'],\n",
       "       ['7.2', '3.2', '6.0', '1.8', 'Iris-virginica'],\n",
       "       ['6.2', '2.8', '4.8', '1.8', 'Iris-virginica'],\n",
       "       ['6.1', '3.0', '4.9', '1.8', 'Iris-virginica'],\n",
       "       ['6.4', '2.8', '5.6', '2.1', 'Iris-virginica'],\n",
       "       ['7.2', '3.0', '5.8', '1.6', 'Iris-virginica'],\n",
       "       ['7.4', '2.8', '6.1', '1.9', 'Iris-virginica'],\n",
       "       ['7.9', '3.8', '6.4', '2.0', 'Iris-virginica'],\n",
       "       ['6.4', '2.8', '5.6', '2.2', 'Iris-virginica'],\n",
       "       ['6.3', '2.8', '5.1', '1.5', 'Iris-virginica'],\n",
       "       ['6.1', '2.6', '5.6', '1.4', 'Iris-virginica'],\n",
       "       ['7.7', '3.0', '6.1', '2.3', 'Iris-virginica'],\n",
       "       ['6.3', '3.4', '5.6', '2.4', 'Iris-virginica'],\n",
       "       ['6.4', '3.1', '5.5', '1.8', 'Iris-virginica'],\n",
       "       ['6.0', '3.0', '4.8', '1.8', 'Iris-virginica'],\n",
       "       ['6.9', '3.1', '5.4', '2.1', 'Iris-virginica'],\n",
       "       ['6.7', '3.1', '5.6', '2.4', 'Iris-virginica'],\n",
       "       ['6.9', '3.1', '5.1', '2.3', 'Iris-virginica'],\n",
       "       ['5.8', '2.7', '5.1', '1.9', 'Iris-virginica'],\n",
       "       ['6.8', '3.2', '5.9', '2.3', 'Iris-virginica'],\n",
       "       ['6.7', '3.3', '5.7', '2.5', 'Iris-virginica'],\n",
       "       ['6.7', '3.0', '5.2', '2.3', 'Iris-virginica'],\n",
       "       ['6.3', '2.5', '5.0', '1.9', 'Iris-virginica'],\n",
       "       ['6.5', '3.0', '5.2', '2.0', 'Iris-virginica'],\n",
       "       ['6.2', '3.4', '5.4', '2.3', 'Iris-virginica'],\n",
       "       ['5.9', '3.0', '5.1', '1.8', 'Iris-virginica']], dtype='<U15')"
      ]
     },
     "execution_count": 31,
     "metadata": {},
     "output_type": "execute_result"
    }
   ],
   "source": [
    "data=[]\n",
    "code=['Iris-setosa','Iris-versicolor','Iris-virginica']\n",
    "f=open('iris.csv')\n",
    "header=f.readline()\n",
    "\n",
    "for line in f:\n",
    "    l=line.strip().split(',')\n",
    "    ㅣ=[float(i) for i in l[:-1]] + [code.index(l[4])]\n",
    "    data.append(l)\n",
    "    \n",
    "f.close()\n",
    "iris=np.array(data)\n",
    "iris"
   ]
  },
  {
   "cell_type": "code",
   "execution_count": 32,
   "metadata": {},
   "outputs": [
    {
     "data": {
      "text/plain": [
       "(150, 5)"
      ]
     },
     "execution_count": 32,
     "metadata": {},
     "output_type": "execute_result"
    }
   ],
   "source": [
    "iris.shape"
   ]
  },
  {
   "cell_type": "code",
   "execution_count": 33,
   "metadata": {},
   "outputs": [
    {
     "data": {
      "text/plain": [
       "array(['5.9', '3.0', '5.1', '1.8', 'Iris-virginica'], dtype='<U15')"
      ]
     },
     "execution_count": 33,
     "metadata": {},
     "output_type": "execute_result"
    }
   ],
   "source": [
    "# 한 칼럼\n",
    "# 여러 칼럼\n",
    "# 한 행\n",
    "# 여러 행\n",
    "# 직사각형\n",
    "iris[-1]"
   ]
  },
  {
   "cell_type": "code",
   "execution_count": 34,
   "metadata": {},
   "outputs": [
    {
     "data": {
      "text/plain": [
       "array([['5.1', '3.5', '1.4', '0.2', 'Iris-setosa'],\n",
       "       ['5.4', '3.9', '1.7', '0.4', 'Iris-setosa'],\n",
       "       ['5.4', '3.7', '1.5', '0.2', 'Iris-setosa'],\n",
       "       ['5.7', '4.4', '1.5', '0.4', 'Iris-setosa'],\n",
       "       ['5.4', '3.4', '1.7', '0.2', 'Iris-setosa'],\n",
       "       ['5.0', '3.0', '1.6', '0.2', 'Iris-setosa'],\n",
       "       ['4.8', '3.1', '1.6', '0.2', 'Iris-setosa'],\n",
       "       ['5.0', '3.2', '1.2', '0.2', 'Iris-setosa'],\n",
       "       ['5.0', '3.5', '1.3', '0.3', 'Iris-setosa'],\n",
       "       ['4.8', '3.0', '1.4', '0.3', 'Iris-setosa'],\n",
       "       ['7.0', '3.2', '4.7', '1.4', 'Iris-versicolor'],\n",
       "       ['5.7', '2.8', '4.5', '1.3', 'Iris-versicolor'],\n",
       "       ['5.0', '2.0', '3.5', '1.0', 'Iris-versicolor'],\n",
       "       ['6.7', '3.1', '4.4', '1.4', 'Iris-versicolor'],\n",
       "       ['5.9', '3.2', '4.8', '1.8', 'Iris-versicolor'],\n",
       "       ['6.6', '3.0', '4.4', '1.4', 'Iris-versicolor'],\n",
       "       ['5.5', '2.4', '3.8', '1.1', 'Iris-versicolor'],\n",
       "       ['6.0', '3.4', '4.5', '1.6', 'Iris-versicolor'],\n",
       "       ['5.5', '2.6', '4.4', '1.2', 'Iris-versicolor'],\n",
       "       ['5.7', '3.0', '4.2', '1.2', 'Iris-versicolor'],\n",
       "       ['6.3', '3.3', '6.0', '2.5', 'Iris-virginica'],\n",
       "       ['7.6', '3.0', '6.6', '2.1', 'Iris-virginica'],\n",
       "       ['6.5', '3.2', '5.1', '2.0', 'Iris-virginica'],\n",
       "       ['6.4', '3.2', '5.3', '2.3', 'Iris-virginica'],\n",
       "       ['6.9', '3.2', '5.7', '2.3', 'Iris-virginica'],\n",
       "       ['7.2', '3.2', '6.0', '1.8', 'Iris-virginica'],\n",
       "       ['7.4', '2.8', '6.1', '1.9', 'Iris-virginica'],\n",
       "       ['7.7', '3.0', '6.1', '2.3', 'Iris-virginica'],\n",
       "       ['6.7', '3.1', '5.6', '2.4', 'Iris-virginica'],\n",
       "       ['6.7', '3.0', '5.2', '2.3', 'Iris-virginica']], dtype='<U15')"
      ]
     },
     "execution_count": 34,
     "metadata": {},
     "output_type": "execute_result"
    }
   ],
   "source": [
    "iris[::5]"
   ]
  },
  {
   "cell_type": "code",
   "execution_count": 35,
   "metadata": {},
   "outputs": [
    {
     "data": {
      "text/plain": [
       "array([['5.1', '1.4', 'Iris-setosa'],\n",
       "       ['4.9', '1.4', 'Iris-setosa'],\n",
       "       ['4.7', '1.3', 'Iris-setosa'],\n",
       "       ['4.6', '1.5', 'Iris-setosa'],\n",
       "       ['5.0', '1.4', 'Iris-setosa'],\n",
       "       ['5.4', '1.7', 'Iris-setosa'],\n",
       "       ['4.6', '1.4', 'Iris-setosa'],\n",
       "       ['5.0', '1.5', 'Iris-setosa'],\n",
       "       ['4.4', '1.4', 'Iris-setosa'],\n",
       "       ['4.9', '1.5', 'Iris-setosa'],\n",
       "       ['5.4', '1.5', 'Iris-setosa'],\n",
       "       ['4.8', '1.6', 'Iris-setosa'],\n",
       "       ['4.8', '1.4', 'Iris-setosa'],\n",
       "       ['4.3', '1.1', 'Iris-setosa'],\n",
       "       ['5.8', '1.2', 'Iris-setosa'],\n",
       "       ['5.7', '1.5', 'Iris-setosa'],\n",
       "       ['5.4', '1.3', 'Iris-setosa'],\n",
       "       ['5.1', '1.4', 'Iris-setosa'],\n",
       "       ['5.7', '1.7', 'Iris-setosa'],\n",
       "       ['5.1', '1.5', 'Iris-setosa'],\n",
       "       ['5.4', '1.7', 'Iris-setosa'],\n",
       "       ['5.1', '1.5', 'Iris-setosa'],\n",
       "       ['4.6', '1.0', 'Iris-setosa'],\n",
       "       ['5.1', '1.7', 'Iris-setosa'],\n",
       "       ['4.8', '1.9', 'Iris-setosa'],\n",
       "       ['5.0', '1.6', 'Iris-setosa'],\n",
       "       ['5.0', '1.6', 'Iris-setosa'],\n",
       "       ['5.2', '1.5', 'Iris-setosa'],\n",
       "       ['5.2', '1.4', 'Iris-setosa'],\n",
       "       ['4.7', '1.6', 'Iris-setosa'],\n",
       "       ['4.8', '1.6', 'Iris-setosa'],\n",
       "       ['5.4', '1.5', 'Iris-setosa'],\n",
       "       ['5.2', '1.5', 'Iris-setosa'],\n",
       "       ['5.5', '1.4', 'Iris-setosa'],\n",
       "       ['4.9', '1.5', 'Iris-setosa'],\n",
       "       ['5.0', '1.2', 'Iris-setosa'],\n",
       "       ['5.5', '1.3', 'Iris-setosa'],\n",
       "       ['4.9', '1.5', 'Iris-setosa'],\n",
       "       ['4.4', '1.3', 'Iris-setosa'],\n",
       "       ['5.1', '1.5', 'Iris-setosa'],\n",
       "       ['5.0', '1.3', 'Iris-setosa'],\n",
       "       ['4.5', '1.3', 'Iris-setosa'],\n",
       "       ['4.4', '1.3', 'Iris-setosa'],\n",
       "       ['5.0', '1.6', 'Iris-setosa'],\n",
       "       ['5.1', '1.9', 'Iris-setosa'],\n",
       "       ['4.8', '1.4', 'Iris-setosa'],\n",
       "       ['5.1', '1.6', 'Iris-setosa'],\n",
       "       ['4.6', '1.4', 'Iris-setosa'],\n",
       "       ['5.3', '1.5', 'Iris-setosa'],\n",
       "       ['5.0', '1.4', 'Iris-setosa'],\n",
       "       ['7.0', '4.7', 'Iris-versicolor'],\n",
       "       ['6.4', '4.5', 'Iris-versicolor'],\n",
       "       ['6.9', '4.9', 'Iris-versicolor'],\n",
       "       ['5.5', '4.0', 'Iris-versicolor'],\n",
       "       ['6.5', '4.6', 'Iris-versicolor'],\n",
       "       ['5.7', '4.5', 'Iris-versicolor'],\n",
       "       ['6.3', '4.7', 'Iris-versicolor'],\n",
       "       ['4.9', '3.3', 'Iris-versicolor'],\n",
       "       ['6.6', '4.6', 'Iris-versicolor'],\n",
       "       ['5.2', '3.9', 'Iris-versicolor'],\n",
       "       ['5.0', '3.5', 'Iris-versicolor'],\n",
       "       ['5.9', '4.2', 'Iris-versicolor'],\n",
       "       ['6.0', '4.0', 'Iris-versicolor'],\n",
       "       ['6.1', '4.7', 'Iris-versicolor'],\n",
       "       ['5.6', '3.6', 'Iris-versicolor'],\n",
       "       ['6.7', '4.4', 'Iris-versicolor'],\n",
       "       ['5.6', '4.5', 'Iris-versicolor'],\n",
       "       ['5.8', '4.1', 'Iris-versicolor'],\n",
       "       ['6.2', '4.5', 'Iris-versicolor'],\n",
       "       ['5.6', '3.9', 'Iris-versicolor'],\n",
       "       ['5.9', '4.8', 'Iris-versicolor'],\n",
       "       ['6.1', '4.0', 'Iris-versicolor'],\n",
       "       ['6.3', '4.9', 'Iris-versicolor'],\n",
       "       ['6.1', '4.7', 'Iris-versicolor'],\n",
       "       ['6.4', '4.3', 'Iris-versicolor'],\n",
       "       ['6.6', '4.4', 'Iris-versicolor'],\n",
       "       ['6.8', '4.8', 'Iris-versicolor'],\n",
       "       ['6.7', '5.0', 'Iris-versicolor'],\n",
       "       ['6.0', '4.5', 'Iris-versicolor'],\n",
       "       ['5.7', '3.5', 'Iris-versicolor'],\n",
       "       ['5.5', '3.8', 'Iris-versicolor'],\n",
       "       ['5.5', '3.7', 'Iris-versicolor'],\n",
       "       ['5.8', '3.9', 'Iris-versicolor'],\n",
       "       ['6.0', '5.1', 'Iris-versicolor'],\n",
       "       ['5.4', '4.5', 'Iris-versicolor'],\n",
       "       ['6.0', '4.5', 'Iris-versicolor'],\n",
       "       ['6.7', '4.7', 'Iris-versicolor'],\n",
       "       ['6.3', '4.4', 'Iris-versicolor'],\n",
       "       ['5.6', '4.1', 'Iris-versicolor'],\n",
       "       ['5.5', '4.0', 'Iris-versicolor'],\n",
       "       ['5.5', '4.4', 'Iris-versicolor'],\n",
       "       ['6.1', '4.6', 'Iris-versicolor'],\n",
       "       ['5.8', '4.0', 'Iris-versicolor'],\n",
       "       ['5.0', '3.3', 'Iris-versicolor'],\n",
       "       ['5.6', '4.2', 'Iris-versicolor'],\n",
       "       ['5.7', '4.2', 'Iris-versicolor'],\n",
       "       ['5.7', '4.2', 'Iris-versicolor'],\n",
       "       ['6.2', '4.3', 'Iris-versicolor'],\n",
       "       ['5.1', '3.0', 'Iris-versicolor'],\n",
       "       ['5.7', '4.1', 'Iris-versicolor'],\n",
       "       ['6.3', '6.0', 'Iris-virginica'],\n",
       "       ['5.8', '5.1', 'Iris-virginica'],\n",
       "       ['7.1', '5.9', 'Iris-virginica'],\n",
       "       ['6.3', '5.6', 'Iris-virginica'],\n",
       "       ['6.5', '5.8', 'Iris-virginica'],\n",
       "       ['7.6', '6.6', 'Iris-virginica'],\n",
       "       ['4.9', '4.5', 'Iris-virginica'],\n",
       "       ['7.3', '6.3', 'Iris-virginica'],\n",
       "       ['6.7', '5.8', 'Iris-virginica'],\n",
       "       ['7.2', '6.1', 'Iris-virginica'],\n",
       "       ['6.5', '5.1', 'Iris-virginica'],\n",
       "       ['6.4', '5.3', 'Iris-virginica'],\n",
       "       ['6.8', '5.5', 'Iris-virginica'],\n",
       "       ['5.7', '5.0', 'Iris-virginica'],\n",
       "       ['5.8', '5.1', 'Iris-virginica'],\n",
       "       ['6.4', '5.3', 'Iris-virginica'],\n",
       "       ['6.5', '5.5', 'Iris-virginica'],\n",
       "       ['7.7', '6.7', 'Iris-virginica'],\n",
       "       ['7.7', '6.9', 'Iris-virginica'],\n",
       "       ['6.0', '5.0', 'Iris-virginica'],\n",
       "       ['6.9', '5.7', 'Iris-virginica'],\n",
       "       ['5.6', '4.9', 'Iris-virginica'],\n",
       "       ['7.7', '6.7', 'Iris-virginica'],\n",
       "       ['6.3', '4.9', 'Iris-virginica'],\n",
       "       ['6.7', '5.7', 'Iris-virginica'],\n",
       "       ['7.2', '6.0', 'Iris-virginica'],\n",
       "       ['6.2', '4.8', 'Iris-virginica'],\n",
       "       ['6.1', '4.9', 'Iris-virginica'],\n",
       "       ['6.4', '5.6', 'Iris-virginica'],\n",
       "       ['7.2', '5.8', 'Iris-virginica'],\n",
       "       ['7.4', '6.1', 'Iris-virginica'],\n",
       "       ['7.9', '6.4', 'Iris-virginica'],\n",
       "       ['6.4', '5.6', 'Iris-virginica'],\n",
       "       ['6.3', '5.1', 'Iris-virginica'],\n",
       "       ['6.1', '5.6', 'Iris-virginica'],\n",
       "       ['7.7', '6.1', 'Iris-virginica'],\n",
       "       ['6.3', '5.6', 'Iris-virginica'],\n",
       "       ['6.4', '5.5', 'Iris-virginica'],\n",
       "       ['6.0', '4.8', 'Iris-virginica'],\n",
       "       ['6.9', '5.4', 'Iris-virginica'],\n",
       "       ['6.7', '5.6', 'Iris-virginica'],\n",
       "       ['6.9', '5.1', 'Iris-virginica'],\n",
       "       ['5.8', '5.1', 'Iris-virginica'],\n",
       "       ['6.8', '5.9', 'Iris-virginica'],\n",
       "       ['6.7', '5.7', 'Iris-virginica'],\n",
       "       ['6.7', '5.2', 'Iris-virginica'],\n",
       "       ['6.3', '5.0', 'Iris-virginica'],\n",
       "       ['6.5', '5.2', 'Iris-virginica'],\n",
       "       ['6.2', '5.4', 'Iris-virginica'],\n",
       "       ['5.9', '5.1', 'Iris-virginica']], dtype='<U15')"
      ]
     },
     "execution_count": 35,
     "metadata": {},
     "output_type": "execute_result"
    }
   ],
   "source": [
    "iris[:,::2]"
   ]
  },
  {
   "cell_type": "code",
   "execution_count": 36,
   "metadata": {},
   "outputs": [
    {
     "data": {
      "text/plain": [
       "array(['5.1', '4.9', '4.7', '4.6', '5.0', '5.4', '4.6', '5.0', '4.4',\n",
       "       '4.9', '5.4', '4.8', '4.8', '4.3', '5.8', '5.7', '5.4', '5.1',\n",
       "       '5.7', '5.1', '5.4', '5.1', '4.6', '5.1', '4.8', '5.0', '5.0',\n",
       "       '5.2', '5.2', '4.7', '4.8', '5.4', '5.2', '5.5', '4.9', '5.0',\n",
       "       '5.5', '4.9', '4.4', '5.1', '5.0', '4.5', '4.4', '5.0', '5.1',\n",
       "       '4.8', '5.1', '4.6', '5.3', '5.0', '7.0', '6.4', '6.9', '5.5',\n",
       "       '6.5', '5.7', '6.3', '4.9', '6.6', '5.2', '5.0', '5.9', '6.0',\n",
       "       '6.1', '5.6', '6.7', '5.6', '5.8', '6.2', '5.6', '5.9', '6.1',\n",
       "       '6.3', '6.1', '6.4', '6.6', '6.8', '6.7', '6.0', '5.7', '5.5',\n",
       "       '5.5', '5.8', '6.0', '5.4', '6.0', '6.7', '6.3', '5.6', '5.5',\n",
       "       '5.5', '6.1', '5.8', '5.0', '5.6', '5.7', '5.7', '6.2', '5.1',\n",
       "       '5.7', '6.3', '5.8', '7.1', '6.3', '6.5', '7.6', '4.9', '7.3',\n",
       "       '6.7', '7.2', '6.5', '6.4', '6.8', '5.7', '5.8', '6.4', '6.5',\n",
       "       '7.7', '7.7', '6.0', '6.9', '5.6', '7.7', '6.3', '6.7', '7.2',\n",
       "       '6.2', '6.1', '6.4', '7.2', '7.4', '7.9', '6.4', '6.3', '6.1',\n",
       "       '7.7', '6.3', '6.4', '6.0', '6.9', '6.7', '6.9', '5.8', '6.8',\n",
       "       '6.7', '6.7', '6.3', '6.5', '6.2', '5.9'], dtype='<U15')"
      ]
     },
     "execution_count": 36,
     "metadata": {},
     "output_type": "execute_result"
    }
   ],
   "source": [
    "iris[:,0]"
   ]
  },
  {
   "cell_type": "code",
   "execution_count": 38,
   "metadata": {},
   "outputs": [
    {
     "data": {
      "text/plain": [
       "[<matplotlib.lines.Line2D at 0x1584bd12220>]"
      ]
     },
     "execution_count": 38,
     "metadata": {},
     "output_type": "execute_result"
    },
    {
     "data": {
      "image/png": "[encoded data removed]",
      "text/plain": [
       "<Figure size 432x288 with 1 Axes>"
      ]
     },
     "metadata": {
      "needs_background": "light"
     },
     "output_type": "display_data"
    }
   ],
   "source": [
    "plt.plot(iris[:,4])\n"
   ]
  },
  {
   "cell_type": "code",
   "execution_count": 41,
   "metadata": {},
   "outputs": [
    {
     "data": {
      "text/plain": [
       "array([['5.1', '3.5', '1.4', '0.2'],\n",
       "       ['4.9', '3.0', '1.4', '0.2'],\n",
       "       ['4.7', '3.2', '1.3', '0.2'],\n",
       "       ['4.6', '3.1', '1.5', '0.2'],\n",
       "       ['5.0', '3.6', '1.4', '0.2'],\n",
       "       ['5.4', '3.9', '1.7', '0.4'],\n",
       "       ['4.6', '3.4', '1.4', '0.3'],\n",
       "       ['5.0', '3.4', '1.5', '0.2'],\n",
       "       ['4.4', '2.9', '1.4', '0.2'],\n",
       "       ['4.9', '3.1', '1.5', '0.1'],\n",
       "       ['5.4', '3.7', '1.5', '0.2'],\n",
       "       ['4.8', '3.4', '1.6', '0.2'],\n",
       "       ['4.8', '3.0', '1.4', '0.1'],\n",
       "       ['4.3', '3.0', '1.1', '0.1'],\n",
       "       ['5.8', '4.0', '1.2', '0.2'],\n",
       "       ['5.7', '4.4', '1.5', '0.4'],\n",
       "       ['5.4', '3.9', '1.3', '0.4'],\n",
       "       ['5.1', '3.5', '1.4', '0.3'],\n",
       "       ['5.7', '3.8', '1.7', '0.3'],\n",
       "       ['5.1', '3.8', '1.5', '0.3'],\n",
       "       ['5.4', '3.4', '1.7', '0.2'],\n",
       "       ['5.1', '3.7', '1.5', '0.4'],\n",
       "       ['4.6', '3.6', '1.0', '0.2'],\n",
       "       ['5.1', '3.3', '1.7', '0.5'],\n",
       "       ['4.8', '3.4', '1.9', '0.2'],\n",
       "       ['5.0', '3.0', '1.6', '0.2'],\n",
       "       ['5.0', '3.4', '1.6', '0.4'],\n",
       "       ['5.2', '3.5', '1.5', '0.2'],\n",
       "       ['5.2', '3.4', '1.4', '0.2'],\n",
       "       ['4.7', '3.2', '1.6', '0.2'],\n",
       "       ['4.8', '3.1', '1.6', '0.2'],\n",
       "       ['5.4', '3.4', '1.5', '0.4'],\n",
       "       ['5.2', '4.1', '1.5', '0.1'],\n",
       "       ['5.5', '4.2', '1.4', '0.2'],\n",
       "       ['4.9', '3.1', '1.5', '0.1'],\n",
       "       ['5.0', '3.2', '1.2', '0.2'],\n",
       "       ['5.5', '3.5', '1.3', '0.2'],\n",
       "       ['4.9', '3.1', '1.5', '0.1'],\n",
       "       ['4.4', '3.0', '1.3', '0.2'],\n",
       "       ['5.1', '3.4', '1.5', '0.2'],\n",
       "       ['5.0', '3.5', '1.3', '0.3'],\n",
       "       ['4.5', '2.3', '1.3', '0.3'],\n",
       "       ['4.4', '3.2', '1.3', '0.2'],\n",
       "       ['5.0', '3.5', '1.6', '0.6'],\n",
       "       ['5.1', '3.8', '1.9', '0.4'],\n",
       "       ['4.8', '3.0', '1.4', '0.3'],\n",
       "       ['5.1', '3.8', '1.6', '0.2'],\n",
       "       ['4.6', '3.2', '1.4', '0.2'],\n",
       "       ['5.3', '3.7', '1.5', '0.2'],\n",
       "       ['5.0', '3.3', '1.4', '0.2'],\n",
       "       ['7.0', '3.2', '4.7', '1.4'],\n",
       "       ['6.4', '3.2', '4.5', '1.5'],\n",
       "       ['6.9', '3.1', '4.9', '1.5'],\n",
       "       ['5.5', '2.3', '4.0', '1.3'],\n",
       "       ['6.5', '2.8', '4.6', '1.5'],\n",
       "       ['5.7', '2.8', '4.5', '1.3'],\n",
       "       ['6.3', '3.3', '4.7', '1.6'],\n",
       "       ['4.9', '2.4', '3.3', '1.0'],\n",
       "       ['6.6', '2.9', '4.6', '1.3'],\n",
       "       ['5.2', '2.7', '3.9', '1.4'],\n",
       "       ['5.0', '2.0', '3.5', '1.0'],\n",
       "       ['5.9', '3.0', '4.2', '1.5'],\n",
       "       ['6.0', '2.2', '4.0', '1.0'],\n",
       "       ['6.1', '2.9', '4.7', '1.4'],\n",
       "       ['5.6', '2.9', '3.6', '1.3'],\n",
       "       ['6.7', '3.1', '4.4', '1.4'],\n",
       "       ['5.6', '3.0', '4.5', '1.5'],\n",
       "       ['5.8', '2.7', '4.1', '1.0'],\n",
       "       ['6.2', '2.2', '4.5', '1.5'],\n",
       "       ['5.6', '2.5', '3.9', '1.1'],\n",
       "       ['5.9', '3.2', '4.8', '1.8'],\n",
       "       ['6.1', '2.8', '4.0', '1.3'],\n",
       "       ['6.3', '2.5', '4.9', '1.5'],\n",
       "       ['6.1', '2.8', '4.7', '1.2'],\n",
       "       ['6.4', '2.9', '4.3', '1.3'],\n",
       "       ['6.6', '3.0', '4.4', '1.4'],\n",
       "       ['6.8', '2.8', '4.8', '1.4'],\n",
       "       ['6.7', '3.0', '5.0', '1.7'],\n",
       "       ['6.0', '2.9', '4.5', '1.5'],\n",
       "       ['5.7', '2.6', '3.5', '1.0'],\n",
       "       ['5.5', '2.4', '3.8', '1.1'],\n",
       "       ['5.5', '2.4', '3.7', '1.0'],\n",
       "       ['5.8', '2.7', '3.9', '1.2'],\n",
       "       ['6.0', '2.7', '5.1', '1.6'],\n",
       "       ['5.4', '3.0', '4.5', '1.5'],\n",
       "       ['6.0', '3.4', '4.5', '1.6'],\n",
       "       ['6.7', '3.1', '4.7', '1.5'],\n",
       "       ['6.3', '2.3', '4.4', '1.3'],\n",
       "       ['5.6', '3.0', '4.1', '1.3'],\n",
       "       ['5.5', '2.5', '4.0', '1.3'],\n",
       "       ['5.5', '2.6', '4.4', '1.2'],\n",
       "       ['6.1', '3.0', '4.6', '1.4'],\n",
       "       ['5.8', '2.6', '4.0', '1.2'],\n",
       "       ['5.0', '2.3', '3.3', '1.0'],\n",
       "       ['5.6', '2.7', '4.2', '1.3'],\n",
       "       ['5.7', '3.0', '4.2', '1.2'],\n",
       "       ['5.7', '2.9', '4.2', '1.3'],\n",
       "       ['6.2', '2.9', '4.3', '1.3'],\n",
       "       ['5.1', '2.5', '3.0', '1.1'],\n",
       "       ['5.7', '2.8', '4.1', '1.3'],\n",
       "       ['6.3', '3.3', '6.0', '2.5'],\n",
       "       ['5.8', '2.7', '5.1', '1.9'],\n",
       "       ['7.1', '3.0', '5.9', '2.1'],\n",
       "       ['6.3', '2.9', '5.6', '1.8'],\n",
       "       ['6.5', '3.0', '5.8', '2.2'],\n",
       "       ['7.6', '3.0', '6.6', '2.1'],\n",
       "       ['4.9', '2.5', '4.5', '1.7'],\n",
       "       ['7.3', '2.9', '6.3', '1.8'],\n",
       "       ['6.7', '2.5', '5.8', '1.8'],\n",
       "       ['7.2', '3.6', '6.1', '2.5'],\n",
       "       ['6.5', '3.2', '5.1', '2.0'],\n",
       "       ['6.4', '2.7', '5.3', '1.9'],\n",
       "       ['6.8', '3.0', '5.5', '2.1'],\n",
       "       ['5.7', '2.5', '5.0', '2.0'],\n",
       "       ['5.8', '2.8', '5.1', '2.4'],\n",
       "       ['6.4', '3.2', '5.3', '2.3'],\n",
       "       ['6.5', '3.0', '5.5', '1.8'],\n",
       "       ['7.7', '3.8', '6.7', '2.2'],\n",
       "       ['7.7', '2.6', '6.9', '2.3'],\n",
       "       ['6.0', '2.2', '5.0', '1.5'],\n",
       "       ['6.9', '3.2', '5.7', '2.3'],\n",
       "       ['5.6', '2.8', '4.9', '2.0'],\n",
       "       ['7.7', '2.8', '6.7', '2.0'],\n",
       "       ['6.3', '2.7', '4.9', '1.8'],\n",
       "       ['6.7', '3.3', '5.7', '2.1'],\n",
       "       ['7.2', '3.2', '6.0', '1.8'],\n",
       "       ['6.2', '2.8', '4.8', '1.8'],\n",
       "       ['6.1', '3.0', '4.9', '1.8'],\n",
       "       ['6.4', '2.8', '5.6', '2.1'],\n",
       "       ['7.2', '3.0', '5.8', '1.6'],\n",
       "       ['7.4', '2.8', '6.1', '1.9'],\n",
       "       ['7.9', '3.8', '6.4', '2.0'],\n",
       "       ['6.4', '2.8', '5.6', '2.2'],\n",
       "       ['6.3', '2.8', '5.1', '1.5'],\n",
       "       ['6.1', '2.6', '5.6', '1.4'],\n",
       "       ['7.7', '3.0', '6.1', '2.3'],\n",
       "       ['6.3', '3.4', '5.6', '2.4'],\n",
       "       ['6.4', '3.1', '5.5', '1.8'],\n",
       "       ['6.0', '3.0', '4.8', '1.8'],\n",
       "       ['6.9', '3.1', '5.4', '2.1'],\n",
       "       ['6.7', '3.1', '5.6', '2.4'],\n",
       "       ['6.9', '3.1', '5.1', '2.3'],\n",
       "       ['5.8', '2.7', '5.1', '1.9'],\n",
       "       ['6.8', '3.2', '5.9', '2.3'],\n",
       "       ['6.7', '3.3', '5.7', '2.5'],\n",
       "       ['6.7', '3.0', '5.2', '2.3'],\n",
       "       ['6.3', '2.5', '5.0', '1.9'],\n",
       "       ['6.5', '3.0', '5.2', '2.0'],\n",
       "       ['6.2', '3.4', '5.4', '2.3'],\n",
       "       ['5.9', '3.0', '5.1', '1.8']], dtype='<U15')"
      ]
     },
     "execution_count": 41,
     "metadata": {},
     "output_type": "execute_result"
    }
   ],
   "source": [
    "X = iris[:, :4]\n",
    "X"
   ]
  },
  {
   "cell_type": "code",
   "execution_count": 43,
   "metadata": {},
   "outputs": [
    {
     "data": {
      "text/plain": [
       "array(['Iris-setosa', 'Iris-setosa', 'Iris-setosa', 'Iris-setosa',\n",
       "       'Iris-setosa', 'Iris-setosa', 'Iris-setosa', 'Iris-setosa',\n",
       "       'Iris-setosa', 'Iris-setosa', 'Iris-setosa', 'Iris-setosa',\n",
       "       'Iris-setosa', 'Iris-setosa', 'Iris-setosa', 'Iris-setosa',\n",
       "       'Iris-setosa', 'Iris-setosa', 'Iris-setosa', 'Iris-setosa',\n",
       "       'Iris-setosa', 'Iris-setosa', 'Iris-setosa', 'Iris-setosa',\n",
       "       'Iris-setosa', 'Iris-setosa', 'Iris-setosa', 'Iris-setosa',\n",
       "       'Iris-setosa', 'Iris-setosa', 'Iris-setosa', 'Iris-setosa',\n",
       "       'Iris-setosa', 'Iris-setosa', 'Iris-setosa', 'Iris-setosa',\n",
       "       'Iris-setosa', 'Iris-setosa', 'Iris-setosa', 'Iris-setosa',\n",
       "       'Iris-setosa', 'Iris-setosa', 'Iris-setosa', 'Iris-setosa',\n",
       "       'Iris-setosa', 'Iris-setosa', 'Iris-setosa', 'Iris-setosa',\n",
       "       'Iris-setosa', 'Iris-setosa', 'Iris-versicolor', 'Iris-versicolor',\n",
       "       'Iris-versicolor', 'Iris-versicolor', 'Iris-versicolor',\n",
       "       'Iris-versicolor', 'Iris-versicolor', 'Iris-versicolor',\n",
       "       'Iris-versicolor', 'Iris-versicolor', 'Iris-versicolor',\n",
       "       'Iris-versicolor', 'Iris-versicolor', 'Iris-versicolor',\n",
       "       'Iris-versicolor', 'Iris-versicolor', 'Iris-versicolor',\n",
       "       'Iris-versicolor', 'Iris-versicolor', 'Iris-versicolor',\n",
       "       'Iris-versicolor', 'Iris-versicolor', 'Iris-versicolor',\n",
       "       'Iris-versicolor', 'Iris-versicolor', 'Iris-versicolor',\n",
       "       'Iris-versicolor', 'Iris-versicolor', 'Iris-versicolor',\n",
       "       'Iris-versicolor', 'Iris-versicolor', 'Iris-versicolor',\n",
       "       'Iris-versicolor', 'Iris-versicolor', 'Iris-versicolor',\n",
       "       'Iris-versicolor', 'Iris-versicolor', 'Iris-versicolor',\n",
       "       'Iris-versicolor', 'Iris-versicolor', 'Iris-versicolor',\n",
       "       'Iris-versicolor', 'Iris-versicolor', 'Iris-versicolor',\n",
       "       'Iris-versicolor', 'Iris-versicolor', 'Iris-versicolor',\n",
       "       'Iris-versicolor', 'Iris-versicolor', 'Iris-versicolor',\n",
       "       'Iris-virginica', 'Iris-virginica', 'Iris-virginica',\n",
       "       'Iris-virginica', 'Iris-virginica', 'Iris-virginica',\n",
       "       'Iris-virginica', 'Iris-virginica', 'Iris-virginica',\n",
       "       'Iris-virginica', 'Iris-virginica', 'Iris-virginica',\n",
       "       'Iris-virginica', 'Iris-virginica', 'Iris-virginica',\n",
       "       'Iris-virginica', 'Iris-virginica', 'Iris-virginica',\n",
       "       'Iris-virginica', 'Iris-virginica', 'Iris-virginica',\n",
       "       'Iris-virginica', 'Iris-virginica', 'Iris-virginica',\n",
       "       'Iris-virginica', 'Iris-virginica', 'Iris-virginica',\n",
       "       'Iris-virginica', 'Iris-virginica', 'Iris-virginica',\n",
       "       'Iris-virginica', 'Iris-virginica', 'Iris-virginica',\n",
       "       'Iris-virginica', 'Iris-virginica', 'Iris-virginica',\n",
       "       'Iris-virginica', 'Iris-virginica', 'Iris-virginica',\n",
       "       'Iris-virginica', 'Iris-virginica', 'Iris-virginica',\n",
       "       'Iris-virginica', 'Iris-virginica', 'Iris-virginica',\n",
       "       'Iris-virginica', 'Iris-virginica', 'Iris-virginica',\n",
       "       'Iris-virginica', 'Iris-virginica'], dtype='<U15')"
      ]
     },
     "execution_count": 43,
     "metadata": {},
     "output_type": "execute_result"
    }
   ],
   "source": [
    "Y = iris[:,4]\n",
    "Y"
   ]
  },
  {
   "cell_type": "code",
   "execution_count": 44,
   "metadata": {},
   "outputs": [
    {
     "data": {
      "text/plain": [
       "array([['4.9', '3.0', '1.4', '0.2', 'Iris-setosa'],\n",
       "       ['4.8', '3.4', '1.6', '0.2', 'Iris-setosa'],\n",
       "       ['5.1', '3.7', '1.5', '0.4', 'Iris-setosa'],\n",
       "       ['5.4', '3.4', '1.5', '0.4', 'Iris-setosa'],\n",
       "       ['4.5', '2.3', '1.3', '0.3', 'Iris-setosa'],\n",
       "       ['6.4', '3.2', '4.5', '1.5', 'Iris-versicolor'],\n",
       "       ['5.9', '3.0', '4.2', '1.5', 'Iris-versicolor'],\n",
       "       ['6.1', '2.8', '4.0', '1.3', 'Iris-versicolor'],\n",
       "       ['5.5', '2.4', '3.7', '1.0', 'Iris-versicolor'],\n",
       "       ['6.1', '3.0', '4.6', '1.4', 'Iris-versicolor'],\n",
       "       ['5.8', '2.7', '5.1', '1.9', 'Iris-virginica'],\n",
       "       ['6.4', '2.7', '5.3', '1.9', 'Iris-virginica'],\n",
       "       ['5.6', '2.8', '4.9', '2.0', 'Iris-virginica'],\n",
       "       ['7.9', '3.8', '6.4', '2.0', 'Iris-virginica'],\n",
       "       ['6.9', '3.1', '5.1', '2.3', 'Iris-virginica']], dtype='<U15')"
      ]
     },
     "execution_count": 44,
     "metadata": {},
     "output_type": "execute_result"
    }
   ],
   "source": [
    "iris[1::10]"
   ]
  },
  {
   "cell_type": "code",
   "execution_count": 45,
   "metadata": {},
   "outputs": [
    {
     "data": {
      "text/plain": [
       "array([[5.1, 3.5, 1.4, 0.2],\n",
       "       [4.9, 3. , 1.4, 0.2],\n",
       "       [4.7, 3.2, 1.3, 0.2],\n",
       "       [4.6, 3.1, 1.5, 0.2],\n",
       "       [5. , 3.6, 1.4, 0.2],\n",
       "       [5.4, 3.9, 1.7, 0.4],\n",
       "       [4.6, 3.4, 1.4, 0.3],\n",
       "       [5. , 3.4, 1.5, 0.2],\n",
       "       [4.4, 2.9, 1.4, 0.2],\n",
       "       [4.9, 3.1, 1.5, 0.1],\n",
       "       [5.4, 3.7, 1.5, 0.2],\n",
       "       [4.8, 3.4, 1.6, 0.2],\n",
       "       [4.8, 3. , 1.4, 0.1],\n",
       "       [4.3, 3. , 1.1, 0.1],\n",
       "       [5.8, 4. , 1.2, 0.2],\n",
       "       [5.7, 4.4, 1.5, 0.4],\n",
       "       [5.4, 3.9, 1.3, 0.4],\n",
       "       [5.1, 3.5, 1.4, 0.3],\n",
       "       [5.7, 3.8, 1.7, 0.3],\n",
       "       [5.1, 3.8, 1.5, 0.3],\n",
       "       [5.4, 3.4, 1.7, 0.2],\n",
       "       [5.1, 3.7, 1.5, 0.4],\n",
       "       [4.6, 3.6, 1. , 0.2],\n",
       "       [5.1, 3.3, 1.7, 0.5],\n",
       "       [4.8, 3.4, 1.9, 0.2],\n",
       "       [5. , 3. , 1.6, 0.2],\n",
       "       [5. , 3.4, 1.6, 0.4],\n",
       "       [5.2, 3.5, 1.5, 0.2],\n",
       "       [5.2, 3.4, 1.4, 0.2],\n",
       "       [4.7, 3.2, 1.6, 0.2],\n",
       "       [4.8, 3.1, 1.6, 0.2],\n",
       "       [5.4, 3.4, 1.5, 0.4],\n",
       "       [5.2, 4.1, 1.5, 0.1],\n",
       "       [5.5, 4.2, 1.4, 0.2],\n",
       "       [4.9, 3.1, 1.5, 0.1],\n",
       "       [5. , 3.2, 1.2, 0.2],\n",
       "       [5.5, 3.5, 1.3, 0.2],\n",
       "       [4.9, 3.1, 1.5, 0.1],\n",
       "       [4.4, 3. , 1.3, 0.2],\n",
       "       [5.1, 3.4, 1.5, 0.2],\n",
       "       [5. , 3.5, 1.3, 0.3],\n",
       "       [4.5, 2.3, 1.3, 0.3],\n",
       "       [4.4, 3.2, 1.3, 0.2],\n",
       "       [5. , 3.5, 1.6, 0.6],\n",
       "       [5.1, 3.8, 1.9, 0.4],\n",
       "       [4.8, 3. , 1.4, 0.3],\n",
       "       [5.1, 3.8, 1.6, 0.2],\n",
       "       [4.6, 3.2, 1.4, 0.2],\n",
       "       [5.3, 3.7, 1.5, 0.2],\n",
       "       [5. , 3.3, 1.4, 0.2],\n",
       "       [7. , 3.2, 4.7, 1.4],\n",
       "       [6.4, 3.2, 4.5, 1.5],\n",
       "       [6.9, 3.1, 4.9, 1.5],\n",
       "       [5.5, 2.3, 4. , 1.3],\n",
       "       [6.5, 2.8, 4.6, 1.5],\n",
       "       [5.7, 2.8, 4.5, 1.3],\n",
       "       [6.3, 3.3, 4.7, 1.6],\n",
       "       [4.9, 2.4, 3.3, 1. ],\n",
       "       [6.6, 2.9, 4.6, 1.3],\n",
       "       [5.2, 2.7, 3.9, 1.4],\n",
       "       [5. , 2. , 3.5, 1. ],\n",
       "       [5.9, 3. , 4.2, 1.5],\n",
       "       [6. , 2.2, 4. , 1. ],\n",
       "       [6.1, 2.9, 4.7, 1.4],\n",
       "       [5.6, 2.9, 3.6, 1.3],\n",
       "       [6.7, 3.1, 4.4, 1.4],\n",
       "       [5.6, 3. , 4.5, 1.5],\n",
       "       [5.8, 2.7, 4.1, 1. ],\n",
       "       [6.2, 2.2, 4.5, 1.5],\n",
       "       [5.6, 2.5, 3.9, 1.1],\n",
       "       [5.9, 3.2, 4.8, 1.8],\n",
       "       [6.1, 2.8, 4. , 1.3],\n",
       "       [6.3, 2.5, 4.9, 1.5],\n",
       "       [6.1, 2.8, 4.7, 1.2],\n",
       "       [6.4, 2.9, 4.3, 1.3],\n",
       "       [6.6, 3. , 4.4, 1.4],\n",
       "       [6.8, 2.8, 4.8, 1.4],\n",
       "       [6.7, 3. , 5. , 1.7],\n",
       "       [6. , 2.9, 4.5, 1.5],\n",
       "       [5.7, 2.6, 3.5, 1. ],\n",
       "       [5.5, 2.4, 3.8, 1.1],\n",
       "       [5.5, 2.4, 3.7, 1. ],\n",
       "       [5.8, 2.7, 3.9, 1.2],\n",
       "       [6. , 2.7, 5.1, 1.6],\n",
       "       [5.4, 3. , 4.5, 1.5],\n",
       "       [6. , 3.4, 4.5, 1.6],\n",
       "       [6.7, 3.1, 4.7, 1.5],\n",
       "       [6.3, 2.3, 4.4, 1.3],\n",
       "       [5.6, 3. , 4.1, 1.3],\n",
       "       [5.5, 2.5, 4. , 1.3],\n",
       "       [5.5, 2.6, 4.4, 1.2],\n",
       "       [6.1, 3. , 4.6, 1.4],\n",
       "       [5.8, 2.6, 4. , 1.2],\n",
       "       [5. , 2.3, 3.3, 1. ],\n",
       "       [5.6, 2.7, 4.2, 1.3],\n",
       "       [5.7, 3. , 4.2, 1.2],\n",
       "       [5.7, 2.9, 4.2, 1.3],\n",
       "       [6.2, 2.9, 4.3, 1.3],\n",
       "       [5.1, 2.5, 3. , 1.1],\n",
       "       [5.7, 2.8, 4.1, 1.3],\n",
       "       [6.3, 3.3, 6. , 2.5],\n",
       "       [5.8, 2.7, 5.1, 1.9],\n",
       "       [7.1, 3. , 5.9, 2.1],\n",
       "       [6.3, 2.9, 5.6, 1.8],\n",
       "       [6.5, 3. , 5.8, 2.2],\n",
       "       [7.6, 3. , 6.6, 2.1],\n",
       "       [4.9, 2.5, 4.5, 1.7],\n",
       "       [7.3, 2.9, 6.3, 1.8],\n",
       "       [6.7, 2.5, 5.8, 1.8],\n",
       "       [7.2, 3.6, 6.1, 2.5],\n",
       "       [6.5, 3.2, 5.1, 2. ],\n",
       "       [6.4, 2.7, 5.3, 1.9],\n",
       "       [6.8, 3. , 5.5, 2.1],\n",
       "       [5.7, 2.5, 5. , 2. ],\n",
       "       [5.8, 2.8, 5.1, 2.4],\n",
       "       [6.4, 3.2, 5.3, 2.3],\n",
       "       [6.5, 3. , 5.5, 1.8],\n",
       "       [7.7, 3.8, 6.7, 2.2],\n",
       "       [7.7, 2.6, 6.9, 2.3],\n",
       "       [6. , 2.2, 5. , 1.5],\n",
       "       [6.9, 3.2, 5.7, 2.3],\n",
       "       [5.6, 2.8, 4.9, 2. ],\n",
       "       [7.7, 2.8, 6.7, 2. ],\n",
       "       [6.3, 2.7, 4.9, 1.8],\n",
       "       [6.7, 3.3, 5.7, 2.1],\n",
       "       [7.2, 3.2, 6. , 1.8],\n",
       "       [6.2, 2.8, 4.8, 1.8],\n",
       "       [6.1, 3. , 4.9, 1.8],\n",
       "       [6.4, 2.8, 5.6, 2.1],\n",
       "       [7.2, 3. , 5.8, 1.6],\n",
       "       [7.4, 2.8, 6.1, 1.9],\n",
       "       [7.9, 3.8, 6.4, 2. ],\n",
       "       [6.4, 2.8, 5.6, 2.2],\n",
       "       [6.3, 2.8, 5.1, 1.5],\n",
       "       [6.1, 2.6, 5.6, 1.4],\n",
       "       [7.7, 3. , 6.1, 2.3],\n",
       "       [6.3, 3.4, 5.6, 2.4],\n",
       "       [6.4, 3.1, 5.5, 1.8],\n",
       "       [6. , 3. , 4.8, 1.8],\n",
       "       [6.9, 3.1, 5.4, 2.1],\n",
       "       [6.7, 3.1, 5.6, 2.4],\n",
       "       [6.9, 3.1, 5.1, 2.3],\n",
       "       [5.8, 2.7, 5.1, 1.9],\n",
       "       [6.8, 3.2, 5.9, 2.3],\n",
       "       [6.7, 3.3, 5.7, 2.5],\n",
       "       [6.7, 3. , 5.2, 2.3],\n",
       "       [6.3, 2.5, 5. , 1.9],\n",
       "       [6.5, 3. , 5.2, 2. ],\n",
       "       [6.2, 3.4, 5.4, 2.3],\n",
       "       [5.9, 3. , 5.1, 1.8]])"
      ]
     },
     "execution_count": 45,
     "metadata": {},
     "output_type": "execute_result"
    }
   ],
   "source": [
    "np.loadtxt('iris.csv',skiprows=1,delimiter=',',usecols=[0,1,2,3])"
   ]
  },
  {
   "cell_type": "code",
   "execution_count": 46,
   "metadata": {},
   "outputs": [
    {
     "name": "stdout",
     "output_type": "stream",
     "text": [
      "0 0 0 0 0 0 0 0 0 0 0 0 0 0 0 0 0 0 0 0 0 0 0 0 0 0 0 0 0 0 0 0 0 0 0 0 0 0 0 0 0 0 0 0 0 0 0 0 0 0 1 1 1 1 1 1 1 1 1 1 1 1 1 1 1 1 1 1 1 1 1 1 1 1 1 1 1 1 1 1 1 1 1 1 1 1 1 1 1 1 1 1 1 1 1 1 1 1 1 1 2 2 2 2 2 2 2 2 2 2 2 2 2 2 2 2 2 2 2 2 2 2 2 2 2 2 2 2 2 2 2 2 2 2 2 2 2 2 2 2 2 2 2 2 2 2 2 2 2 2\n"
     ]
    }
   ],
   "source": [
    "y=[0]*50 +[1]*50 +[2]*50\n",
    "print(*y)"
   ]
  },
  {
   "cell_type": "code",
   "execution_count": null,
   "metadata": {},
   "outputs": [],
   "source": []
  }
 ],
 "metadata": {
  "kernelspec": {
   "display_name": "Python 3",
   "language": "python",
   "name": "python3"
  },
  "language_info": {
   "codemirror_mode": {
    "name": "ipython",
    "version": 3
   },
   "file_extension": ".py",
   "mimetype": "text/x-python",
   "name": "python",
   "nbconvert_exporter": "python",
   "pygments_lexer": "ipython3",
   "version": "3.8.5"
  }
 },
 "nbformat": 4,
 "nbformat_minor": 4
}
