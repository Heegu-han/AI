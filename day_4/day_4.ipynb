{
 "cells": [
  {
   "cell_type": "markdown",
   "metadata": {},
   "source": [
    "# day_4"
   ]
  },
  {
   "cell_type": "code",
   "execution_count": 4,
   "metadata": {},
   "outputs": [],
   "source": [
    "f = open('학생들.txt',encoding='utf-8')"
   ]
  },
  {
   "cell_type": "code",
   "execution_count": 5,
   "metadata": {},
   "outputs": [
    {
     "data": {
      "text/plain": [
       "'한희구,22,원주\\n'"
      ]
     },
     "execution_count": 5,
     "metadata": {},
     "output_type": "execute_result"
    }
   ],
   "source": [
    "s=f.readline()\n",
    "s"
   ]
  },
  {
   "cell_type": "code",
   "execution_count": 6,
   "metadata": {},
   "outputs": [
    {
     "data": {
      "text/plain": [
       "'홍길동,33,서울\\n'"
      ]
     },
     "execution_count": 6,
     "metadata": {},
     "output_type": "execute_result"
    }
   ],
   "source": [
    "s2=f.readline()\n",
    "s2"
   ]
  },
  {
   "cell_type": "code",
   "execution_count": 7,
   "metadata": {},
   "outputs": [
    {
     "data": {
      "text/plain": [
       "'둘리,5,우주'"
      ]
     },
     "execution_count": 7,
     "metadata": {},
     "output_type": "execute_result"
    }
   ],
   "source": [
    "s3=f.readline()\n",
    "s3"
   ]
  },
  {
   "cell_type": "code",
   "execution_count": 8,
   "metadata": {},
   "outputs": [
    {
     "data": {
      "text/plain": [
       "''"
      ]
     },
     "execution_count": 8,
     "metadata": {},
     "output_type": "execute_result"
    }
   ],
   "source": [
    "s4=f.readline()\n",
    "s4"
   ]
  },
  {
   "cell_type": "code",
   "execution_count": 9,
   "metadata": {},
   "outputs": [],
   "source": [
    "f.close()"
   ]
  },
  {
   "cell_type": "code",
   "execution_count": 10,
   "metadata": {},
   "outputs": [],
   "source": [
    "f = open('학생들.txt',encoding='utf-8')"
   ]
  },
  {
   "cell_type": "code",
   "execution_count": 11,
   "metadata": {},
   "outputs": [
    {
     "data": {
      "text/plain": [
       "[['한희구', 22, '원주'], ['홍길동', 33, '서울'], ['둘리', 5, '우주']]"
      ]
     },
     "execution_count": 11,
     "metadata": {},
     "output_type": "execute_result"
    }
   ],
   "source": [
    "f = open('학생들.txt',encoding='utf-8')\n",
    "data = []\n",
    "for line in f:\n",
    "    l = line.strip().split(',')\n",
    "    l[1]=int(l[1])\n",
    "    data.append(l)\n",
    "\n",
    "f.close()\n",
    "\n",
    "data"
   ]
  },
  {
   "cell_type": "code",
   "execution_count": 15,
   "metadata": {},
   "outputs": [
    {
     "data": {
      "text/plain": [
       "[[5.1, 3.5, 1.4, 0.2, 0],\n",
       " [4.9, 3.0, 1.4, 0.2, 0],\n",
       " [4.7, 3.2, 1.3, 0.2, 0],\n",
       " [4.6, 3.1, 1.5, 0.2, 0],\n",
       " [5.0, 3.6, 1.4, 0.2, 0],\n",
       " [5.4, 3.9, 1.7, 0.4, 0],\n",
       " [4.6, 3.4, 1.4, 0.3, 0],\n",
       " [5.0, 3.4, 1.5, 0.2, 0],\n",
       " [4.4, 2.9, 1.4, 0.2, 0],\n",
       " [4.9, 3.1, 1.5, 0.1, 0],\n",
       " [5.4, 3.7, 1.5, 0.2, 0],\n",
       " [4.8, 3.4, 1.6, 0.2, 0],\n",
       " [4.8, 3.0, 1.4, 0.1, 0],\n",
       " [4.3, 3.0, 1.1, 0.1, 0],\n",
       " [5.8, 4.0, 1.2, 0.2, 0],\n",
       " [5.7, 4.4, 1.5, 0.4, 0],\n",
       " [5.4, 3.9, 1.3, 0.4, 0],\n",
       " [5.1, 3.5, 1.4, 0.3, 0],\n",
       " [5.7, 3.8, 1.7, 0.3, 0],\n",
       " [5.1, 3.8, 1.5, 0.3, 0],\n",
       " [5.4, 3.4, 1.7, 0.2, 0],\n",
       " [5.1, 3.7, 1.5, 0.4, 0],\n",
       " [4.6, 3.6, 1.0, 0.2, 0],\n",
       " [5.1, 3.3, 1.7, 0.5, 0],\n",
       " [4.8, 3.4, 1.9, 0.2, 0],\n",
       " [5.0, 3.0, 1.6, 0.2, 0],\n",
       " [5.0, 3.4, 1.6, 0.4, 0],\n",
       " [5.2, 3.5, 1.5, 0.2, 0],\n",
       " [5.2, 3.4, 1.4, 0.2, 0],\n",
       " [4.7, 3.2, 1.6, 0.2, 0],\n",
       " [4.8, 3.1, 1.6, 0.2, 0],\n",
       " [5.4, 3.4, 1.5, 0.4, 0],\n",
       " [5.2, 4.1, 1.5, 0.1, 0],\n",
       " [5.5, 4.2, 1.4, 0.2, 0],\n",
       " [4.9, 3.1, 1.5, 0.1, 0],\n",
       " [5.0, 3.2, 1.2, 0.2, 0],\n",
       " [5.5, 3.5, 1.3, 0.2, 0],\n",
       " [4.9, 3.1, 1.5, 0.1, 0],\n",
       " [4.4, 3.0, 1.3, 0.2, 0],\n",
       " [5.1, 3.4, 1.5, 0.2, 0],\n",
       " [5.0, 3.5, 1.3, 0.3, 0],\n",
       " [4.5, 2.3, 1.3, 0.3, 0],\n",
       " [4.4, 3.2, 1.3, 0.2, 0],\n",
       " [5.0, 3.5, 1.6, 0.6, 0],\n",
       " [5.1, 3.8, 1.9, 0.4, 0],\n",
       " [4.8, 3.0, 1.4, 0.3, 0],\n",
       " [5.1, 3.8, 1.6, 0.2, 0],\n",
       " [4.6, 3.2, 1.4, 0.2, 0],\n",
       " [5.3, 3.7, 1.5, 0.2, 0],\n",
       " [5.0, 3.3, 1.4, 0.2, 0],\n",
       " [7.0, 3.2, 4.7, 1.4, 1],\n",
       " [6.4, 3.2, 4.5, 1.5, 1],\n",
       " [6.9, 3.1, 4.9, 1.5, 1],\n",
       " [5.5, 2.3, 4.0, 1.3, 1],\n",
       " [6.5, 2.8, 4.6, 1.5, 1],\n",
       " [5.7, 2.8, 4.5, 1.3, 1],\n",
       " [6.3, 3.3, 4.7, 1.6, 1],\n",
       " [4.9, 2.4, 3.3, 1.0, 1],\n",
       " [6.6, 2.9, 4.6, 1.3, 1],\n",
       " [5.2, 2.7, 3.9, 1.4, 1],\n",
       " [5.0, 2.0, 3.5, 1.0, 1],\n",
       " [5.9, 3.0, 4.2, 1.5, 1],\n",
       " [6.0, 2.2, 4.0, 1.0, 1],\n",
       " [6.1, 2.9, 4.7, 1.4, 1],\n",
       " [5.6, 2.9, 3.6, 1.3, 1],\n",
       " [6.7, 3.1, 4.4, 1.4, 1],\n",
       " [5.6, 3.0, 4.5, 1.5, 1],\n",
       " [5.8, 2.7, 4.1, 1.0, 1],\n",
       " [6.2, 2.2, 4.5, 1.5, 1],\n",
       " [5.6, 2.5, 3.9, 1.1, 1],\n",
       " [5.9, 3.2, 4.8, 1.8, 1],\n",
       " [6.1, 2.8, 4.0, 1.3, 1],\n",
       " [6.3, 2.5, 4.9, 1.5, 1],\n",
       " [6.1, 2.8, 4.7, 1.2, 1],\n",
       " [6.4, 2.9, 4.3, 1.3, 1],\n",
       " [6.6, 3.0, 4.4, 1.4, 1],\n",
       " [6.8, 2.8, 4.8, 1.4, 1],\n",
       " [6.7, 3.0, 5.0, 1.7, 1],\n",
       " [6.0, 2.9, 4.5, 1.5, 1],\n",
       " [5.7, 2.6, 3.5, 1.0, 1],\n",
       " [5.5, 2.4, 3.8, 1.1, 1],\n",
       " [5.5, 2.4, 3.7, 1.0, 1],\n",
       " [5.8, 2.7, 3.9, 1.2, 1],\n",
       " [6.0, 2.7, 5.1, 1.6, 1],\n",
       " [5.4, 3.0, 4.5, 1.5, 1],\n",
       " [6.0, 3.4, 4.5, 1.6, 1],\n",
       " [6.7, 3.1, 4.7, 1.5, 1],\n",
       " [6.3, 2.3, 4.4, 1.3, 1],\n",
       " [5.6, 3.0, 4.1, 1.3, 1],\n",
       " [5.5, 2.5, 4.0, 1.3, 1],\n",
       " [5.5, 2.6, 4.4, 1.2, 1],\n",
       " [6.1, 3.0, 4.6, 1.4, 1],\n",
       " [5.8, 2.6, 4.0, 1.2, 1],\n",
       " [5.0, 2.3, 3.3, 1.0, 1],\n",
       " [5.6, 2.7, 4.2, 1.3, 1],\n",
       " [5.7, 3.0, 4.2, 1.2, 1],\n",
       " [5.7, 2.9, 4.2, 1.3, 1],\n",
       " [6.2, 2.9, 4.3, 1.3, 1],\n",
       " [5.1, 2.5, 3.0, 1.1, 1],\n",
       " [5.7, 2.8, 4.1, 1.3, 1],\n",
       " [6.3, 3.3, 6.0, 2.5, 2],\n",
       " [5.8, 2.7, 5.1, 1.9, 2],\n",
       " [7.1, 3.0, 5.9, 2.1, 2],\n",
       " [6.3, 2.9, 5.6, 1.8, 2],\n",
       " [6.5, 3.0, 5.8, 2.2, 2],\n",
       " [7.6, 3.0, 6.6, 2.1, 2],\n",
       " [4.9, 2.5, 4.5, 1.7, 2],\n",
       " [7.3, 2.9, 6.3, 1.8, 2],\n",
       " [6.7, 2.5, 5.8, 1.8, 2],\n",
       " [7.2, 3.6, 6.1, 2.5, 2],\n",
       " [6.5, 3.2, 5.1, 2.0, 2],\n",
       " [6.4, 2.7, 5.3, 1.9, 2],\n",
       " [6.8, 3.0, 5.5, 2.1, 2],\n",
       " [5.7, 2.5, 5.0, 2.0, 2],\n",
       " [5.8, 2.8, 5.1, 2.4, 2],\n",
       " [6.4, 3.2, 5.3, 2.3, 2],\n",
       " [6.5, 3.0, 5.5, 1.8, 2],\n",
       " [7.7, 3.8, 6.7, 2.2, 2],\n",
       " [7.7, 2.6, 6.9, 2.3, 2],\n",
       " [6.0, 2.2, 5.0, 1.5, 2],\n",
       " [6.9, 3.2, 5.7, 2.3, 2],\n",
       " [5.6, 2.8, 4.9, 2.0, 2],\n",
       " [7.7, 2.8, 6.7, 2.0, 2],\n",
       " [6.3, 2.7, 4.9, 1.8, 2],\n",
       " [6.7, 3.3, 5.7, 2.1, 2],\n",
       " [7.2, 3.2, 6.0, 1.8, 2],\n",
       " [6.2, 2.8, 4.8, 1.8, 2],\n",
       " [6.1, 3.0, 4.9, 1.8, 2],\n",
       " [6.4, 2.8, 5.6, 2.1, 2],\n",
       " [7.2, 3.0, 5.8, 1.6, 2],\n",
       " [7.4, 2.8, 6.1, 1.9, 2],\n",
       " [7.9, 3.8, 6.4, 2.0, 2],\n",
       " [6.4, 2.8, 5.6, 2.2, 2],\n",
       " [6.3, 2.8, 5.1, 1.5, 2],\n",
       " [6.1, 2.6, 5.6, 1.4, 2],\n",
       " [7.7, 3.0, 6.1, 2.3, 2],\n",
       " [6.3, 3.4, 5.6, 2.4, 2],\n",
       " [6.4, 3.1, 5.5, 1.8, 2],\n",
       " [6.0, 3.0, 4.8, 1.8, 2],\n",
       " [6.9, 3.1, 5.4, 2.1, 2],\n",
       " [6.7, 3.1, 5.6, 2.4, 2],\n",
       " [6.9, 3.1, 5.1, 2.3, 2],\n",
       " [5.8, 2.7, 5.1, 1.9, 2],\n",
       " [6.8, 3.2, 5.9, 2.3, 2],\n",
       " [6.7, 3.3, 5.7, 2.5, 2],\n",
       " [6.7, 3.0, 5.2, 2.3, 2],\n",
       " [6.3, 2.5, 5.0, 1.9, 2],\n",
       " [6.5, 3.0, 5.2, 2.0, 2],\n",
       " [6.2, 3.4, 5.4, 2.3, 2],\n",
       " [5.9, 3.0, 5.1, 1.8, 2]]"
      ]
     },
     "execution_count": 15,
     "metadata": {},
     "output_type": "execute_result"
    }
   ],
   "source": [
    "f = open('iris.csv')\n",
    "s = f.readline()\n",
    "header = s.strip().split(',')\n",
    "\n",
    "labels = {'Iris-setosa':0,'Iris-versicolor':1,'Iris-virginica':2}\n",
    "iris=[]\n",
    "\n",
    "for line in f:\n",
    "    l = line.strip().split(',')\n",
    "    l = [float(l[0]),float(l[1]),float(l[2]),float(l[3]),labels[l[4]]]\n",
    "    iris.append(l)\n",
    "f.close()\n",
    "iris"
   ]
  },
  {
   "cell_type": "code",
   "execution_count": 19,
   "metadata": {},
   "outputs": [
    {
     "data": {
      "text/plain": [
       "4"
      ]
     },
     "execution_count": 19,
     "metadata": {},
     "output_type": "execute_result"
    }
   ],
   "source": [
    "l = [1,2,3,4,5]\n",
    "l.index(5)"
   ]
  },
  {
   "cell_type": "code",
   "execution_count": 21,
   "metadata": {},
   "outputs": [
    {
     "data": {
      "text/plain": [
       "[0,\n",
       " 0,\n",
       " 0,\n",
       " 0,\n",
       " 0,\n",
       " 0,\n",
       " 0,\n",
       " 0,\n",
       " 0,\n",
       " 0,\n",
       " 0,\n",
       " 0,\n",
       " 0,\n",
       " 0,\n",
       " 0,\n",
       " 0,\n",
       " 0,\n",
       " 0,\n",
       " 0,\n",
       " 0,\n",
       " 0,\n",
       " 0,\n",
       " 0,\n",
       " 0,\n",
       " 0,\n",
       " 0,\n",
       " 0,\n",
       " 0,\n",
       " 0,\n",
       " 0,\n",
       " 0,\n",
       " 0,\n",
       " 0,\n",
       " 0,\n",
       " 0,\n",
       " 0,\n",
       " 0,\n",
       " 0,\n",
       " 0,\n",
       " 0,\n",
       " 0,\n",
       " 0,\n",
       " 0,\n",
       " 0,\n",
       " 0,\n",
       " 0,\n",
       " 0,\n",
       " 0,\n",
       " 0,\n",
       " 0,\n",
       " 1,\n",
       " 1,\n",
       " 1,\n",
       " 1,\n",
       " 1,\n",
       " 1,\n",
       " 1,\n",
       " 1,\n",
       " 1,\n",
       " 1,\n",
       " 1,\n",
       " 1,\n",
       " 1,\n",
       " 1,\n",
       " 1,\n",
       " 1,\n",
       " 1,\n",
       " 1,\n",
       " 1,\n",
       " 1,\n",
       " 1,\n",
       " 1,\n",
       " 1,\n",
       " 1,\n",
       " 1,\n",
       " 1,\n",
       " 1,\n",
       " 1,\n",
       " 1,\n",
       " 1,\n",
       " 1,\n",
       " 1,\n",
       " 1,\n",
       " 1,\n",
       " 1,\n",
       " 1,\n",
       " 1,\n",
       " 1,\n",
       " 1,\n",
       " 1,\n",
       " 1,\n",
       " 1,\n",
       " 1,\n",
       " 1,\n",
       " 1,\n",
       " 1,\n",
       " 1,\n",
       " 1,\n",
       " 1,\n",
       " 1,\n",
       " 2,\n",
       " 2,\n",
       " 2,\n",
       " 2,\n",
       " 2,\n",
       " 2,\n",
       " 2,\n",
       " 2,\n",
       " 2,\n",
       " 2,\n",
       " 2,\n",
       " 2,\n",
       " 2,\n",
       " 2,\n",
       " 2,\n",
       " 2,\n",
       " 2,\n",
       " 2,\n",
       " 2,\n",
       " 2,\n",
       " 2,\n",
       " 2,\n",
       " 2,\n",
       " 2,\n",
       " 2,\n",
       " 2,\n",
       " 2,\n",
       " 2,\n",
       " 2,\n",
       " 2,\n",
       " 2,\n",
       " 2,\n",
       " 2,\n",
       " 2,\n",
       " 2,\n",
       " 2,\n",
       " 2,\n",
       " 2,\n",
       " 2,\n",
       " 2,\n",
       " 2,\n",
       " 2,\n",
       " 2,\n",
       " 2,\n",
       " 2,\n",
       " 2,\n",
       " 2,\n",
       " 2,\n",
       " 2,\n",
       " 2]"
      ]
     },
     "execution_count": 21,
     "metadata": {},
     "output_type": "execute_result"
    }
   ],
   "source": [
    "x = []\n",
    "y = []\n",
    "\n",
    "for l in iris:\n",
    "    x.append(l[:4])\n",
    "    y.append(l[4])\n",
    "y"
   ]
  },
  {
   "cell_type": "code",
   "execution_count": 22,
   "metadata": {},
   "outputs": [
    {
     "data": {
      "text/plain": [
       "'C:\\\\Users\\\\hanhe\\\\AI\\\\day_4'"
      ]
     },
     "execution_count": 22,
     "metadata": {},
     "output_type": "execute_result"
    }
   ],
   "source": [
    "import os\n",
    "os.getcwd()"
   ]
  },
  {
   "cell_type": "code",
   "execution_count": 23,
   "metadata": {},
   "outputs": [
    {
     "data": {
      "text/plain": [
       "0.1411200080598672"
      ]
     },
     "execution_count": 23,
     "metadata": {},
     "output_type": "execute_result"
    }
   ],
   "source": [
    "import math\n",
    "math.sin(3)"
   ]
  },
  {
   "cell_type": "code",
   "execution_count": 24,
   "metadata": {},
   "outputs": [
    {
     "data": {
      "text/plain": [
       "0.1411200080598672"
      ]
     },
     "execution_count": 24,
     "metadata": {},
     "output_type": "execute_result"
    }
   ],
   "source": [
    "from math import sin\n",
    "sin(3)"
   ]
  },
  {
   "cell_type": "code",
   "execution_count": 25,
   "metadata": {},
   "outputs": [
    {
     "data": {
      "text/plain": [
       "array([[1., 0., 0., 0., 0.],\n",
       "       [0., 1., 0., 0., 0.],\n",
       "       [0., 0., 1., 0., 0.],\n",
       "       [0., 0., 0., 1., 0.],\n",
       "       [0., 0., 0., 0., 1.]])"
      ]
     },
     "execution_count": 25,
     "metadata": {},
     "output_type": "execute_result"
    }
   ],
   "source": [
    "import numpy\n",
    "numpy.eye(5)"
   ]
  },
  {
   "cell_type": "code",
   "execution_count": 26,
   "metadata": {},
   "outputs": [
    {
     "data": {
      "text/plain": [
       "array([[1., 0., 0.],\n",
       "       [0., 1., 0.],\n",
       "       [0., 0., 1.]])"
      ]
     },
     "execution_count": 26,
     "metadata": {},
     "output_type": "execute_result"
    }
   ],
   "source": [
    "import numpy as np\n",
    "np.eye(3)"
   ]
  },
  {
   "cell_type": "code",
   "execution_count": 27,
   "metadata": {},
   "outputs": [
    {
     "data": {
      "text/plain": [
       "['__doc__',\n",
       " '__loader__',\n",
       " '__name__',\n",
       " '__package__',\n",
       " '__spec__',\n",
       " 'acos',\n",
       " 'acosh',\n",
       " 'asin',\n",
       " 'asinh',\n",
       " 'atan',\n",
       " 'atan2',\n",
       " 'atanh',\n",
       " 'ceil',\n",
       " 'comb',\n",
       " 'copysign',\n",
       " 'cos',\n",
       " 'cosh',\n",
       " 'degrees',\n",
       " 'dist',\n",
       " 'e',\n",
       " 'erf',\n",
       " 'erfc',\n",
       " 'exp',\n",
       " 'expm1',\n",
       " 'fabs',\n",
       " 'factorial',\n",
       " 'floor',\n",
       " 'fmod',\n",
       " 'frexp',\n",
       " 'fsum',\n",
       " 'gamma',\n",
       " 'gcd',\n",
       " 'hypot',\n",
       " 'inf',\n",
       " 'isclose',\n",
       " 'isfinite',\n",
       " 'isinf',\n",
       " 'isnan',\n",
       " 'isqrt',\n",
       " 'ldexp',\n",
       " 'lgamma',\n",
       " 'log',\n",
       " 'log10',\n",
       " 'log1p',\n",
       " 'log2',\n",
       " 'modf',\n",
       " 'nan',\n",
       " 'perm',\n",
       " 'pi',\n",
       " 'pow',\n",
       " 'prod',\n",
       " 'radians',\n",
       " 'remainder',\n",
       " 'sin',\n",
       " 'sinh',\n",
       " 'sqrt',\n",
       " 'tan',\n",
       " 'tanh',\n",
       " 'tau',\n",
       " 'trunc']"
      ]
     },
     "execution_count": 27,
     "metadata": {},
     "output_type": "execute_result"
    }
   ],
   "source": [
    "dir(math)"
   ]
  },
  {
   "cell_type": "code",
   "execution_count": 29,
   "metadata": {},
   "outputs": [],
   "source": [
    "l = ['한희구','홍길동','장길산']"
   ]
  },
  {
   "cell_type": "code",
   "execution_count": 30,
   "metadata": {},
   "outputs": [
    {
     "name": "stdout",
     "output_type": "stream",
     "text": [
      "0 한희구\n",
      "1 홍길동\n",
      "2 장길산\n"
     ]
    }
   ],
   "source": [
    "for i,v in enumerate(l):\n",
    "    print(i,v)"
   ]
  },
  {
   "cell_type": "code",
   "execution_count": null,
   "metadata": {},
   "outputs": [],
   "source": []
  }
 ],
 "metadata": {
  "kernelspec": {
   "display_name": "Python 3",
   "language": "python",
   "name": "python3"
  },
  "language_info": {
   "codemirror_mode": {
    "name": "ipython",
    "version": 3
   },
   "file_extension": ".py",
   "mimetype": "text/x-python",
   "name": "python",
   "nbconvert_exporter": "python",
   "pygments_lexer": "ipython3",
   "version": "3.8.5"
  }
 },
 "nbformat": 4,
 "nbformat_minor": 4
}
