{
 "cells": [
  {
   "cell_type": "markdown",
   "metadata": {},
   "source": [
    "# 33일차"
   ]
  },
  {
   "cell_type": "code",
   "execution_count": 1,
   "metadata": {},
   "outputs": [],
   "source": [
    "import numpy as np\n",
    "import pandas as pd\n",
    "import matplotlib.pyplot as ply"
   ]
  },
  {
   "cell_type": "code",
   "execution_count": 3,
   "metadata": {},
   "outputs": [
    {
     "data": {
      "text/plain": [
       "array([[0.6, 0.7, 0.1, 0.3, 1. , 0.1],\n",
       "       [0.2, 0.8, 0.7, 0.8, 0.1, 0.1],\n",
       "       [1. , 0.6, 0.1, 0.6, 0.6, 1. ],\n",
       "       [0.6, 0.4, 0.5, 0.2, 0.6, 0.2],\n",
       "       [0.6, 0.5, 0.5, 0.8, 0.7, 0.1],\n",
       "       [0.7, 0.6, 0.8, 0.2, 0.6, 0.6]])"
      ]
     },
     "execution_count": 3,
     "metadata": {},
     "output_type": "execute_result"
    }
   ],
   "source": [
    "np.random.seed(2021)\n",
    "img=np.random.rand(6,6).round(1)\n",
    "img"
   ]
  },
  {
   "cell_type": "code",
   "execution_count": 4,
   "metadata": {},
   "outputs": [],
   "source": [
    "filter=np.array([[1,0,1],[0,-4,0],[1,0,1]])"
   ]
  },
  {
   "cell_type": "markdown",
   "metadata": {},
   "source": [
    "### 연습문제\n",
    "- img 에 filter로 convolution 적용한 후,2x2 맥스풀링을 적용하시오.\n",
    "- convolution 결과에 relu 활성화 함수를 적용하면 어떻게 변할까"
   ]
  },
  {
   "cell_type": "code",
   "execution_count": 5,
   "metadata": {},
   "outputs": [
    {
     "data": {
      "text/plain": [
       "array([[-1.4, -0.6, -1.4,  1.6],\n",
       "       [-0.4,  1.8, -0.5, -1.1],\n",
       "       [ 0.6,  0.5,  1.1,  0.1],\n",
       "       [ 0.6, -0.6, -0.7, -1.6]])"
      ]
     },
     "execution_count": 5,
     "metadata": {},
     "output_type": "execute_result"
    }
   ],
   "source": [
    "result=[]\n",
    "\n",
    "for i in range(4):\n",
    "    l=[]\n",
    "    for j in range(4):\n",
    "        l.append((img[i:i+3,j:j+3]*filter).sum())\n",
    "    result.append(l)\n",
    "    \n",
    "np.array(result).round(2)"
   ]
  },
  {
   "cell_type": "code",
   "execution_count": 6,
   "metadata": {},
   "outputs": [
    {
     "data": {
      "text/plain": [
       "array([[0. , 0. , 0. , 1.6],\n",
       "       [0. , 1.8, 0. , 0. ],\n",
       "       [0.6, 0.5, 1.1, 0.1],\n",
       "       [0.6, 0. , 0. , 0. ]])"
      ]
     },
     "execution_count": 6,
     "metadata": {},
     "output_type": "execute_result"
    }
   ],
   "source": [
    "result2=np.array(result).copy()\n",
    "result2[result2<0]=0\n",
    "result2"
   ]
  },
  {
   "cell_type": "code",
   "execution_count": null,
   "metadata": {},
   "outputs": [],
   "source": []
  }
 ],
 "metadata": {
  "kernelspec": {
   "display_name": "Python 3",
   "language": "python",
   "name": "python3"
  },
  "language_info": {
   "codemirror_mode": {
    "name": "ipython",
    "version": 3
   },
   "file_extension": ".py",
   "mimetype": "text/x-python",
   "name": "python",
   "nbconvert_exporter": "python",
   "pygments_lexer": "ipython3",
   "version": "3.8.5"
  }
 },
 "nbformat": 4,
 "nbformat_minor": 4
}
