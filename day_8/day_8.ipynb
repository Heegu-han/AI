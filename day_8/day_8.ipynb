{
 "cells": [
  {
   "cell_type": "markdown",
   "metadata": {},
   "source": [
    "# 8일차\n",
    "## 연습문제\n",
    "- 아이리스 sepal_length 속성에서, 평균을 기준으로 표준편차값 만큼 벗어나는 샘플의 갯수를 구하시오.\n",
    "- 다른 세가지 속성에 대해서도 적용해 보시오.\n",
    "- sepal_width 값이 petal_length 값 보다 큰 샘플들의 갯수를 구하시오."
   ]
  },
  {
   "cell_type": "code",
   "execution_count": 1,
   "metadata": {},
   "outputs": [],
   "source": [
    "import numpy as np"
   ]
  },
  {
   "cell_type": "code",
   "execution_count": 2,
   "metadata": {},
   "outputs": [],
   "source": [
    "import pandas as pd\n",
    "import matplotlib.pyplot as plt"
   ]
  },
  {
   "cell_type": "code",
   "execution_count": 3,
   "metadata": {},
   "outputs": [
    {
     "data": {
      "text/plain": [
       "(150, 4)"
      ]
     },
     "execution_count": 3,
     "metadata": {},
     "output_type": "execute_result"
    }
   ],
   "source": [
    "iris = np.loadtxt('iris.csv',skiprows=1,\n",
    "                 delimiter=',',usecols=range(4))\n",
    "iris.shape"
   ]
  },
  {
   "cell_type": "code",
   "execution_count": 4,
   "metadata": {},
   "outputs": [
    {
     "data": {
      "text/plain": [
       "array([5.1, 4.9, 4.7, 4.6, 5. , 5.4, 4.6, 5. , 4.4, 4.9, 5.4, 4.8, 4.8,\n",
       "       4.3, 5.8, 5.7, 5.4, 5.1, 5.7, 5.1, 5.4, 5.1, 4.6, 5.1, 4.8, 5. ,\n",
       "       5. , 5.2, 5.2, 4.7, 4.8, 5.4, 5.2, 5.5, 4.9, 5. , 5.5, 4.9, 4.4,\n",
       "       5.1, 5. , 4.5, 4.4, 5. , 5.1, 4.8, 5.1, 4.6, 5.3, 5. , 7. , 6.4,\n",
       "       6.9, 5.5, 6.5, 5.7, 6.3, 4.9, 6.6, 5.2, 5. , 5.9, 6. , 6.1, 5.6,\n",
       "       6.7, 5.6, 5.8, 6.2, 5.6, 5.9, 6.1, 6.3, 6.1, 6.4, 6.6, 6.8, 6.7,\n",
       "       6. , 5.7, 5.5, 5.5, 5.8, 6. , 5.4, 6. , 6.7, 6.3, 5.6, 5.5, 5.5,\n",
       "       6.1, 5.8, 5. , 5.6, 5.7, 5.7, 6.2, 5.1, 5.7, 6.3, 5.8, 7.1, 6.3,\n",
       "       6.5, 7.6, 4.9, 7.3, 6.7, 7.2, 6.5, 6.4, 6.8, 5.7, 5.8, 6.4, 6.5,\n",
       "       7.7, 7.7, 6. , 6.9, 5.6, 7.7, 6.3, 6.7, 7.2, 6.2, 6.1, 6.4, 7.2,\n",
       "       7.4, 7.9, 6.4, 6.3, 6.1, 7.7, 6.3, 6.4, 6. , 6.9, 6.7, 6.9, 5.8,\n",
       "       6.8, 6.7, 6.7, 6.3, 6.5, 6.2, 5.9])"
      ]
     },
     "execution_count": 4,
     "metadata": {},
     "output_type": "execute_result"
    }
   ],
   "source": [
    "sl=iris[:,0]\n",
    "sl"
   ]
  },
  {
   "cell_type": "code",
   "execution_count": 5,
   "metadata": {},
   "outputs": [
    {
     "data": {
      "text/plain": [
       "(5.843333333333334, 0.8253012917851409)"
      ]
     },
     "execution_count": 5,
     "metadata": {},
     "output_type": "execute_result"
    }
   ],
   "source": [
    "m=sl.mean()\n",
    "s=sl.std()\n",
    "m,s"
   ]
  },
  {
   "cell_type": "code",
   "execution_count": 8,
   "metadata": {},
   "outputs": [
    {
     "data": {
      "text/plain": [
       "60"
      ]
     },
     "execution_count": 8,
     "metadata": {},
     "output_type": "execute_result"
    }
   ],
   "source": [
    "(sl>(m+s)).sum() + (sl<(m-s)).sum()"
   ]
  },
  {
   "cell_type": "code",
   "execution_count": 9,
   "metadata": {},
   "outputs": [
    {
     "data": {
      "text/plain": [
       "60"
      ]
     },
     "execution_count": 9,
     "metadata": {},
     "output_type": "execute_result"
    }
   ],
   "source": [
    "(np.abs(sl-m)>s).sum()"
   ]
  },
  {
   "cell_type": "code",
   "execution_count": 10,
   "metadata": {},
   "outputs": [
    {
     "data": {
      "text/plain": [
       "50"
      ]
     },
     "execution_count": 10,
     "metadata": {},
     "output_type": "execute_result"
    }
   ],
   "source": [
    "(iris[:,1]>iris[:,2]).sum()"
   ]
  },
  {
   "cell_type": "code",
   "execution_count": 11,
   "metadata": {},
   "outputs": [
    {
     "data": {
      "text/plain": [
       "array([0.87079945, 0.6852339 , 0.66765274, 0.69710569, 0.84766844,\n",
       "       0.01405094, 0.54973616, 0.04086598, 0.89208492, 0.07301604,\n",
       "       0.61703852, 0.18031231, 0.39627062, 0.35078399, 0.01160828,\n",
       "       0.61503945, 0.86243041, 0.23393961, 0.64658712, 0.08235719,\n",
       "       0.00444595, 0.82686993, 0.78174236, 0.07658007, 0.35422025,\n",
       "       0.78754729, 0.15758566, 0.15138794, 0.20180603, 0.74872645,\n",
       "       0.98095258, 0.13446136, 0.19678165, 0.24049278, 0.90271661,\n",
       "       0.98073938, 0.37619879, 0.93001106, 0.14281403, 0.10165173,\n",
       "       0.2527049 , 0.0749988 , 0.44609263, 0.5035904 , 0.47909156,\n",
       "       0.68809793, 0.81446612, 0.26556529, 0.41353418, 0.25666678,\n",
       "       0.93709674, 0.31885313, 0.51211402, 0.29746773, 0.31576487,\n",
       "       0.49941213, 0.76397561, 0.18870704, 0.39085006, 0.5060398 ,\n",
       "       0.55913319, 0.87141989, 0.86448255, 0.22830748, 0.14186372,\n",
       "       0.71489353, 0.9350494 , 0.43512115, 0.62845561, 0.45630854,\n",
       "       0.50932126, 0.26228968, 0.5969531 , 0.46488508, 0.3240505 ,\n",
       "       0.15557147, 0.69501506, 0.23684901, 0.69600418, 0.44487496,\n",
       "       0.6837692 , 0.06809504, 0.40505521, 0.27228068, 0.07043055,\n",
       "       0.86357474, 0.2612868 , 0.93541513, 0.79517124, 0.17857077,\n",
       "       0.05037112, 0.22143226, 0.6086104 , 0.19557073, 0.56486212,\n",
       "       0.3792918 , 0.30628832, 0.76524071, 0.56931685, 0.46888998])"
      ]
     },
     "execution_count": 11,
     "metadata": {},
     "output_type": "execute_result"
    }
   ],
   "source": [
    "a=np.random.rand(100)\n",
    "a"
   ]
  },
  {
   "cell_type": "code",
   "execution_count": 19,
   "metadata": {
    "scrolled": true
   },
   "outputs": [
    {
     "data": {
      "text/plain": [
       "array([ 0.19210379,  0.00890392, -0.4403113 , ..., -0.30938355,\n",
       "        0.81679021,  0.59373772])"
      ]
     },
     "execution_count": 19,
     "metadata": {},
     "output_type": "execute_result"
    }
   ],
   "source": [
    "a=np.random.randn(100000)\n",
    "a"
   ]
  },
  {
   "cell_type": "markdown",
   "metadata": {},
   "source": [
    "- -1~1 사이의 샘플갯수\n",
    "- -2~2 사이\n",
    "- -3~3 사이"
   ]
  },
  {
   "cell_type": "code",
   "execution_count": 24,
   "metadata": {},
   "outputs": [
    {
     "data": {
      "text/plain": [
       "68.259"
      ]
     },
     "execution_count": 24,
     "metadata": {},
     "output_type": "execute_result"
    }
   ],
   "source": [
    "(np.abs(a)<1).sum()/1000"
   ]
  },
  {
   "cell_type": "code",
   "execution_count": 25,
   "metadata": {},
   "outputs": [
    {
     "data": {
      "text/plain": [
       "95.548"
      ]
     },
     "execution_count": 25,
     "metadata": {},
     "output_type": "execute_result"
    }
   ],
   "source": [
    "(np.abs(a)<2).sum()/1000"
   ]
  },
  {
   "cell_type": "code",
   "execution_count": 26,
   "metadata": {},
   "outputs": [
    {
     "data": {
      "text/plain": [
       "99.707"
      ]
     },
     "execution_count": 26,
     "metadata": {},
     "output_type": "execute_result"
    }
   ],
   "source": [
    "(np.abs(a)<3).sum()/1000"
   ]
  },
  {
   "cell_type": "code",
   "execution_count": 27,
   "metadata": {},
   "outputs": [
    {
     "data": {
      "image/png": "[encoded data removed]",
      "text/plain": [
       "<Figure size 432x288 with 1 Axes>"
      ]
     },
     "metadata": {
      "needs_background": "light"
     },
     "output_type": "display_data"
    }
   ],
   "source": [
    "plt.hist(a, bins=100)\n",
    "pass"
   ]
  },
  {
   "cell_type": "code",
   "execution_count": 28,
   "metadata": {},
   "outputs": [
    {
     "data": {
      "text/plain": [
       "(array([2.1000e+01, 2.9500e+02, 2.9810e+03, 1.4044e+04, 3.1147e+04,\n",
       "        3.1976e+04, 1.5662e+04, 3.4630e+03, 3.8400e+02, 2.7000e+01]),\n",
       " array([-4.54613652, -3.64517561, -2.7442147 , -1.8432538 , -0.94229289,\n",
       "        -0.04133198,  0.85962893,  1.76058984,  2.66155074,  3.56251165,\n",
       "         4.46347256]),\n",
       " <BarContainer object of 10 artists>)"
      ]
     },
     "execution_count": 28,
     "metadata": {},
     "output_type": "execute_result"
    },
    {
     "data": {
      "image/png": "[encoded data removed]",
      "text/plain": [
       "<Figure size 432x288 with 1 Axes>"
      ]
     },
     "metadata": {
      "needs_background": "light"
     },
     "output_type": "display_data"
    }
   ],
   "source": [
    "plt.hist(a)"
   ]
  },
  {
   "cell_type": "code",
   "execution_count": 30,
   "metadata": {},
   "outputs": [
    {
     "data": {
      "text/plain": [
       "array([[2, 1, 1],\n",
       "       [3, 3, 4],\n",
       "       [4, 3, 1],\n",
       "       [4, 3, 2],\n",
       "       [4, 1, 5],\n",
       "       [2, 6, 6],\n",
       "       [1, 2, 5],\n",
       "       [1, 5, 4],\n",
       "       [4, 4, 4],\n",
       "       [5, 5, 1]])"
      ]
     },
     "execution_count": 30,
     "metadata": {},
     "output_type": "execute_result"
    }
   ],
   "source": [
    "np.random.randint(1,7,size=[10,3])"
   ]
  },
  {
   "cell_type": "code",
   "execution_count": 32,
   "metadata": {},
   "outputs": [
    {
     "data": {
      "text/plain": [
       "array([[-6.95544446e-01,  2.86552443e-01,  5.10929661e-01,\n",
       "        -6.59019762e-01, -1.66378776e+00,  6.74430363e-01,\n",
       "        -1.18065869e+00, -3.07840489e-01, -2.43169136e-01,\n",
       "        -1.54352434e-01],\n",
       "       [-4.16670583e-01,  1.89793672e+00,  1.29560873e+00,\n",
       "        -3.96926520e-02,  2.59747281e-01,  1.86445239e-01,\n",
       "        -1.29553663e+00, -4.59598178e-01,  5.13282166e-01,\n",
       "        -3.57961197e-01],\n",
       "       [-6.90508345e-01,  4.87885319e-01,  3.73507198e-01,\n",
       "        -4.78735320e-01,  5.72562496e-01, -7.35926662e-01,\n",
       "        -4.99859932e-02, -6.02803314e-01, -3.13754740e-01,\n",
       "        -1.08741442e+00],\n",
       "       [-1.22273781e+00,  3.19446726e-01, -3.99261344e-02,\n",
       "        -7.22310900e-02, -9.95707982e-01, -2.20738771e-01,\n",
       "        -1.76673097e+00, -4.59520559e-01, -1.85148994e+00,\n",
       "        -2.73820178e-01],\n",
       "       [-4.86849746e-01, -5.65584661e-01, -6.08217686e-01,\n",
       "        -5.46760469e-01, -1.49914393e-01,  2.42107071e+00,\n",
       "        -2.56059038e+00, -1.56371382e+00, -5.76581355e-01,\n",
       "         6.55762348e-01],\n",
       "       [ 5.90687962e-01, -1.18273805e+00, -1.94312041e+00,\n",
       "         9.89817610e-01,  1.03871136e+00, -7.10824346e-01,\n",
       "         1.22307437e-02, -1.06539534e-01,  5.05633947e-01,\n",
       "         8.80704473e-02],\n",
       "       [ 3.25045340e-01,  1.94547513e+00,  2.98219754e-01,\n",
       "         7.44148693e-01,  6.76809502e-01, -7.29018876e-01,\n",
       "        -4.35188414e-01, -4.23102974e-01,  2.77231322e-02,\n",
       "        -7.57565610e-01],\n",
       "       [-8.11010865e-01, -4.79129365e-01, -1.09813899e+00,\n",
       "        -1.38809383e+00, -2.61682453e-01,  6.39943557e-01,\n",
       "        -1.98987581e+00,  7.89486011e-01, -7.85132852e-01,\n",
       "        -1.13650995e+00],\n",
       "       [-1.18420363e-01,  2.16472590e+00, -1.78116322e+00,\n",
       "        -4.30463119e-01, -1.01151321e+00,  1.50388756e-01,\n",
       "        -2.14372432e-02, -1.02661991e+00,  9.73628234e-01,\n",
       "        -7.73502662e-01],\n",
       "       [-6.74921420e-02,  2.43851108e-01,  5.26190642e-01,\n",
       "        -1.58063263e+00, -9.78695952e-01,  5.15740160e-01,\n",
       "        -3.40555257e-01, -1.48076212e+00, -1.19901225e+00,\n",
       "        -3.31038387e-01],\n",
       "       [ 3.16614696e-01, -1.14379164e+00, -4.48616754e-01,\n",
       "        -7.34505007e-01,  1.03101029e+00, -1.11750893e+00,\n",
       "         7.59769154e-01, -1.00607818e+00,  3.70894308e-01,\n",
       "         8.83218501e-01],\n",
       "       [-1.15027574e+00,  2.19490878e+00,  6.84009679e-01,\n",
       "         3.43619073e-01,  5.39442253e-01, -6.93610756e-01,\n",
       "         1.68871810e+00,  7.14918267e-01, -1.03561848e-01,\n",
       "        -6.26270657e-02],\n",
       "       [ 9.64429709e-01,  9.00440560e-02, -9.68873487e-01,\n",
       "         7.16665821e-01, -6.97423270e-01,  6.24258395e-01,\n",
       "        -4.44053999e-01, -2.34366329e-01, -2.71028784e-01,\n",
       "        -5.82005630e-01],\n",
       "       [-8.95775884e-01, -1.48007643e-01, -1.64297524e+00,\n",
       "         1.84447290e+00,  8.59040774e-01,  2.01646480e-01,\n",
       "        -2.83273979e-01,  1.92812697e+00, -1.55271696e-01,\n",
       "        -6.59693348e-01],\n",
       "       [ 7.90787731e-01, -8.19870698e-01, -8.23855835e-01,\n",
       "        -3.21235927e-02,  6.67373314e-01, -1.31461456e+00,\n",
       "        -9.67727352e-01, -6.01680643e-01, -6.63279759e-02,\n",
       "        -8.86034877e-01],\n",
       "       [-1.03575273e+00, -8.35211605e-02, -2.56261814e-01,\n",
       "         5.08142775e-01,  7.67820874e-01,  3.95719516e-01,\n",
       "        -9.11295895e-01,  6.97654911e-01,  5.22051084e-01,\n",
       "        -1.57550676e+00],\n",
       "       [ 1.85455795e+00,  1.19071053e-01, -1.21168773e+00,\n",
       "         2.92616465e-01, -2.33091433e+00, -1.60526726e-01,\n",
       "        -3.71969395e-02, -9.93469411e-02,  9.73632383e-01,\n",
       "         3.14443716e-01],\n",
       "       [ 1.51014052e+00,  6.81573288e-01, -8.34538231e-01,\n",
       "         5.15490775e-01, -5.59402281e-01,  2.22414671e-01,\n",
       "        -1.25742983e+00, -1.86959306e-01,  1.88182959e-01,\n",
       "         7.50780074e-01],\n",
       "       [-4.75761196e-01,  9.24547452e-01,  1.46459542e+00,\n",
       "        -1.41652214e-01, -9.43319467e-01,  1.58662039e-01,\n",
       "        -7.15432764e-01,  1.15769232e+00, -7.81346094e-02,\n",
       "         7.73321336e-01],\n",
       "       [-1.18642405e-02, -8.87626347e-01,  1.58523074e+00,\n",
       "        -1.53856355e+00, -2.65159671e-01,  4.04292716e-01,\n",
       "        -9.90617525e-01, -6.89029465e-01,  6.18579875e-01,\n",
       "        -1.32784794e+00],\n",
       "       [ 2.25233471e-02,  6.39393393e-01, -1.62445465e+00,\n",
       "        -7.77288277e-01, -1.31957583e-01, -4.80329138e-01,\n",
       "         7.92439024e-01, -4.60986640e-01,  1.34396864e+00,\n",
       "        -1.23636920e+00],\n",
       "       [-2.56389616e-01, -1.29267756e+00, -1.16008807e+00,\n",
       "        -1.99241051e+00,  5.61706913e-01, -2.17490913e+00,\n",
       "        -1.32377402e+00, -1.18979916e-01,  5.50427472e-01,\n",
       "        -1.62183339e+00],\n",
       "       [ 8.08686193e-01, -8.01802496e-01, -2.98966350e-01,\n",
       "        -5.12186893e-01, -1.87836150e-02,  2.64252819e-01,\n",
       "         8.91693784e-02, -1.08635573e+00, -7.97302456e-01,\n",
       "        -2.32055362e-01],\n",
       "       [-3.68634418e-03,  8.77124597e-01, -9.01021771e-01,\n",
       "        -5.51521970e-01, -6.33252347e-01,  3.24780237e-01,\n",
       "        -1.88783255e-01, -5.25203384e-01, -2.39230389e-01,\n",
       "         9.98219881e-01],\n",
       "       [ 9.29105264e-01, -2.01786759e+00,  2.63620550e-01,\n",
       "        -1.33746869e+00, -2.40920706e-01,  1.30901298e+00,\n",
       "        -4.20783889e-01,  6.65848564e-01, -1.02319092e+00,\n",
       "        -3.77780097e-01],\n",
       "       [-2.84420318e-01, -2.23176782e+00, -1.10489329e+00,\n",
       "         1.82222411e+00, -5.48712266e-01,  1.44059703e+00,\n",
       "        -2.63052779e-01,  1.64177726e-01,  2.53450507e-01,\n",
       "        -7.94195366e-01],\n",
       "       [-7.79785087e-02,  1.12588227e+00, -2.24406312e-01,\n",
       "         1.71674960e-01,  8.91344685e-01, -9.21902427e-01,\n",
       "         2.47055001e+00, -9.53294739e-01,  4.61642933e-01,\n",
       "         6.83570843e-01],\n",
       "       [ 1.17788902e+00,  1.02004937e+00,  1.30936243e-01,\n",
       "         1.25859749e+00, -3.27234761e-01, -6.58276381e-01,\n",
       "         2.19090665e+00, -1.44209588e-01,  8.05811648e-01,\n",
       "         3.36937510e-01],\n",
       "       [-5.01501276e-01, -1.90154681e-01, -8.82595242e-01,\n",
       "         2.85154598e-01,  3.62396577e-01,  9.34555837e-01,\n",
       "         1.16564520e-01,  4.48324649e-01,  1.09354833e-01,\n",
       "         1.23198846e-01],\n",
       "       [ 8.06159639e-02,  2.08937443e+00,  1.83752100e-01,\n",
       "         1.33479904e-01,  6.18104721e-02, -2.84231953e+00,\n",
       "         9.02729598e-01, -5.85456440e-01, -6.63560928e-01,\n",
       "        -1.69715106e+00],\n",
       "       [-6.16907990e-01,  1.61980124e+00, -9.71387534e-01,\n",
       "         1.31854801e+00, -2.86631726e-01, -1.08353910e+00,\n",
       "        -1.04463435e+00, -5.23974856e-01, -8.07699671e-01,\n",
       "        -8.13517945e-01],\n",
       "       [-1.09619701e+00, -1.38651888e-01, -9.25120565e-01,\n",
       "        -2.28683255e-01, -6.07159885e-01,  7.35010488e-01,\n",
       "         2.77261945e-01, -3.36463401e-01, -2.55383812e-01,\n",
       "         2.73127754e+00],\n",
       "       [ 1.67052302e+00, -7.45623314e-01, -1.09443504e+00,\n",
       "         1.81299270e+00,  1.30947930e+00, -5.16590413e-01,\n",
       "        -2.77548056e-01, -9.66030061e-01,  7.24716365e-01,\n",
       "        -7.26239753e-01],\n",
       "       [ 1.72049682e+00,  1.49671862e+00, -3.31847502e-01,\n",
       "         6.08035612e-01, -4.46811334e-01,  7.94249171e-01,\n",
       "         8.30461404e-01, -2.80801504e-01,  9.26863231e-01,\n",
       "         1.13982074e+00],\n",
       "       [-4.92697014e-02, -9.31683973e-01, -1.48088676e+00,\n",
       "         1.18384006e+00, -4.22749757e-01, -9.18757381e-01,\n",
       "         1.41023838e+00, -8.18400544e-01, -2.36589491e+00,\n",
       "         1.18917650e+00],\n",
       "       [ 6.56198724e-01, -9.81427582e-02, -1.04550251e+00,\n",
       "        -7.18022303e-01,  8.92352411e-01, -5.11279678e-01,\n",
       "        -3.36722340e-01,  3.00735003e-01,  2.20411669e+00,\n",
       "         1.14186221e+00],\n",
       "       [ 1.15971257e-01,  1.65794997e+00,  1.02887533e+00,\n",
       "         6.97643669e-02, -1.32393813e+00, -1.06256213e+00,\n",
       "         1.43326979e-01,  2.75972876e-01, -1.68422915e+00,\n",
       "        -1.85331414e+00],\n",
       "       [ 1.72473209e+00,  8.08283682e-02,  7.57910758e-01,\n",
       "         2.47153113e+00,  1.08825824e+00, -7.84515117e-01,\n",
       "        -5.73735954e-03, -6.95177186e-01,  3.13428980e-01,\n",
       "         1.04433027e+00],\n",
       "       [-9.71112113e-01,  1.16686922e+00, -1.45601276e+00,\n",
       "         1.08162089e+00,  1.79548136e-01, -5.03487718e-01,\n",
       "        -3.40954263e-01,  3.81654072e-01,  7.80058160e-01,\n",
       "         2.20540517e-01],\n",
       "       [ 1.37718632e+00, -1.00252871e+00, -2.47311765e-01,\n",
       "         1.64157037e+00,  1.57853665e+00,  7.90690983e-01,\n",
       "         7.19262265e-01,  1.99108972e-01,  1.09150147e+00,\n",
       "        -4.75348564e-02],\n",
       "       [ 1.21025944e-02,  8.40573265e-01, -2.39551025e+00,\n",
       "         3.86485365e-01,  1.48257902e-01,  2.41693755e-01,\n",
       "        -3.79881435e-01,  9.68133549e-01,  9.10875657e-02,\n",
       "        -1.02147633e-01],\n",
       "       [ 4.81118942e-01,  1.52473088e+00,  3.83355897e-01,\n",
       "         1.23616336e-01,  5.90190529e-01,  2.07519774e+00,\n",
       "        -2.86645262e+00,  7.14540928e-01,  1.37581247e+00,\n",
       "         2.60570838e-01],\n",
       "       [-1.34252920e+00, -6.91043996e-02, -1.64574763e-01,\n",
       "         9.71857614e-01, -1.77686916e+00,  3.87797652e-01,\n",
       "        -9.53384349e-01,  2.68403423e-01,  3.65727531e-01,\n",
       "        -1.82373703e+00],\n",
       "       [ 5.76624874e-01,  5.91391255e-01,  6.74926942e-01,\n",
       "        -1.27728933e+00, -8.42961733e-02, -8.30333924e-01,\n",
       "         1.48439743e-01, -6.39199874e-01,  1.20704741e+00,\n",
       "         1.01517784e+00],\n",
       "       [-1.41572015e+00, -7.04536530e-01, -1.26639069e+00,\n",
       "        -1.73168376e-01,  8.58456426e-01,  1.27083526e-01,\n",
       "        -2.21884896e-01,  8.94998022e-01,  2.68260425e-01,\n",
       "        -4.35448960e-01],\n",
       "       [-5.24877182e-01,  2.83544568e-01,  6.77975275e-01,\n",
       "        -7.65781819e-02,  6.18292135e-01, -1.28913343e+00,\n",
       "         2.22441366e+00,  7.80206799e-01,  6.27705849e-01,\n",
       "        -1.12194009e-01],\n",
       "       [-3.10966768e-01, -2.95754598e-01,  5.31482741e-01,\n",
       "         9.71605479e-02,  9.54319643e-02, -1.05100124e-01,\n",
       "         1.14525759e+00,  1.35244781e+00,  6.24252714e-01,\n",
       "        -1.38605887e+00],\n",
       "       [-1.67781932e+00, -6.70083207e-01, -1.16445397e+00,\n",
       "        -1.88760179e+00, -1.14773737e+00, -5.97014309e-01,\n",
       "         1.71595073e+00,  1.01053106e+00, -7.43413428e-01,\n",
       "         9.91275162e-01],\n",
       "       [-6.25200081e-01,  6.97759337e-01,  4.36225762e-01,\n",
       "        -5.20525656e-01, -5.71447500e-01,  1.04967363e+00,\n",
       "        -1.47364969e+00, -9.36993878e-01, -1.08178586e+00,\n",
       "         1.08421768e+00],\n",
       "       [ 7.91185638e-01, -1.06336619e+00,  1.41907937e+00,\n",
       "        -1.02397887e+00,  1.85320237e+00, -4.23452797e-01,\n",
       "        -2.20712470e-01, -1.26356057e+00,  1.53688628e-01,\n",
       "         2.68946462e-01],\n",
       "       [-5.89459074e-01, -1.09012903e+00,  1.26600619e+00,\n",
       "         3.86256293e-01,  5.33694286e-01, -5.99737641e-01,\n",
       "        -1.03958758e+00,  9.66709351e-01, -3.89232417e-01,\n",
       "         2.16054845e-01],\n",
       "       [-9.49588632e-02, -6.10612617e-01,  8.25846306e-01,\n",
       "         1.55499570e+00,  2.64568188e-01, -1.76742517e+00,\n",
       "        -9.70873480e-01, -7.78394089e-01, -1.12702011e+00,\n",
       "         9.92108660e-02],\n",
       "       [-1.76766333e+00,  6.79958761e-01, -3.71616836e-01,\n",
       "        -8.62274680e-01,  6.56465849e-01, -1.90557925e+00,\n",
       "        -6.44934958e-01, -3.49633150e-01,  7.51735998e-01,\n",
       "         7.59125226e-01],\n",
       "       [ 6.33209233e-03, -1.08783506e+00,  1.75304471e+00,\n",
       "        -2.22838708e-01,  8.84789774e-01,  9.04363511e-02,\n",
       "        -8.65502827e-01, -1.92820512e+00,  8.38057589e-01,\n",
       "         1.49098234e+00],\n",
       "       [-1.12434408e-01, -3.76863359e-01, -1.06496758e+00,\n",
       "         4.32589790e-01,  1.12319071e+00,  8.12279004e-01,\n",
       "        -1.23805810e+00, -6.10394058e-01, -1.45126673e+00,\n",
       "         7.86670967e-01],\n",
       "       [ 9.47844202e-01, -7.31408753e-02,  5.81817789e-02,\n",
       "         1.38352902e+00, -5.39418722e-01,  5.78245045e-01,\n",
       "         7.12966000e-01,  8.09235967e-01, -1.10778821e+00,\n",
       "         6.29592514e-01],\n",
       "       [-1.10275134e-01,  1.43335769e+00,  4.85643751e-01,\n",
       "        -2.17167738e+00, -4.21920442e-01,  3.31427072e-01,\n",
       "        -2.73216678e-01,  7.49285192e-01, -5.25585411e-01,\n",
       "        -1.32449965e+00],\n",
       "       [-9.53143478e-01, -4.28543269e-01,  2.40985244e-01,\n",
       "        -4.54418263e-01,  8.34255158e-01,  2.00301412e-03,\n",
       "         9.10869575e-02, -1.76970461e+00,  3.03994163e-01,\n",
       "        -1.72958701e+00],\n",
       "       [-3.47562274e-01, -3.28726270e-01,  3.01643273e-01,\n",
       "         1.74197220e-02,  2.56269335e-01, -4.37496247e-01,\n",
       "        -8.21969482e-02,  4.56049591e-02,  4.48900686e-01,\n",
       "        -1.49641412e+00],\n",
       "       [-1.17926547e-01,  8.92036203e-01, -1.20321553e+00,\n",
       "         3.07162724e-01,  2.26907923e-02,  1.38406006e+00,\n",
       "         1.20145560e-01,  1.13635826e+00,  1.24652090e-02,\n",
       "        -3.74190087e-01],\n",
       "       [ 1.29141171e-01, -5.33718131e-02,  7.04738726e-01,\n",
       "        -1.72798248e+00,  1.06993502e+00,  2.70405534e-01,\n",
       "        -5.49535656e-01,  7.09043715e-01, -9.88699417e-01,\n",
       "        -3.22490324e-01],\n",
       "       [-6.53497991e-01,  1.43709800e+00, -8.56670925e-01,\n",
       "         5.39655813e-01, -2.06155259e-01,  1.39198998e+00,\n",
       "         5.42944643e-01, -4.67999716e-01, -5.41657663e-01,\n",
       "        -1.45590810e+00],\n",
       "       [-1.20707266e+00,  5.94822463e-01,  2.73552501e-01,\n",
       "        -9.89377577e-02, -3.17499226e-01, -1.15393137e+00,\n",
       "        -4.03500273e-01,  1.21664390e+00, -1.57919192e+00,\n",
       "         1.71646625e-01],\n",
       "       [-1.35122773e+00,  9.40022178e-01,  6.10353036e-02,\n",
       "         6.12976576e-01, -1.00409100e+00, -2.31816233e-01,\n",
       "        -1.44241635e+00,  3.34797999e-01,  1.77337770e+00,\n",
       "        -1.41054967e+00],\n",
       "       [ 3.51116756e-01,  6.87562122e-03,  5.98519931e-01,\n",
       "        -1.04025619e+00,  1.24752078e+00,  1.35270967e+00,\n",
       "        -3.11107286e-01,  9.71603758e-01, -1.57177854e+00,\n",
       "         2.29882165e-01],\n",
       "       [ 7.67081142e-01,  1.01777853e+00,  1.60711846e+00,\n",
       "        -1.93036313e-01, -9.36084445e-01,  9.26767052e-02,\n",
       "        -7.42481753e-01,  2.22460829e+00,  1.27703744e+00,\n",
       "         1.57037043e+00],\n",
       "       [-1.06780449e-01, -7.01829017e-01, -1.98427531e+00,\n",
       "        -7.81917320e-01, -1.00113343e+00, -1.15782424e+00,\n",
       "        -9.51291198e-01,  3.10043853e-01,  1.98669325e+00,\n",
       "         2.12085911e-01],\n",
       "       [ 1.53897005e-01,  9.89224400e-01, -4.02256490e-01,\n",
       "        -8.93814979e-03,  3.18992232e+00, -2.50994868e+00,\n",
       "         4.81515957e-01, -2.31085924e-02, -1.06068937e+00,\n",
       "         3.03374802e-01],\n",
       "       [-1.69118061e+00, -4.54761492e-01,  5.74602877e-01,\n",
       "         1.46656643e+00,  6.36897757e-01,  1.13181722e-01,\n",
       "        -2.85619394e-01, -2.36281192e+00,  8.60665827e-01,\n",
       "        -6.46323073e-01],\n",
       "       [ 1.42218217e+00,  1.80415032e-01, -7.48047134e-01,\n",
       "         6.77683326e-01, -4.03078676e-01, -6.54426143e-01,\n",
       "        -6.90856252e-01,  1.85246675e-01,  3.78559453e-01,\n",
       "        -4.50682945e-01],\n",
       "       [-5.43468640e-01,  3.21908939e-01,  1.91439413e+00,\n",
       "         7.04820115e-01,  5.77016589e-01, -1.37748799e+00,\n",
       "        -1.64716216e+00,  2.19545864e-01,  1.28222858e+00,\n",
       "         5.37327398e-01],\n",
       "       [-1.86589375e+00,  1.03076820e+00, -8.14223420e-01,\n",
       "        -4.16703277e-01,  1.16722283e+00,  6.67899267e-01,\n",
       "        -8.86004818e-02, -1.04288038e+00, -1.85066708e+00,\n",
       "         2.09605401e-01],\n",
       "       [-8.40171570e-01,  1.27314369e+00,  2.72016735e-01,\n",
       "        -1.34170672e+00,  1.68763615e-01, -5.65330590e-01,\n",
       "        -5.99902364e-01,  9.81887943e-01,  2.99438503e-01,\n",
       "         1.15873593e+00],\n",
       "       [ 1.97850893e+00, -1.35137816e+00, -5.62758450e-01,\n",
       "        -3.72518227e-02,  5.14100583e-01, -9.99055322e-01,\n",
       "        -6.21672319e-01, -3.10129755e-01,  9.73551495e-01,\n",
       "         1.54690458e-01],\n",
       "       [ 6.28196626e-01,  1.27612065e+00, -8.37185281e-01,\n",
       "         7.75683187e-01,  1.48587251e+00,  5.10253687e-01,\n",
       "         8.72752457e-02,  1.09370107e+00,  9.69996500e-02,\n",
       "        -2.09046312e+00],\n",
       "       [-5.18718619e-01, -5.25977844e-01,  1.63955667e-02,\n",
       "         1.09387225e+00, -3.97633601e-01,  3.33840807e-01,\n",
       "         4.71463893e-01,  9.17297500e-01, -1.24356997e+00,\n",
       "         1.41442908e-01],\n",
       "       [-8.29184663e-01,  8.81766134e-01,  1.00950968e+00,\n",
       "        -8.94237460e-01, -4.69288824e-01, -1.93680128e+00,\n",
       "        -6.84351374e-01,  6.05044600e-01,  5.53014392e-02,\n",
       "         5.32823135e-01],\n",
       "       [ 1.75492591e-02, -1.46957929e+00,  1.45145884e-01,\n",
       "        -2.52414631e-01,  7.27998462e-01, -7.02547786e-01,\n",
       "         5.17943563e-01,  9.51525601e-01,  6.72369656e-02,\n",
       "        -1.60751967e+00],\n",
       "       [ 4.93789385e-01, -4.96392009e-02,  2.41856842e-02,\n",
       "        -2.22235748e-01, -4.49404865e-01, -3.40145658e-01,\n",
       "         1.99010075e-01, -5.55945742e-01, -1.15135088e+00,\n",
       "        -1.63473006e+00],\n",
       "       [ 7.32158331e-02,  3.15692158e-01, -9.45160300e-01,\n",
       "         1.44150382e+00,  9.54181633e-02,  5.66362088e-01,\n",
       "        -8.96633258e-01,  1.10065889e+00,  8.46017825e-01,\n",
       "         1.04218475e+00],\n",
       "       [-1.12482725e+00, -1.29625110e-02, -1.15593606e+00,\n",
       "        -1.04506194e+00, -1.28030120e+00,  9.90943243e-02,\n",
       "         1.50282660e+00, -1.23063345e+00, -8.98892643e-01,\n",
       "        -7.92908777e-01],\n",
       "       [-1.10913314e+00,  9.84498138e-02,  4.99436438e-01,\n",
       "        -1.73642949e+00,  4.05384857e-01, -1.63177564e+00,\n",
       "         1.54110565e+00,  6.32780252e-01,  7.64629382e-01,\n",
       "        -1.86314262e-01],\n",
       "       [-1.71598159e-01,  4.01391919e-01,  3.77551995e-01,\n",
       "        -1.06658879e+00,  6.48221313e-01, -1.72486688e-01,\n",
       "        -1.13335651e+00,  1.22761027e+00,  2.94985393e+00,\n",
       "         7.01014259e-02],\n",
       "       [ 1.55253706e+00, -2.78780095e-01, -6.32530001e-01,\n",
       "        -1.55994493e+00,  1.39923723e+00, -4.64781334e-02,\n",
       "         2.17903551e+00, -9.35028900e-01,  6.18325503e-01,\n",
       "        -6.67048064e-01],\n",
       "       [ 1.72386908e-02, -9.37087411e-01, -1.41739218e+00,\n",
       "         8.57014173e-01,  4.95102348e-01,  1.27480689e+00,\n",
       "        -4.19028761e-01, -1.21721056e+00, -4.79094246e-01,\n",
       "         1.66900804e-01],\n",
       "       [-2.19529155e+00,  2.32385289e+00, -1.35644391e+00,\n",
       "         5.41030371e-02, -1.46512998e+00,  4.10672849e-02,\n",
       "        -3.89235870e-01, -7.52846546e-02, -1.21654325e+00,\n",
       "        -1.54955545e-01],\n",
       "       [-1.58692713e+00,  7.84927269e-01, -6.30524428e-01,\n",
       "         7.92385216e-01, -1.23436439e+00,  3.41746634e-01,\n",
       "        -4.11104843e+00, -4.24811501e-02, -1.29193989e+00,\n",
       "         9.12694130e-02],\n",
       "       [-4.15904414e-01,  4.30963647e-01,  7.39905442e-02,\n",
       "        -1.54503783e+00,  2.86081084e-02, -5.12026879e-01,\n",
       "         1.17817561e+00,  9.26483885e-01,  1.56330494e-01,\n",
       "        -6.27560960e-01],\n",
       "       [ 3.19261283e-01,  1.13484902e+00,  1.42572496e+00,\n",
       "         2.28625568e-01,  7.75472194e-01,  1.21356070e-01,\n",
       "        -1.79995684e-01,  6.15497849e-02, -5.77823133e-01,\n",
       "        -5.56449284e-01],\n",
       "       [ 1.94145456e+00, -4.87543419e-02, -1.37319194e+00,\n",
       "        -5.94759275e-01, -2.33667027e-02,  4.28642206e-01,\n",
       "        -1.28634625e+00,  1.25430527e-01,  4.10295767e-02,\n",
       "         4.30606412e-01],\n",
       "       [-9.98589821e-01,  1.69503726e+00,  1.83674266e-01,\n",
       "         5.50108709e-02, -7.68113057e-01,  3.90375499e-01,\n",
       "         1.73619158e+00, -2.00165288e+00, -1.42526245e-01,\n",
       "        -1.32719271e+00],\n",
       "       [-9.47809883e-01,  6.42267427e-01,  3.25107886e-01,\n",
       "        -9.92270172e-01,  1.78808069e-01, -7.42572401e-01,\n",
       "        -2.09192851e+00,  8.57554341e-01,  2.43771208e+00,\n",
       "        -1.03803607e+00],\n",
       "       [-1.77068749e+00, -3.39812225e-01,  2.37103075e+00,\n",
       "         3.84894133e-01,  1.27142899e-01, -9.17037842e-01,\n",
       "         5.86059832e-01, -2.39899468e+00, -1.45457796e-01,\n",
       "         1.18916797e+00],\n",
       "       [-5.17184754e-01, -4.69229621e-01, -5.91432486e-01,\n",
       "         6.15280744e-01, -6.46409582e-01, -1.24219724e+00,\n",
       "        -5.89179291e-01, -4.26006256e-01, -2.83860812e-01,\n",
       "         7.92450998e-02],\n",
       "       [ 2.34261321e-01,  8.14805367e-01, -1.86379334e-01,\n",
       "        -3.95297402e-01, -3.55733466e-01, -1.06553922e-01,\n",
       "         2.56522509e-01, -5.22939926e-01, -2.16548815e+00,\n",
       "         1.66706147e-01],\n",
       "       [ 5.04122074e-03, -1.96364643e+00,  1.14273913e+00,\n",
       "        -7.27126785e-01, -1.17935590e+00, -7.57613040e-01,\n",
       "         8.87460817e-01,  5.70386749e-01, -2.18878865e-01,\n",
       "         7.62206123e-01],\n",
       "       [-7.55955426e-01, -1.49060562e-01, -6.41680742e-01,\n",
       "        -8.94532593e-01,  1.45389652e+00,  7.72844797e-01,\n",
       "         4.90301080e-01,  4.10769346e-01, -5.59284966e-01,\n",
       "        -7.23579004e-01],\n",
       "       [-1.44660798e+00,  7.83158178e-01,  9.59807607e-01,\n",
       "        -6.16926381e-01,  1.32120439e-01, -3.86872906e-01,\n",
       "        -1.10175688e+00,  8.94792849e-01, -1.39565876e+00,\n",
       "         6.34187885e-02],\n",
       "       [-8.15814821e-02,  1.95497619e-01, -1.29072323e-01,\n",
       "        -1.89544065e-02, -1.09402364e+00,  9.40496820e-02,\n",
       "         1.80792407e+00, -7.78453436e-01,  1.34790652e+00,\n",
       "         1.83648246e+00],\n",
       "       [ 4.97976000e-01,  6.69411625e-01,  2.10846832e-01,\n",
       "         4.18091145e-01, -1.26058735e+00,  3.37347210e-01,\n",
       "        -5.28634996e-01, -1.51469319e+00, -6.41882750e-02,\n",
       "        -6.88033484e-01]])"
      ]
     },
     "execution_count": 32,
     "metadata": {},
     "output_type": "execute_result"
    }
   ],
   "source": [
    "a=np.random.randn(100,10)\n",
    "a"
   ]
  },
  {
   "cell_type": "code",
   "execution_count": 34,
   "metadata": {},
   "outputs": [
    {
     "data": {
      "text/plain": [
       "(1, 1)"
      ]
     },
     "execution_count": 34,
     "metadata": {},
     "output_type": "execute_result"
    }
   ],
   "source": [
    "(a>3).sum(),(a<-3).sum()"
   ]
  },
  {
   "cell_type": "code",
   "execution_count": 35,
   "metadata": {},
   "outputs": [],
   "source": [
    "a[a>3]=3"
   ]
  },
  {
   "cell_type": "code",
   "execution_count": 36,
   "metadata": {},
   "outputs": [],
   "source": [
    "a[a<-3]=-3"
   ]
  },
  {
   "cell_type": "code",
   "execution_count": 37,
   "metadata": {},
   "outputs": [
    {
     "data": {
      "text/plain": [
       "array([], dtype=float64)"
      ]
     },
     "execution_count": 37,
     "metadata": {},
     "output_type": "execute_result"
    }
   ],
   "source": [
    "a[np.abs(a)>3]"
   ]
  },
  {
   "cell_type": "code",
   "execution_count": 38,
   "metadata": {},
   "outputs": [],
   "source": [
    "data=np.zeros([100,2])"
   ]
  },
  {
   "cell_type": "code",
   "execution_count": 39,
   "metadata": {},
   "outputs": [
    {
     "data": {
      "text/plain": [
       "array([0., 0., 0., 0., 0., 0., 0., 0., 0., 0., 0., 0., 0., 0., 0., 0., 0.,\n",
       "       0., 0., 0., 0., 0., 0., 0., 0., 0., 0., 0., 0., 0., 0., 0., 0., 0.,\n",
       "       0., 0., 0., 0., 0., 0., 0., 0., 0., 0., 0., 0., 0., 0., 0., 0., 0.,\n",
       "       0., 0., 0., 0., 0., 0., 0., 0., 0., 0., 0., 0., 0., 0., 0., 0., 0.,\n",
       "       0., 0., 0., 0., 0., 0., 0., 0., 0., 0., 0., 0., 0., 0., 0., 0., 0.,\n",
       "       0., 0., 0., 0., 0., 0., 0., 0., 0., 0., 0., 0., 0., 0., 0.])"
      ]
     },
     "execution_count": 39,
     "metadata": {},
     "output_type": "execute_result"
    }
   ],
   "source": [
    "data[:,0]"
   ]
  },
  {
   "cell_type": "code",
   "execution_count": 40,
   "metadata": {},
   "outputs": [
    {
     "data": {
      "text/plain": [
       "array([ 0.87177283,  1.68678029, -0.28872651, -0.01936128, -1.69156735,\n",
       "        1.1929921 ,  1.05288316, -0.74569261, -1.0077982 , -0.16384027,\n",
       "       -0.49335176, -0.28858244, -0.31840305,  1.88794278, -0.26162506,\n",
       "       -0.61069269, -1.65293318, -0.29949995, -1.94719263, -0.99945231,\n",
       "        0.66466147, -0.82325123,  0.06749429, -1.78409343,  0.29180675,\n",
       "        0.82188037,  0.29840235,  0.37837597, -0.78733027,  1.29550726,\n",
       "       -0.31097492,  1.07061716,  1.12078573,  1.25570243, -1.24197689,\n",
       "        1.42915732, -0.99237639, -0.21458431, -0.09741531,  0.64315937,\n",
       "       -0.11895944,  0.28413729,  0.49793345,  0.38236796,  0.19709972,\n",
       "       -0.89910873, -0.0047272 , -0.03009617,  0.19945654,  0.09665603,\n",
       "       -0.10426942,  0.5933872 , -1.4112946 ,  0.82428838, -0.64746757,\n",
       "        1.60443862,  1.01193444, -0.35535625, -0.97959832, -0.12840136,\n",
       "       -0.69445008, -0.97686177,  1.43154783,  0.56377711,  0.4904748 ,\n",
       "        0.83608603, -1.31328949, -0.28596457, -1.22253818,  0.66788585,\n",
       "        0.18886489, -1.61031915, -1.53409162, -1.35298512,  0.42661947,\n",
       "        2.67241357, -0.11307922, -0.77859986, -0.15554647,  0.81221039,\n",
       "        2.10921983, -0.97885923, -0.06445021, -0.75003967,  0.37144502,\n",
       "        0.44194568, -0.14206758,  1.33942595, -0.53680239, -0.91722219,\n",
       "        1.84168132,  1.62063011, -1.06071725, -0.55087605,  0.20272179,\n",
       "       -1.34632099,  0.28683177,  1.05503593,  1.22734673,  0.73942877])"
      ]
     },
     "execution_count": 40,
     "metadata": {},
     "output_type": "execute_result"
    }
   ],
   "source": [
    "np.random.randn(100)"
   ]
  },
  {
   "cell_type": "code",
   "execution_count": 41,
   "metadata": {},
   "outputs": [],
   "source": [
    "data[:,0]=np.random.randn(100)"
   ]
  },
  {
   "cell_type": "code",
   "execution_count": 42,
   "metadata": {},
   "outputs": [],
   "source": [
    "data[:,1]=np.random.normal(10,5,size=100)"
   ]
  },
  {
   "cell_type": "code",
   "execution_count": 43,
   "metadata": {},
   "outputs": [
    {
     "data": {
      "text/plain": [
       "array([[ 8.30758829e-02,  1.07376840e+01],\n",
       "       [ 4.86496861e-01,  8.75202995e+00],\n",
       "       [-5.96471546e-01,  1.77127442e+01],\n",
       "       [ 5.42351340e-01,  4.45435046e+00],\n",
       "       [ 1.24819644e+00,  1.01111776e+01],\n",
       "       [ 8.64906087e-01,  8.43936990e+00],\n",
       "       [-7.21812731e-01,  5.59671935e+00],\n",
       "       [-1.32801467e+00,  9.48176042e+00],\n",
       "       [ 4.52905515e-01,  1.56447035e+01],\n",
       "       [ 5.44573342e-01,  1.67618606e+01],\n",
       "       [-5.89602629e-01,  8.33578508e+00],\n",
       "       [ 1.38260838e+00,  1.50552965e+01],\n",
       "       [-6.02017225e-01,  3.71958965e+00],\n",
       "       [-2.48840271e-01,  2.17130304e+01],\n",
       "       [-2.86767832e-01,  1.65204939e+01],\n",
       "       [ 1.07942569e+00,  1.34614390e+01],\n",
       "       [ 5.59071058e-01,  1.71449992e+01],\n",
       "       [ 4.42176872e-01,  8.04667778e+00],\n",
       "       [ 2.92536613e-01,  6.07665064e+00],\n",
       "       [-1.82963222e+00,  1.95830666e+01],\n",
       "       [ 1.01995399e-01,  9.04547662e+00],\n",
       "       [ 5.84544543e-01,  9.14215132e+00],\n",
       "       [-1.81311390e+00,  2.37798175e+00],\n",
       "       [-1.69283938e+00,  1.18678312e+01],\n",
       "       [-1.80264900e+00,  1.65424202e+01],\n",
       "       [-1.38909760e+00,  1.64307267e+01],\n",
       "       [-1.04929620e-01,  1.69092337e+01],\n",
       "       [ 1.00056894e+00,  2.47846508e+00],\n",
       "       [ 6.97395121e-01,  5.74500874e+00],\n",
       "       [ 1.55922878e+00,  6.58654844e+00],\n",
       "       [-1.16334132e+00,  1.29513760e+01],\n",
       "       [-8.87252323e-01,  1.68244121e+00],\n",
       "       [ 2.28155436e-02,  7.92937942e+00],\n",
       "       [-1.20347379e+00,  4.57381418e+00],\n",
       "       [ 9.33560088e-01,  9.85939344e+00],\n",
       "       [ 6.99867876e-01,  4.09249393e+00],\n",
       "       [ 1.49333937e+00,  7.07744042e+00],\n",
       "       [-1.70786708e-01,  6.36614570e+00],\n",
       "       [ 2.51375367e-03,  1.80942342e+01],\n",
       "       [ 1.24069351e+00,  7.36162732e+00],\n",
       "       [-7.40707774e-01,  1.20539805e+01],\n",
       "       [ 4.70144363e-01,  5.79099825e+00],\n",
       "       [ 9.35854223e-01,  1.43097563e+01],\n",
       "       [-8.66835315e-02,  7.58801878e+00],\n",
       "       [-3.98310819e-01,  1.09876283e+01],\n",
       "       [ 3.81538218e-01,  4.50430909e+00],\n",
       "       [ 1.51618163e+00,  1.42570890e+01],\n",
       "       [-1.60719453e+00,  9.18790516e+00],\n",
       "       [-1.38116851e+00,  1.96386169e+01],\n",
       "       [ 1.82761192e+00,  1.77676420e+01],\n",
       "       [-6.37264000e-01,  1.21713899e+01],\n",
       "       [ 1.18267550e-01,  1.59973642e+01],\n",
       "       [-5.74324390e-01,  8.38190144e+00],\n",
       "       [ 2.06720862e+00,  6.61325142e+00],\n",
       "       [-8.48811629e-01,  8.78554656e+00],\n",
       "       [ 6.99848356e-01,  1.26041155e+01],\n",
       "       [-5.61506169e-01,  7.06224305e+00],\n",
       "       [ 6.23526524e-02,  1.05775737e+01],\n",
       "       [-1.34774910e+00,  1.14529617e+01],\n",
       "       [ 9.75197248e-01,  1.21998252e+01],\n",
       "       [ 2.27687353e-01,  1.33916774e+01],\n",
       "       [ 7.78026797e-01,  8.11076043e+00],\n",
       "       [ 1.89588014e-01,  1.52288614e+01],\n",
       "       [-2.04454379e+00,  9.00880969e+00],\n",
       "       [ 2.05434953e+00,  7.03102220e+00],\n",
       "       [-2.70304830e-01,  5.56831275e+00],\n",
       "       [ 2.33518113e-01,  1.63783177e+01],\n",
       "       [ 1.52004786e+00,  1.32610182e+01],\n",
       "       [ 8.29794696e-01,  8.12660551e+00],\n",
       "       [-3.55740440e-01,  1.01198265e+01],\n",
       "       [ 2.69247078e-01,  1.62135501e+01],\n",
       "       [-1.54883536e+00,  7.34810634e+00],\n",
       "       [-9.26850833e-01,  8.62911835e-01],\n",
       "       [-1.87488463e-01,  1.14941077e+01],\n",
       "       [ 6.35193674e-03,  4.34897649e+00],\n",
       "       [ 5.84868226e-01,  4.12419306e+00],\n",
       "       [ 1.06607912e+00,  7.24580421e+00],\n",
       "       [-1.62516820e-01,  1.25854825e+01],\n",
       "       [-1.57403221e+00,  2.00983748e+00],\n",
       "       [ 2.51466783e-02,  1.38648200e+01],\n",
       "       [-4.61160640e-03,  1.39757048e+01],\n",
       "       [-3.40327988e-01,  2.27434657e+01],\n",
       "       [ 5.22220553e-01,  1.66403314e+01],\n",
       "       [ 1.23049114e+00,  7.33326679e+00],\n",
       "       [ 3.32821149e-01,  1.73437166e+01],\n",
       "       [-1.62431171e+00,  2.29790662e+00],\n",
       "       [ 7.88554597e-01,  1.29598031e+01],\n",
       "       [ 2.14925476e-01,  1.03048739e+01],\n",
       "       [ 1.56686213e+00,  4.58387225e+00],\n",
       "       [ 1.10099118e-01,  1.06100920e+01],\n",
       "       [-2.43707529e+00,  1.79931535e+01],\n",
       "       [ 1.39736044e+00,  1.15771102e+01],\n",
       "       [ 4.07327572e-01,  1.31459636e+01],\n",
       "       [-3.52525786e-01,  1.09191816e+01],\n",
       "       [-9.49864116e-01,  7.95751912e+00],\n",
       "       [-8.34716137e-01,  1.57608430e+01],\n",
       "       [ 1.85985372e-01,  1.39816476e+01],\n",
       "       [ 3.01490145e-02, -3.92415690e+00],\n",
       "       [-9.51826695e-01,  1.02342687e+01],\n",
       "       [-2.87387346e-01,  1.37941068e+01]])"
      ]
     },
     "execution_count": 43,
     "metadata": {},
     "output_type": "execute_result"
    }
   ],
   "source": [
    "data"
   ]
  },
  {
   "cell_type": "code",
   "execution_count": 46,
   "metadata": {},
   "outputs": [
    {
     "data": {
      "text/plain": [
       "(-2.6622894856668387,\n",
       " 2.2924228162537275,\n",
       " -5.257538030284614,\n",
       " 24.076846821796934)"
      ]
     },
     "execution_count": 46,
     "metadata": {},
     "output_type": "execute_result"
    },
    {
     "data": {
      "image/png": "[encoded data removed]",
      "text/plain": [
       "<Figure size 432x288 with 1 Axes>"
      ]
     },
     "metadata": {
      "needs_background": "light"
     },
     "output_type": "display_data"
    }
   ],
   "source": [
    "plt.scatter(data[:,0],data[:,1],alpha=0.2)\n",
    "plt.axis('equal')# 축들의 스케일을 균등하게"
   ]
  },
  {
   "cell_type": "code",
   "execution_count": null,
   "metadata": {},
   "outputs": [],
   "source": []
  }
 ],
 "metadata": {
  "kernelspec": {
   "display_name": "Python 3",
   "language": "python",
   "name": "python3"
  },
  "language_info": {
   "codemirror_mode": {
    "name": "ipython",
    "version": 3
   },
   "file_extension": ".py",
   "mimetype": "text/x-python",
   "name": "python",
   "nbconvert_exporter": "python",
   "pygments_lexer": "ipython3",
   "version": "3.8.5"
  }
 },
 "nbformat": 4,
 "nbformat_minor": 4
}
