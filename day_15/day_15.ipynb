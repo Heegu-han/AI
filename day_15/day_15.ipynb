{
 "cells": [
  {
   "cell_type": "markdown",
   "metadata": {},
   "source": [
    "# 머신러닝\n",
    "\n",
    "### 사전 연습문제\n",
    "- 아이리스 데이터는 속성이 4개이다. 속성들 간에 산점도를 총 6개 그릴수있따.\n",
    "- 6개의 산점도를 그리시오.\n",
    "- 위 산점도에서 각 춤종별로 색을 다르게 표시해 보시오"
   ]
  },
  {
   "cell_type": "markdown",
   "metadata": {},
   "source": [
    "- 샘플 하나하나를 4차원 공간의 점들로 볼 수 있다.\n",
    "- 첫번째 샘플과 나머지 샘플들간의 거리를 구해보시오.\n",
    "- 모든 점들간의 거리를 구하면 150x150 개의 값을 구할 수 있다. 이를 계산해 보시오."
   ]
  },
  {
   "cell_type": "code",
   "execution_count": 2,
   "metadata": {},
   "outputs": [],
   "source": [
    "import numpy as np\n",
    "import pandas as pd\n",
    "import matplotlib.pyplot as plt"
   ]
  },
  {
   "cell_type": "code",
   "execution_count": 4,
   "metadata": {},
   "outputs": [
    {
     "data": {
      "text/plain": [
       "2.6457513110645907"
      ]
     },
     "execution_count": 4,
     "metadata": {},
     "output_type": "execute_result"
    }
   ],
   "source": [
    "# 거리 공식\n",
    "x1=np.array([1,2,3,4])\n",
    "x2=np.array([0,3,2,2])\n",
    "distance = np.sqrt(((x1-x2)**2).sum())\n",
    "distance"
   ]
  },
  {
   "cell_type": "code",
   "execution_count": null,
   "metadata": {},
   "outputs": [],
   "source": []
  }
 ],
 "metadata": {
  "kernelspec": {
   "display_name": "Python 3",
   "language": "python",
   "name": "python3"
  },
  "language_info": {
   "codemirror_mode": {
    "name": "ipython",
    "version": 3
   },
   "file_extension": ".py",
   "mimetype": "text/x-python",
   "name": "python",
   "nbconvert_exporter": "python",
   "pygments_lexer": "ipython3",
   "version": "3.8.5"
  }
 },
 "nbformat": 4,
 "nbformat_minor": 4
}
